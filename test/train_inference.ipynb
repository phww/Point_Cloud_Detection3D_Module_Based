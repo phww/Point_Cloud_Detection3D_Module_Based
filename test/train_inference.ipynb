{
 "cells": [
  {
   "cell_type": "code",
   "execution_count": 1,
   "metadata": {
    "collapsed": true
   },
   "outputs": [
    {
     "name": "stderr",
     "output_type": "stream",
     "text": [
      "/home/ph/ENV/anaconda3/lib/python3.8/site-packages/setuptools/distutils_patch.py:25: UserWarning: Distutils was imported before Setuptools. This usage is discouraged and may exhibit undesirable behaviors or errors. Please use Setuptools' objects directly or at least import Setuptools first.\n",
      "  warnings.warn(\n"
     ]
    }
   ],
   "source": [
    "import matplotlib.pyplot as plt\n",
    "import numpy as np\n",
    "from basic.utils.run.train import train\n",
    "from basic.utils.common_utils import put_data_to_gpu\n",
    "from basic.utils.run.train import Trainer\n",
    "from basic.utils.vis_utils import VisualWindow\n",
    "import easydict\n",
    "import yaml\n",
    "import torch\n",
    "import os\n",
    "\n",
    "os.environ['CUDA_LAUNCH_BLOCKING'] = '1'"
   ]
  },
  {
   "cell_type": "markdown",
   "source": [
    "读取最高级配置文档，获取TOP config。获取train config"
   ],
   "metadata": {
    "collapsed": false
   }
  },
  {
   "cell_type": "code",
   "execution_count": 2,
   "metadata": {
    "collapsed": false,
    "pycharm": {
     "name": "#%%\n"
    }
   },
   "outputs": [
    {
     "name": "stdout",
     "output_type": "stream",
     "text": [
      "{'BATCH': 4,\n",
      " 'CLASS_NAMES': ['Car'],\n",
      " 'EPOCHS': 150,\n",
      " 'GRAD_NORM_CLIP': 10,\n",
      " 'OPTIMIZER': {'AMSGRAD': False,\n",
      "               'BETAS': [0.9, 0.999],\n",
      "               'LR': 0.003,\n",
      "               'LR_SCHEDULER': None,\n",
      "               'LR_WARMUP': True,\n",
      "               'NAME': 'AdamW',\n",
      "               'WARMUP_EPOCH': 1,\n",
      "               'WARMUP_LR': 1e-05,\n",
      "               'WEIGHT_DECAY': 0.01},\n",
      " 'SAVE_STATE': 10}\n"
     ]
    }
   ],
   "source": [
    "from basic.utils.config_utils import cfg_from_yaml_file\n",
    "from pprint import pprint\n",
    "top_cfg_path = '/home/ph/Desktop/PointCloud/utils_my/basic/model/model_cfg/second.yaml'\n",
    "# with open(top_cfg_path, 'rb') as f:\n",
    "#     top_cfg = easydict.EasyDict(yaml.load(f))\n",
    "top_cfg = cfg_from_yaml_file(top_cfg_path, merge_subconfig=True)\n",
    "train_cfg = top_cfg.TRAIN_CONFIG\n",
    "pprint(train_cfg)"
   ]
  },
  {
   "cell_type": "markdown",
   "source": [
    "# Train"
   ],
   "metadata": {
    "collapsed": false
   }
  },
  {
   "cell_type": "code",
   "execution_count": 3,
   "metadata": {
    "collapsed": false,
    "pycharm": {
     "name": "#%%\n"
    }
   },
   "outputs": [],
   "source": [
    "# train(train_cfg)"
   ]
  },
  {
   "cell_type": "markdown",
   "source": [
    "# Inference\n",
    " 首先读取数据集配置信息，建立测试数据集"
   ],
   "metadata": {
    "collapsed": false
   }
  },
  {
   "cell_type": "code",
   "execution_count": 4,
   "outputs": [
    {
     "name": "stdout",
     "output_type": "stream",
     "text": [
      "{'POST_PROCESSING': {'CONFIDENCE_THRESH': 0.75,\n",
      "                     'EVAL_CONFIG': {'IOU_THRESH': 0.5,\n",
      "                                     'IOU_THRESHES': [0.5,\n",
      "                                                      0.55,\n",
      "                                                      0.6,\n",
      "                                                      0.7,\n",
      "                                                      0.75,\n",
      "                                                      0.8,\n",
      "                                                      0.85,\n",
      "                                                      0.9,\n",
      "                                                      0.95],\n",
      "                                     'KEY_METRIC': 'MAP',\n",
      "                                     'METRIC_NAMES': ['AP', 'MAP'],\n",
      "                                     'OUTPUT_RAW_SCORE': False},\n",
      "                     'NMS_CONFIG': {'nms_post_maxsize': 500,\n",
      "                                    'nms_pre_maxsize': 4096,\n",
      "                                    'nms_thresh': 0.01,\n",
      "                                    'nms_type': 'nms_gpu',\n",
      "                                    'num_topk': 4096}}}\n"
     ]
    }
   ],
   "source": [
    "pprint(top_cfg.INFERENCE_CONFIG)"
   ],
   "metadata": {
    "collapsed": false,
    "pycharm": {
     "name": "#%%\n"
    }
   }
  },
  {
   "cell_type": "code",
   "execution_count": 5,
   "metadata": {
    "collapsed": false,
    "pycharm": {
     "name": "#%%\n"
    }
   },
   "outputs": [
    {
     "data": {
      "text/plain": "{'frame_id': array(['007326', '007463'], dtype='<U6'),\n 'calib': array([<kitti.io.calib_utils.Calibration object at 0x7f30c3665850>,\n        <kitti.io.calib_utils.Calibration object at 0x7f30c37085e0>],\n       dtype=object),\n 'gt_boxes': tensor([[[ 3.6883e+00,  3.1541e+00, -9.6876e-01,  3.6900e+00,  1.7800e+00,\n            1.5000e+00, -1.0796e-02,  1.0000e+00],\n          [ 2.3860e+01, -1.0957e+01, -4.0633e-01,  3.6800e+00,  1.6400e+00,\n            1.4400e+00, -1.6708e+00,  1.0000e+00],\n          [ 0.0000e+00,  0.0000e+00,  0.0000e+00,  0.0000e+00,  0.0000e+00,\n            0.0000e+00,  0.0000e+00,  0.0000e+00],\n          [ 0.0000e+00,  0.0000e+00,  0.0000e+00,  0.0000e+00,  0.0000e+00,\n            0.0000e+00,  0.0000e+00,  0.0000e+00],\n          [ 0.0000e+00,  0.0000e+00,  0.0000e+00,  0.0000e+00,  0.0000e+00,\n            0.0000e+00,  0.0000e+00,  0.0000e+00],\n          [ 0.0000e+00,  0.0000e+00,  0.0000e+00,  0.0000e+00,  0.0000e+00,\n            0.0000e+00,  0.0000e+00,  0.0000e+00]],\n \n         [[ 2.0899e+01,  2.9785e+00, -6.8543e-01,  4.0800e+00,  1.6300e+00,\n            1.7000e+00, -3.1608e+00,  1.0000e+00],\n          [ 8.6104e+00, -2.3733e+00, -8.7539e-01,  2.4700e+00,  1.5900e+00,\n            1.5900e+00, -1.0796e-02,  1.0000e+00],\n          [ 1.3430e+01, -2.4526e+00, -9.4586e-01,  3.2200e+00,  1.5900e+00,\n            1.3700e+00, -7.0796e-02,  1.0000e+00],\n          [ 2.8779e+01,  2.7595e+00, -7.5540e-01,  3.7200e+00,  1.6700e+00,\n            1.4000e+00, -5.0796e-02,  1.0000e+00],\n          [ 4.5740e+01, -2.6372e+00, -6.8017e-01,  3.7400e+00,  1.6100e+00,\n            1.4900e+00, -3.1508e+00,  1.0000e+00],\n          [ 1.4656e+01,  7.1949e+00, -5.2109e-01,  4.4300e+00,  1.6300e+00,\n            1.5900e+00,  1.5692e+00,  1.0000e+00]]], device='cuda:0'),\n 'points': tensor([[ 0.0000e+00,  6.1173e+01,  7.7600e+00,  2.2940e+00,  0.0000e+00],\n         [ 0.0000e+00,  6.1158e+01,  7.9530e+00,  2.2950e+00,  0.0000e+00],\n         [ 0.0000e+00,  3.8971e+01,  5.6200e+00,  1.5410e+00,  1.3000e-01],\n         ...,\n         [ 1.0000e+00,  6.4280e+00, -4.2000e-02, -1.6810e+00,  2.8000e-01],\n         [ 1.0000e+00,  6.4290e+00, -2.2000e-02, -1.6810e+00,  3.2000e-01],\n         [ 1.0000e+00,  6.4250e+00, -2.0000e-03, -1.6790e+00,  3.2000e-01]],\n        device='cuda:0'),\n 'use_lead_xyz': tensor([1., 1.], device='cuda:0'),\n 'image_shape': tensor([[ 370, 1224,    3],\n         [ 375, 1242,    3]], device='cuda:0', dtype=torch.int32),\n 'batch_size': 2}"
     },
     "execution_count": 5,
     "metadata": {},
     "output_type": "execute_result"
    }
   ],
   "source": [
    "from pathlib import Path\n",
    "from kitti.kitti_dataset import get_dataloader\n",
    "cfg_path = Path(\"../kitti/cfg/kitti_dataset.yaml\")\n",
    "dataloader = get_dataloader(data_cfg_path=cfg_path, class_name_list=['Car'], batch_size=2, training=False)\n",
    "for data in dataloader:\n",
    "    test_data = data\n",
    "    break\n",
    "test_data = put_data_to_gpu(test_data)\n",
    "test_data"
   ]
  },
  {
   "cell_type": "markdown",
   "source": [
    "恢复模型：从模型文件恢复或模型权重文件恢复"
   ],
   "metadata": {
    "collapsed": false
   }
  },
  {
   "cell_type": "code",
   "execution_count": 6,
   "outputs": [],
   "source": [
    "from basic.utils.run.train import Predictor\n",
    "# 从模型恢复\n",
    "# model_path = '/home/ph/Desktop/PointCloud/utils_my/basic/utils/run/check_point/2021-11-16::16:32:50/best.pth'\n",
    "# predictor = Predictor(model_path, class_names=['Car'])\n",
    "# 从权重恢复\n",
    "state_path = '/home/ph/Desktop/PointCloud/utils_my/basic/utils/run/check_point/2021-11-16::20:32:43/best.pth'\n",
    "predictor = Predictor(detect_obj_type=['Car'], state_path=state_path, model_cfg=top_cfg)"
   ],
   "metadata": {
    "collapsed": false,
    "pycharm": {
     "name": "#%%\n"
    }
   }
  },
  {
   "cell_type": "markdown",
   "source": [
    "先关闭后处理，直接观察Dense head的输出结果\n",
    " 1. Dense Head输出的结果为：每个anchor对应的bbox以及每个anchor对应的分类得分"
   ],
   "metadata": {
    "collapsed": false
   }
  },
  {
   "cell_type": "code",
   "execution_count": 12,
   "outputs": [
    {
     "data": {
      "text/plain": "{'CONFIDENCE_THRESH': 0.75,\n 'EVAL_CONFIG': {'KEY_METRIC': 'MAP',\n  'METRIC_NAMES': ['AP', 'MAP'],\n  'IOU_THRESH': 0.5,\n  'IOU_THRESHES': [0.5, 0.55, 0.6, 0.7, 0.75, 0.8, 0.85, 0.9, 0.95],\n  'OUTPUT_RAW_SCORE': False},\n 'NMS_CONFIG': {'nms_type': 'nms_gpu',\n  'nms_thresh': 0.01,\n  'num_topk': 4096,\n  'nms_pre_maxsize': 4096,\n  'nms_post_maxsize': 500}}"
     },
     "execution_count": 12,
     "metadata": {},
     "output_type": "execute_result"
    }
   ],
   "source": [
    "from copy import deepcopy\n",
    "post_cfg = deepcopy(top_cfg.INFERENCE_CONFIG.POST_PROCESSING)\n",
    "top_cfg.INFERENCE_CONFIG.POST_PROCESSING = None # 关闭后处理\n",
    "post_cfg"
   ],
   "metadata": {
    "collapsed": false,
    "pycharm": {
     "name": "#%%\n"
    }
   }
  },
  {
   "cell_type": "code",
   "execution_count": 9,
   "outputs": [
    {
     "data": {
      "text/plain": "{'tol_loss': tensor(0.0707, device='cuda:0', grad_fn=<AddBackward0>),\n 'cls_loss': tensor(0.0034, device='cuda:0', grad_fn=<DivBackward0>),\n 'reg_loss': tensor(0.0639, device='cuda:0', grad_fn=<DivBackward0>)}"
     },
     "execution_count": 9,
     "metadata": {},
     "output_type": "execute_result"
    }
   ],
   "source": [
    "loss= predictor.predict_bbox(test_data, eval=False)\n",
    "loss"
   ],
   "metadata": {
    "collapsed": false,
    "pycharm": {
     "name": "#%%\n"
    }
   }
  },
  {
   "cell_type": "code",
   "execution_count": 13,
   "metadata": {
    "collapsed": false,
    "pycharm": {
     "name": "#%%\n"
    }
   },
   "outputs": [
    {
     "name": "stdout",
     "output_type": "stream",
     "text": [
      "proposals shape: torch.Size([2, 70400, 7])\n"
     ]
    }
   ],
   "source": [
    "preds_dict = predictor.predict_bbox(test_data, eval=True)\n",
    "proposal_dict = preds_dict['proposal_dict']\n",
    "print('proposals shape:', proposal_dict['proposals'].shape)"
   ]
  },
  {
   "cell_type": "code",
   "execution_count": 14,
   "metadata": {
    "collapsed": false,
    "pycharm": {
     "name": "#%%\n"
    }
   },
   "outputs": [
    {
     "name": "stdout",
     "output_type": "stream",
     "text": [
      "proposals scores shape: torch.Size([2, 70400, 2])\n"
     ]
    },
    {
     "data": {
      "text/plain": "tensor([[[0.9664, 0.0336],\n         [0.9724, 0.0276],\n         [0.9559, 0.0441],\n         ...,\n         [0.9631, 0.0369],\n         [0.9561, 0.0439],\n         [0.9532, 0.0468]],\n\n        [[0.9664, 0.0336],\n         [0.9724, 0.0276],\n         [0.9559, 0.0441],\n         ...,\n         [0.9631, 0.0369],\n         [0.9561, 0.0439],\n         [0.9532, 0.0468]]], device='cuda:0', grad_fn=<SoftmaxBackward>)"
     },
     "execution_count": 14,
     "metadata": {},
     "output_type": "execute_result"
    }
   ],
   "source": [
    "print('proposals scores shape:', proposal_dict['proposal_scores'].shape)\n",
    "proposal_dict['proposal_scores']"
   ]
  },
  {
   "cell_type": "markdown",
   "source": [
    "绘制原始proposals中，Car分类得分高于0.75的bbox"
   ],
   "metadata": {
    "collapsed": false
   }
  },
  {
   "cell_type": "code",
   "execution_count": 15,
   "metadata": {
    "collapsed": false,
    "pycharm": {
     "name": "#%%\n"
    }
   },
   "outputs": [
    {
     "name": "stdout",
     "output_type": "stream",
     "text": [
      "Using matplotlib backend: Qt5Agg\n"
     ]
    }
   ],
   "source": [
    "%matplotlib auto\n",
    "from kitti.io.kitti_io import KittiIo\n",
    "file_reader = KittiIo(root=\"/home/ph/Dataset/KITTI/training\")\n",
    "for i in range(2):\n",
    "    pos_mask = proposal_dict['proposal_scores'][i, :, 1] > 0.75 # Car得分高于0.75\n",
    "    bbox = proposal_dict['proposals'][i, pos_mask]\n",
    "    mask = test_data['points'][:, 0] == i\n",
    "    w = VisualWindow(mode='3d', file_reader=file_reader)\n",
    "    w.draw_point_cloud(test_data['points'][mask][:, 1:].cpu())\n",
    "    w.draw_boxes3d(test_data['gt_boxes'][..., :-1][i].cpu().numpy(), 'corner')\n",
    "    w.draw_boxes3d(bbox.cpu().detach().numpy(), 'corner', c='r')"
   ]
  },
  {
   "cell_type": "markdown",
   "source": [
    "# Post Process\n",
    " 后处理：处理Dense head输出的原始proposals。主要有两个步骤\n",
    " 1. NMS\n",
    " 2. 计算AP和MAP"
   ],
   "metadata": {
    "collapsed": false
   }
  },
  {
   "cell_type": "markdown",
   "source": [
    "## NMS\n",
    " 先恢复后处理配置\n",
    " 1. perd bbox 与 gt的iou高于0.5就认为为正列\n",
    " 2. 置信度阈值为0.75"
   ],
   "metadata": {
    "collapsed": false
   }
  },
  {
   "cell_type": "code",
   "execution_count": 16,
   "outputs": [
    {
     "data": {
      "text/plain": "{'CONFIDENCE_THRESH': 0.75,\n 'EVAL_CONFIG': {'KEY_METRIC': 'MAP',\n  'METRIC_NAMES': ['AP', 'MAP'],\n  'IOU_THRESH': 0.7,\n  'IOU_THRESHES': [0.5, 0.55, 0.6, 0.7, 0.75, 0.8, 0.85, 0.9, 0.95],\n  'OUTPUT_RAW_SCORE': False},\n 'NMS_CONFIG': {'nms_type': 'nms_gpu',\n  'nms_thresh': 0.01,\n  'num_topk': 4096,\n  'nms_pre_maxsize': 4096,\n  'nms_post_maxsize': 500}}"
     },
     "execution_count": 16,
     "metadata": {},
     "output_type": "execute_result"
    }
   ],
   "source": [
    "top_cfg.INFERENCE_CONFIG['POST_PROCESSING'] = post_cfg\n",
    "top_cfg.INFERENCE_CONFIG.POST_PROCESSING.EVAL_CONFIG.IOU_THRESH = 0.7\n",
    "# top_cfg.INFERENCE_CONFIG.POST_PROCESSING.NMS_CONFIG.nms_thresh = 0.3\n",
    "top_cfg.INFERENCE_CONFIG.POST_PROCESSING"
   ],
   "metadata": {
    "collapsed": false,
    "pycharm": {
     "name": "#%%\n"
    }
   }
  },
  {
   "cell_type": "code",
   "execution_count": 17,
   "outputs": [],
   "source": [
    "from basic.utils.nms_utils import NMS3D\n",
    "nms = NMS3D(**top_cfg.INFERENCE_CONFIG.POST_PROCESSING.NMS_CONFIG,\n",
    "            confidence_thresh=0.75)"
   ],
   "metadata": {
    "collapsed": false,
    "pycharm": {
     "name": "#%%\n"
    }
   }
  },
  {
   "cell_type": "markdown",
   "source": [
    "### Multi classes NMS for Batch\n",
    " NMS的输出统一为列表字典，即list(dict1()，dict2()...,dictn()). 每个字典内保存一个场景、frame的NMS输出结果"
   ],
   "metadata": {
    "collapsed": false
   }
  },
  {
   "cell_type": "code",
   "execution_count": 18,
   "outputs": [],
   "source": [
    "nms_ret = nms.multi_classes_nms_for_batch(bbox_scores=proposal_dict['proposal_scores'],\n",
    "                                          bbox_preds=proposal_dict['proposals'])"
   ],
   "metadata": {
    "collapsed": false,
    "pycharm": {
     "name": "#%%\n"
    }
   }
  },
  {
   "cell_type": "code",
   "execution_count": 19,
   "outputs": [
    {
     "name": "stdout",
     "output_type": "stream",
     "text": [
      "Using matplotlib backend: Qt5Agg\n",
      "#################### frame: 007326 ####################\n",
      "number of predict bbox: 2\n",
      "scores: tensor([0.9845, 0.8865], device='cuda:0', grad_fn=<IndexBackward>)\n",
      "labels: tensor([[1., 1.]], device='cuda:0')\n",
      "#################### frame: 007463 ####################\n",
      "number of predict bbox: 7\n",
      "scores: tensor([0.9908, 0.9640, 0.9561, 0.9402, 0.9098, 0.8992, 0.8170],\n",
      "       device='cuda:0', grad_fn=<IndexBackward>)\n",
      "labels: tensor([[1., 1., 1., 1., 1., 1., 1.]], device='cuda:0')\n"
     ]
    }
   ],
   "source": [
    "%matplotlib auto\n",
    "for i in range(2):\n",
    "    print(\"#\" * 20, \"frame:\", test_data['frame_id'][i], \"#\" * 20)\n",
    "    mask = test_data['points'][:, 0] == i\n",
    "    points = test_data['points'][mask]\n",
    "    bbox = nms_ret[i]['bboxes']\n",
    "    scores = nms_ret[i]['scores']\n",
    "    labels = nms_ret[i]['labels']\n",
    "    print(\"number of predict bbox:\", bbox.shape[0])\n",
    "    print(\"scores:\", scores)\n",
    "    print(\"labels:\", labels.T)\n",
    "    w = VisualWindow(mode='3d', file_reader=file_reader)\n",
    "    w.draw_point_cloud(points[:, 1:-1].cpu())\n",
    "    w.draw_boxes3d(test_data['gt_boxes'][..., :-1][i].cpu().numpy(), 'corner')\n",
    "    w.draw_boxes3d(bbox.cpu().detach().numpy(), 'corner', c='r')"
   ],
   "metadata": {
    "collapsed": false,
    "pycharm": {
     "name": "#%%\n"
    }
   }
  },
  {
   "cell_type": "markdown",
   "source": [
    "### Single class NMS for Batch"
   ],
   "metadata": {
    "collapsed": false
   }
  },
  {
   "cell_type": "code",
   "execution_count": 14,
   "outputs": [
    {
     "data": {
      "text/plain": "[{'bboxes': tensor([[ 1.4179e+01, -6.5328e+00, -7.5928e-01,  3.9185e+00,  1.6594e+00,\n            1.5457e+00,  1.3594e+00],\n          [ 2.1740e+01, -1.7935e+00, -7.5560e-01,  3.9412e+00,  1.6465e+00,\n            1.5299e+00,  3.2808e-02],\n          [ 1.3376e+01, -1.1369e+01, -7.6351e-01,  3.9117e+00,  1.6425e+00,\n            1.5384e+00,  1.2233e+00],\n          [ 3.6167e+01,  1.8038e+00, -7.4910e-01,  3.9217e+00,  1.6404e+00,\n            1.5317e+00, -7.9402e-02],\n          [ 5.1009e+01,  5.0521e+00, -7.5099e-01,  3.8713e+00,  1.6294e+00,\n            1.5277e+00,  1.4147e+00]], device='cuda:0', grad_fn=<IndexBackward>),\n  'scores': tensor([0.9903, 0.9745, 0.9436, 0.9208, 0.8245], device='cuda:0',\n         grad_fn=<IndexBackward>)},\n {'bboxes': tensor([[38.9712, 13.8026, -0.7483,  3.9462,  1.6407,  1.5365, -0.1572]],\n         device='cuda:0', grad_fn=<IndexBackward>),\n  'scores': tensor([0.9061], device='cuda:0', grad_fn=<IndexBackward>)}]"
     },
     "execution_count": 14,
     "metadata": {},
     "output_type": "execute_result"
    }
   ],
   "source": [
    "nms_ret1 = nms.single_class_nms_for_batch(cls_scores=proposal_dict['proposal_scores'][..., -1],\n",
    "                                          bbox_preds=proposal_dict['proposals'])\n",
    "nms_ret1"
   ],
   "metadata": {
    "collapsed": false,
    "pycharm": {
     "name": "#%%\n"
    }
   }
  },
  {
   "cell_type": "markdown",
   "source": [
    "### Multi Classes NMS for Frame"
   ],
   "metadata": {
    "collapsed": false,
    "pycharm": {
     "name": "#%% md\n"
    }
   }
  },
  {
   "cell_type": "code",
   "execution_count": 15,
   "outputs": [
    {
     "data": {
      "text/plain": "{'bboxes': tensor([[38.9712, 13.8026, -0.7483,  3.9462,  1.6407,  1.5365, -0.1572]],\n        device='cuda:0', grad_fn=<CatBackward>),\n 'scores': tensor([0.9061], device='cuda:0', grad_fn=<CatBackward>),\n 'labels': tensor([[1.]], device='cuda:0')}"
     },
     "execution_count": 15,
     "metadata": {},
     "output_type": "execute_result"
    }
   ],
   "source": [
    "nms_ret2 = nms.multi_classes_nms_for_frame(bbox_scores=proposal_dict['proposal_scores'][1],\n",
    "                                           bbox_pred=proposal_dict['proposals'][1])\n",
    "nms_ret2"
   ],
   "metadata": {
    "collapsed": false,
    "pycharm": {
     "name": "#%%\n"
    }
   }
  },
  {
   "cell_type": "markdown",
   "source": [
    "# Recall、Precision、AP\n",
    " 利用NMS输出的结果计算每个场景的Recall、precision、AP、MAP\n",
    " 1. 这里的MAP：每个场景中单一类别在不同IOU_THRESH下的平均AP\n",
    " 2. 每个场景中全部类别的MAP的平均，称为MMAP"
   ],
   "metadata": {
    "collapsed": false,
    "pycharm": {
     "name": "#%% md\n"
    }
   }
  },
  {
   "cell_type": "code",
   "execution_count": 20,
   "outputs": [
    {
     "name": "stdout",
     "output_type": "stream",
     "text": [
      "\n",
      "******************** Frame:007326 ********************\n",
      "scores: tensor([0.9845, 0.8865], device='cuda:0', grad_fn=<IndexBackward>)\n",
      "labels: tensor([[1.],\n",
      "        [1.]], device='cuda:0')\n",
      "recall: [0.  0.5]\n",
      "precision: [0.  0.5]\n",
      "AP: 0.24999999875\n",
      "MAP: 0.02777777763888889\n",
      "\n",
      "******************** Frame:007463 ********************\n",
      "scores: tensor([0.9908, 0.9640, 0.9561, 0.9402, 0.9098, 0.8992, 0.8170],\n",
      "       device='cuda:0', grad_fn=<IndexBackward>)\n",
      "labels: tensor([[1.],\n",
      "        [1.],\n",
      "        [1.],\n",
      "        [1.],\n",
      "        [1.],\n",
      "        [1.],\n",
      "        [1.]], device='cuda:0')\n",
      "recall: [0.14285714 0.28571429 0.42857143 0.57142857 0.71428571 0.71428571\n",
      " 0.71428571]\n",
      "precision: [0.99999999 1.         1.         1.         1.         0.83333333\n",
      " 0.71428571]\n",
      "AP: 0.7142857128571429\n",
      "MAP: 0.23492063445079367\n"
     ]
    }
   ],
   "source": [
    "from basic.metric.average_precision import recall_and_precision, voc_ap, mean_ap\n",
    "import numpy as np\n",
    "for i in range(2):\n",
    "    print()\n",
    "    print(\"*\" * 20, f\"Frame:{test_data['frame_id'][i]}\", \"*\" * 20)\n",
    "    mask = test_data['points'][:, 0] == i\n",
    "    points = test_data['points'][mask]\n",
    "    bbox = nms_ret[i]['bboxes']\n",
    "    scores = nms_ret[i]['scores']\n",
    "    labels = nms_ret[i]['labels']\n",
    "    print(\"scores:\", scores)\n",
    "    print(\"labels:\", labels)\n",
    "    real_mask = test_data['gt_boxes'][i][..., -1] > 0\n",
    "    real_gts = test_data['gt_boxes'][i][real_mask][:, :-1]\n",
    "    recall, pr = recall_and_precision(pred_bboxes=bbox, gts=real_gts, iou_thresh=0.5)\n",
    "    ap = voc_ap(recall, pr)\n",
    "    m_ap = mean_ap(pred_bboxes=bbox, gts=real_gts, iou_threshes=np.arange(0.5, 0.95, 0.05))\n",
    "    print(\"recall:\", recall)\n",
    "    print(\"precision:\", pr)\n",
    "    print(\"AP:\", ap)\n",
    "    print(\"MAP:\", m_ap)\n",
    "    plt.plot(recall, pr)\n",
    "    plt.show()"
   ],
   "metadata": {
    "collapsed": false,
    "pycharm": {
     "name": "#%%\n"
    }
   }
  },
  {
   "cell_type": "markdown",
   "source": [
    "完整的预测，包含Post Process"
   ],
   "metadata": {
    "collapsed": false
   }
  },
  {
   "cell_type": "code",
   "execution_count": 21,
   "outputs": [
    {
     "name": "stdout",
     "output_type": "stream",
     "text": [
      "[{'bboxes': tensor([[ 23.7748, -10.9450,  -0.7620,   3.9227,   1.6540,   1.5439,   1.2276],\n",
      "        [  3.7798,   3.4027,  -0.7485,   3.9461,   1.6369,   1.5294,  -0.1343]],\n",
      "       device='cuda:0', grad_fn=<IndexBackward>),\n",
      "  'eval_dict': {'AP': 0.0, 'MAP': 0.02777777763888889},\n",
      "  'frame_id': '007326',\n",
      "  'labels': tensor([[1.],\n",
      "        [1.]], device='cuda:0'),\n",
      "  'scores': tensor([0.9845, 0.8863], device='cuda:0', grad_fn=<IndexBackward>)},\n",
      " {'bboxes': tensor([[ 1.4588e+01,  7.0640e+00, -7.6193e-01,  3.9151e+00,  1.6595e+00,\n",
      "          1.5482e+00,  1.4365e+00],\n",
      "        [ 1.3754e+01, -2.5938e+00, -7.5852e-01,  3.9502e+00,  1.6483e+00,\n",
      "          1.5303e+00, -6.0096e-02],\n",
      "        [ 2.1355e+01,  3.0027e+00, -7.6004e-01,  3.9437e+00,  1.6492e+00,\n",
      "          1.5361e+00,  2.9144e-03],\n",
      "        [ 2.8956e+01,  2.6022e+00, -7.4678e-01,  3.9359e+00,  1.6433e+00,\n",
      "          1.5373e+00, -1.4129e-02],\n",
      "        [ 4.5765e+01, -2.5992e+00, -7.4511e-01,  3.9257e+00,  1.6401e+00,\n",
      "          1.5370e+00, -3.0017e-02],\n",
      "        [ 9.3551e+00, -2.6120e+00, -7.4281e-01,  3.9229e+00,  1.6377e+00,\n",
      "          1.5280e+00, -7.7339e-03],\n",
      "        [ 6.4588e+01,  3.0042e+00, -7.5293e-01,  3.9315e+00,  1.6381e+00,\n",
      "          1.5358e+00, -2.7571e-01]], device='cuda:0', grad_fn=<IndexBackward>),\n",
      "  'eval_dict': {'AP': 0.11428571405714286, 'MAP': 0.20634920593650793},\n",
      "  'frame_id': '007463',\n",
      "  'labels': tensor([[1.],\n",
      "        [1.],\n",
      "        [1.],\n",
      "        [1.],\n",
      "        [1.],\n",
      "        [1.],\n",
      "        [1.]], device='cuda:0'),\n",
      "  'scores': tensor([0.9908, 0.9638, 0.9559, 0.9400, 0.9095, 0.8975, 0.8166],\n",
      "       device='cuda:0', grad_fn=<IndexBackward>)}]\n"
     ]
    }
   ],
   "source": [
    "predictor = Predictor(detect_obj_type=['Car'], state_path=state_path, model_cfg=top_cfg)\n",
    "final_dict = predictor.predict_bbox(test_data)\n",
    "pprint(final_dict)"
   ],
   "metadata": {
    "collapsed": false,
    "pycharm": {
     "name": "#%%\n"
    }
   }
  },
  {
   "cell_type": "code",
   "execution_count": 17,
   "outputs": [],
   "source": [],
   "metadata": {
    "collapsed": false,
    "pycharm": {
     "name": "#%%\n"
    }
   }
  }
 ],
 "metadata": {
  "interpreter": {
   "hash": "2c90240fc02114321c57955a506498bf4b892517f02ebdece4873864376eba6d"
  },
  "kernelspec": {
   "display_name": "Python 3.8.3 64-bit ('base': conda)",
   "name": "python3"
  },
  "language_info": {
   "codemirror_mode": {
    "name": "ipython",
    "version": 3
   },
   "file_extension": ".py",
   "mimetype": "text/x-python",
   "name": "python",
   "nbconvert_exporter": "python",
   "pygments_lexer": "ipython3",
   "version": "3.8.3"
  }
 },
 "nbformat": 4,
 "nbformat_minor": 0
}