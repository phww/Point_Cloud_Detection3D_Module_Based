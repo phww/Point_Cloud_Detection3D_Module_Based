{
 "cells": [
  {
   "cell_type": "code",
   "execution_count": 1,
   "metadata": {
    "collapsed": true
   },
   "outputs": [
    {
     "name": "stderr",
     "output_type": "stream",
     "text": [
      "/home/ph/ENV/anaconda3/lib/python3.8/site-packages/setuptools/distutils_patch.py:25: UserWarning: Distutils was imported before Setuptools. This usage is discouraged and may exhibit undesirable behaviors or errors. Please use Setuptools' objects directly or at least import Setuptools first.\n",
      "  warnings.warn(\n"
     ]
    }
   ],
   "source": [
    "from basic.utils.run.train import train\n",
    "from basic.utils.common_utils import put_data_to_gpu\n",
    "from basic.utils.run.train import Trainer\n",
    "from basic.utils.vis_utils import VisualWindow\n",
    "import easydict\n",
    "import yaml\n",
    "import torch\n",
    "import os\n",
    "os.environ['CUDA_LAUNCH_BLOCKING'] = '1'"
   ]
  },
  {
   "cell_type": "code",
   "execution_count": 2,
   "metadata": {
    "collapsed": false,
    "pycharm": {
     "name": "#%%\n"
    }
   },
   "outputs": [
    {
     "name": "stderr",
     "output_type": "stream",
     "text": [
      "<ipython-input-2-f49754e0fb5e>:3: YAMLLoadWarning: calling yaml.load() without Loader=... is deprecated, as the default Loader is unsafe. Please read https://msg.pyyaml.org/load for full details.\n",
      "  top_cfg = easydict.EasyDict(yaml.load(f))\n"
     ]
    }
   ],
   "source": [
    "top_cfg_path = '/home/ph/Desktop/PointCloud/utils_my/basic/model/model_cfg/second.yaml'\n",
    "with open(top_cfg_path, 'rb') as f:\n",
    "    top_cfg = easydict.EasyDict(yaml.load(f))\n",
    "train_cfg = top_cfg.TRAIN_CONFIG"
   ]
  },
  {
   "cell_type": "markdown",
   "source": [
    "# Train"
   ],
   "metadata": {
    "collapsed": false
   }
  },
  {
   "cell_type": "code",
   "execution_count": 3,
   "metadata": {
    "collapsed": false,
    "pycharm": {
     "name": "#%%\n"
    }
   },
   "outputs": [],
   "source": [
    "# train(train_cfg)"
   ]
  },
  {
   "cell_type": "markdown",
   "source": [
    "# Inference"
   ],
   "metadata": {
    "collapsed": false
   }
  },
  {
   "cell_type": "code",
   "execution_count": 4,
   "metadata": {
    "collapsed": false,
    "pycharm": {
     "name": "#%%\n"
    }
   },
   "outputs": [
    {
     "name": "stderr",
     "output_type": "stream",
     "text": [
      "/home/ph/Desktop/PointCloud/utils_my/kitti/kitti_dataset.py:30: YAMLLoadWarning: calling yaml.load() without Loader=... is deprecated, as the default Loader is unsafe. Please read https://msg.pyyaml.org/load for full details.\n",
      "  cfg = EasyDict(yaml.load(f))\n"
     ]
    },
    {
     "data": {
      "text/plain": "{'frame_id': array(['006929', '006654'], dtype='<U6'),\n 'gt_boxes': tensor([[[ 42.2162,  16.2627,  -0.6829,   3.6290,   1.6118,   1.5228,   0.3740,\n             1.0000],\n          [ 14.6838,   2.6501,  -0.8175,   4.0246,   1.5525,   1.4734,   0.3640,\n             1.0000],\n          [  5.1481,  -1.0924,  -0.8849,   3.7081,   1.5722,   1.5525,   0.3740,\n             1.0000],\n          [ 13.8693,  17.9889,  -1.2210,   3.8960,   1.4931,   1.5030,  -1.1660,\n             1.0000],\n          [ 11.9078,  23.1901,  -1.2504,   4.1927,   1.5426,   1.5624,  -1.2160,\n             1.0000],\n          [ 19.1566,   4.2201,  -0.8144,   3.5400,   1.4931,   1.5228,   0.3740,\n             1.0000],\n          [ 31.7228,   9.0921,  -0.7385,   3.8861,   1.5327,   1.4734,   0.3840,\n             1.0000],\n          [ 53.5898,  17.3070,  -0.4933,   4.0839,   1.6019,   1.7206,   0.3640,\n             1.0000],\n          [ 34.8650,  21.3092,  -0.8598,   4.1136,   1.5624,   1.4931,  -2.7460,\n             1.0000],\n          [ 41.8953,  24.2359,  -0.7984,   3.8960,   1.6316,   1.4931,  -2.7760,\n             1.0000],\n          [ 20.3264,  16.6535,  -0.4448,   3.4807,   1.4536,   1.4338,  -2.7460,\n             1.0000],\n          [ 19.2317,   7.2146,  -0.8818,   3.3423,   1.6711,   1.3448,   0.3540,\n             1.0000],\n          [ 24.6059,  32.7816,  -0.4714,   3.8861,   1.6612,   1.4041,   0.3540,\n             1.0000],\n          [ 11.4489,  -0.4212,  -0.7350,   3.7576,   1.5426,   1.3646,  -0.4360,\n             1.0000],\n          [ 24.7465,  20.3457,  -1.0707,   4.5783,   1.6316,   1.4338,  -2.8160,\n             1.0000],\n          [ 42.5356,   3.3265,  -0.6699,   3.4708,   1.3448,   1.4635,   0.9540,\n             1.0000]],\n \n         [[  7.3870, -10.0437,  -0.8616,   3.8632,   1.4390,   1.3038,  -1.7747,\n             1.0000],\n          [  9.1751, -11.3129,  -0.8422,   4.4137,   1.5646,   1.2748,  -1.7947,\n             1.0000],\n          [ 12.1000,  -8.6665,  -0.7467,   3.7473,   1.6612,   1.4873,  -1.1047,\n             1.0000],\n          [ 17.0819,  -1.2613,  -0.6877,   3.4286,   1.5453,   1.3521,   0.6453,\n             1.0000],\n          [ 20.2531,   2.2229,  -1.0227,   4.3268,   1.6708,   1.4197,   2.8785,\n             1.0000],\n          [ 31.6194, -15.3233,  -0.4304,   4.0177,   1.5066,   1.3714,  -0.5947,\n             1.0000],\n          [ 18.4655, -10.1783,  -0.4949,   4.0177,   1.5742,   1.4390,  -1.0547,\n             1.0000],\n          [ 31.2467,   4.9106,  -0.9176,   3.1002,   1.4294,   1.4197,   2.7085,\n             1.0000],\n          [ 38.7463, -11.2201,  -0.4580,   3.7762,   1.4970,   1.3811,  -0.3147,\n             1.0000],\n          [ 33.8052,   1.3239,  -0.8027,   3.4769,   1.4873,   1.3618,   1.4485,\n             1.0000],\n          [ 43.1208,  -9.4803,  -0.6734,   3.9694,   1.5453,   1.5260,   2.8185,\n             1.0000],\n          [ 26.6392,   0.5523,  -0.7283,   2.3469,   1.5163,   1.3811,   1.7285,\n             1.0000],\n          [ 35.2460, -33.9023,  -1.8449,   4.1143,   1.3425,   1.6225,   1.3385,\n             1.0000],\n          [  0.0000,   0.0000,   0.0000,   0.0000,   0.0000,   0.0000,   0.0000,\n             0.0000],\n          [  0.0000,   0.0000,   0.0000,   0.0000,   0.0000,   0.0000,   0.0000,\n             0.0000],\n          [  0.0000,   0.0000,   0.0000,   0.0000,   0.0000,   0.0000,   0.0000,\n             0.0000]]], device='cuda:0'),\n 'points': tensor([[ 0.0000,  5.8065,  8.4499, -1.6959,  0.2900],\n         [ 0.0000,  4.3362, -0.5987, -0.7762,  0.3700],\n         [ 0.0000, 20.7091, 20.6751, -1.2677,  0.2000],\n         ...,\n         [ 1.0000, 13.3204,  1.2854,  0.1787,  0.5300],\n         [ 1.0000, 15.1137, -2.1657, -0.2009,  0.4300],\n         [ 1.0000, 13.7394,  0.0264, -0.4143,  0.6700]], device='cuda:0'),\n 'use_lead_xyz': tensor([1., 1.], device='cuda:0'),\n 'image_shape': tensor([[ 375, 1242,    3],\n         [ 375, 1242,    3]], device='cuda:0', dtype=torch.int32),\n 'batch_size': 2}"
     },
     "execution_count": 4,
     "metadata": {},
     "output_type": "execute_result"
    }
   ],
   "source": [
    "from basic.model.second import SECOND\n",
    "from pathlib import Path\n",
    "from kitti.kitti_dataset import get_dataloader\n",
    "\n",
    "cfg_path = Path(\"../kitti/cfg/kitti_dataset.yaml\")\n",
    "dataloader = get_dataloader(data_cfg_path=cfg_path, class_name_list=['Car'], batch_size=2, training=True)\n",
    "for data in dataloader:\n",
    "    test_data = data\n",
    "    break\n",
    "test_data = put_data_to_gpu(test_data)\n",
    "test_data"
   ]
  },
  {
   "cell_type": "code",
   "execution_count": 5,
   "metadata": {
    "collapsed": false,
    "pycharm": {
     "name": "#%%\n"
    }
   },
   "outputs": [
    {
     "name": "stdout",
     "output_type": "stream",
     "text": [
      "Using matplotlib backend: Qt5Agg\n",
      "proposals shape: torch.Size([2, 70400, 7])\n"
     ]
    },
    {
     "data": {
      "text/plain": "tensor([[[ 2.1833e-01, -3.9804e+01, -1.0666e+00,  ...,  1.6960e+00,\n           1.4719e+00, -1.6543e-01],\n         [ 1.5326e-01, -3.9962e+01, -1.1290e+00,  ...,  1.6951e+00,\n           1.5559e+00,  8.9931e-01],\n         [ 2.8201e-01, -3.9423e+01, -1.0453e+00,  ...,  1.7556e+00,\n           1.5455e+00, -8.8625e-03],\n         ...,\n         [ 7.0079e+01,  3.9359e+01, -8.6169e-01,  ...,  1.6644e+00,\n           1.5330e+00, -7.1797e-01],\n         [ 7.0216e+01,  3.9768e+01, -9.0181e-01,  ...,  1.6731e+00,\n           1.5322e+00, -1.4505e+00],\n         [ 7.0126e+01,  3.9930e+01, -9.3869e-01,  ...,  1.6767e+00,\n           1.5150e+00,  4.6419e-02]],\n\n        [[ 2.1833e-01, -3.9804e+01, -1.0666e+00,  ...,  1.6960e+00,\n           1.4719e+00, -1.6543e-01],\n         [ 1.5326e-01, -3.9962e+01, -1.1290e+00,  ...,  1.6951e+00,\n           1.5559e+00,  8.9931e-01],\n         [ 2.8201e-01, -3.9423e+01, -1.0453e+00,  ...,  1.7556e+00,\n           1.5455e+00, -8.8625e-03],\n         ...,\n         [ 7.0090e+01,  3.9377e+01, -8.4800e-01,  ...,  1.6506e+00,\n           1.5362e+00, -7.2066e-01],\n         [ 7.0211e+01,  3.9764e+01, -8.7962e-01,  ...,  1.6670e+00,\n           1.5459e+00, -1.4484e+00],\n         [ 7.0126e+01,  3.9937e+01, -9.2616e-01,  ...,  1.6619e+00,\n           1.5177e+00,  4.6160e-02]]], device='cuda:0',\n       grad_fn=<StackBackward>)"
     },
     "execution_count": 5,
     "metadata": {},
     "output_type": "execute_result"
    }
   ],
   "source": [
    "%matplotlib auto\n",
    "from basic.utils.run.train import Predictor\n",
    "model_path = '/home/ph/Desktop/PointCloud/utils_my/basic/utils/run/check_point/2021-11-09::15:48:57/epoch29.pkl'\n",
    "predictor = Predictor(model_path, class_names=['Car'])\n",
    "# predictor = Predictor(model_path, class_names=['Car'], data_cfg_path=cfg_path, batch_size=2)\n",
    "# predictor.predict_and_visualize()\n",
    "preds_dict = predictor.predict_bbox(test_data, eval=True)\n",
    "print('proposals shape:', preds_dict['proposals'].shape)\n",
    "preds_dict['proposals']"
   ]
  },
  {
   "cell_type": "code",
   "execution_count": 6,
   "metadata": {
    "collapsed": false,
    "pycharm": {
     "name": "#%%\n"
    }
   },
   "outputs": [
    {
     "name": "stdout",
     "output_type": "stream",
     "text": [
      "proposals scores shape: torch.Size([2, 70400, 2])\n"
     ]
    },
    {
     "data": {
      "text/plain": "tensor([[[0.9004, 0.0996],\n         [0.9460, 0.0540],\n         [0.8976, 0.1024],\n         ...,\n         [0.9605, 0.0395],\n         [0.9209, 0.0791],\n         [0.9640, 0.0360]],\n\n        [[0.9004, 0.0996],\n         [0.9460, 0.0540],\n         [0.8976, 0.1024],\n         ...,\n         [0.9558, 0.0442],\n         [0.9128, 0.0872],\n         [0.9599, 0.0401]]], device='cuda:0', grad_fn=<StackBackward>)"
     },
     "execution_count": 6,
     "metadata": {},
     "output_type": "execute_result"
    }
   ],
   "source": [
    "print('proposals scores shape:', preds_dict['proposal_scores'].shape)\n",
    "preds_dict['proposal_scores']"
   ]
  },
  {
   "cell_type": "code",
   "execution_count": 7,
   "outputs": [
    {
     "data": {
      "text/plain": "tensor([[1, 1, 1, 1, 1, 1, 1, 1, 1, 1, 1, 1, 1, 1, 1, 1, 1, 1, 1, 1, 1, 1, 1, 1,\n         1, 1, 1, 1, 1, 1, 1, 1, 1, 1, 1, 1, 1, 1, 1, 1, 1, 1, 1, 1, 1, 1, 1, 1,\n         1, 1, 1, 1, 1, 1, 1, 1, 1, 1, 1, 1, 1, 1, 1, 1, 1, 1, 1, 1, 1, 1, 1, 1,\n         1, 1, 1, 1, 1, 1, 1, 1, 1, 1, 1, 1, 1, 1, 1, 1, 1, 1, 1, 1, 1, 1, 1, 1,\n         1, 1, 1, 1],\n        [1, 1, 1, 1, 1, 1, 1, 1, 1, 1, 1, 1, 1, 1, 1, 1, 1, 1, 1, 1, 1, 1, 1, 1,\n         1, 1, 1, 1, 1, 1, 1, 1, 1, 1, 1, 1, 1, 1, 1, 1, 1, 1, 1, 1, 1, 1, 1, 1,\n         1, 1, 1, 1, 1, 1, 1, 1, 1, 1, 1, 1, 1, 1, 1, 1, 1, 1, 1, 1, 1, 1, 1, 1,\n         1, 1, 1, 1, 1, 1, 1, 1, 1, 1, 1, 1, 1, 1, 1, 1, 1, 1, 1, 1, 1, 1, 1, 1,\n         1, 1, 1, 1]], device='cuda:0')"
     },
     "execution_count": 7,
     "metadata": {},
     "output_type": "execute_result"
    }
   ],
   "source": [
    "preds_dict['proposal_labels']"
   ],
   "metadata": {
    "collapsed": false,
    "pycharm": {
     "name": "#%%\n"
    }
   }
  },
  {
   "cell_type": "code",
   "execution_count": 8,
   "metadata": {
    "collapsed": false,
    "pycharm": {
     "name": "#%%\n"
    }
   },
   "outputs": [],
   "source": [
    "from kitti.io.kitti_io import KittiIo\n",
    "file_reader = KittiIo(root=\"/home/ph/Dataset/KITTI/training\")\n",
    "for i in range(2):\n",
    "    pos_mask = preds_dict['proposal_scores'][i,:,1] > 0.75\n",
    "    bbox = preds_dict['proposals'][i, pos_mask]\n",
    "    mask = test_data['points'][:, 0] == i\n",
    "    w = VisualWindow(mode='3d', file_reader=file_reader)\n",
    "    w.draw_point_cloud(test_data['points'][mask][:, 1:].cpu())\n",
    "    w.draw_boxes3d(test_data['gt_boxes'][...,:-1][i].cpu().numpy(), 'corner')\n",
    "    w.draw_boxes3d(bbox.cpu().detach().numpy(), 'corner', c='r')"
   ]
  },
  {
   "cell_type": "markdown",
   "source": [
    "# Post Process"
   ],
   "metadata": {
    "collapsed": false
   }
  },
  {
   "cell_type": "markdown",
   "source": [
    "## NMS"
   ],
   "metadata": {
    "collapsed": false
   }
  },
  {
   "cell_type": "code",
   "execution_count": 9,
   "outputs": [],
   "source": [
    "from basic.model.detect_model_base import Detect3DBase\n",
    "from basic.utils.nms_utils import NMS3D\n",
    "nms = NMS3D(nms_cfg=top_cfg.INFERENCE_CONFIG.POST_PROCESSING.NMS_CONFIG,\n",
    "            scores_thresh=0.75)"
   ],
   "metadata": {
    "collapsed": false,
    "pycharm": {
     "name": "#%%\n"
    }
   }
  },
  {
   "cell_type": "markdown",
   "source": [],
   "metadata": {
    "collapsed": false
   }
  },
  {
   "cell_type": "code",
   "execution_count": 10,
   "metadata": {
    "collapsed": false,
    "pycharm": {
     "name": "#%%\n"
    }
   },
   "outputs": [],
   "source": [
    "nms_ret = nms.single_class_nms(cls_scores=preds_dict['proposal_scores'][..., -1],bbox_preds=preds_dict['proposals'])"
   ]
  },
  {
   "cell_type": "code",
   "execution_count": 13,
   "outputs": [
    {
     "name": "stdout",
     "output_type": "stream",
     "text": [
      "tensor([0.8726, 0.8637, 0.8469, 0.8400, 0.8297, 0.8183, 0.7993, 0.7805, 0.7718,\n",
      "        0.7696, 0.7625, 0.7556], device='cuda:0', grad_fn=<IndexBackward>)\n",
      "tensor([0.8940, 0.8490, 0.8449, 0.8432, 0.8076, 0.7900, 0.7842, 0.7819, 0.7775,\n",
      "        0.7650], device='cuda:0', grad_fn=<IndexBackward>)\n"
     ]
    }
   ],
   "source": [
    "for i in range(2):\n",
    "    mask = nms_ret[:, 0] == i\n",
    "    bbox = nms_ret[mask, 1:-1]\n",
    "    scores = nms_ret[mask, -1]\n",
    "    print(scores)\n",
    "    mask = test_data['points'][:, 0] == i\n",
    "    w = VisualWindow(mode='3d', file_reader=file_reader)\n",
    "    w.draw_point_cloud(test_data['points'][mask][:, 1:].cpu())\n",
    "    w.draw_boxes3d(test_data['gt_boxes'][...,:-1][i].cpu().numpy(), 'corner')\n",
    "    w.draw_boxes3d(bbox.cpu().detach().numpy(), 'corner', c='r')"
   ],
   "metadata": {
    "collapsed": false,
    "pycharm": {
     "name": "#%%\n"
    }
   }
  }
 ],
 "metadata": {
  "interpreter": {
   "hash": "2c90240fc02114321c57955a506498bf4b892517f02ebdece4873864376eba6d"
  },
  "kernelspec": {
   "display_name": "Python 3.8.3 64-bit ('base': conda)",
   "name": "python3"
  },
  "language_info": {
   "codemirror_mode": {
    "name": "ipython",
    "version": 3
   },
   "file_extension": ".py",
   "mimetype": "text/x-python",
   "name": "python",
   "nbconvert_exporter": "python",
   "pygments_lexer": "ipython3",
   "version": "3.8.3"
  }
 },
 "nbformat": 4,
 "nbformat_minor": 0
}