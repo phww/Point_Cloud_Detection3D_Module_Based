{
 "cells": [
  {
   "cell_type": "code",
   "execution_count": 1,
   "outputs": [],
   "source": [
    "import math\n",
    "import numpy as np\n",
    "import torch\n",
    "from kitti.kitti_dataset import get_dataloader\n",
    "import yaml\n",
    "from easydict import EasyDict\n",
    "from pathlib import Path\n",
    "from basic.utils.vis_utils import VisualWindow\n",
    "# %matplotlib inline\n",
    "torch.cuda.empty_cache()\n",
    "device = 'cuda' if torch.cuda.is_available() else 'cpu'"
   ],
   "metadata": {
    "collapsed": false,
    "pycharm": {
     "name": "#%%\n"
    }
   }
  },
  {
   "cell_type": "markdown",
   "source": [
    "# DataLoader"
   ],
   "metadata": {
    "collapsed": false
   }
  },
  {
   "cell_type": "code",
   "execution_count": 2,
   "outputs": [
    {
     "name": "stderr",
     "output_type": "stream",
     "text": [
      "/home/ph/Desktop/PointCloud/utils_my/kitti/kitti_dataset.py:30: YAMLLoadWarning: calling yaml.load() without Loader=... is deprecated, as the default Loader is unsafe. Please read https://msg.pyyaml.org/load for full details.\n",
      "  cfg = EasyDict(yaml.load(f))\n"
     ]
    }
   ],
   "source": [
    "dataset_cfg_path = Path(\"../kitti/cfg/kitti_dataset.yaml\")\n",
    "batch_size = 4\n",
    "dataloader = get_dataloader(data_cfg_path=dataset_cfg_path, class_name_list=['Car'], batch_size=batch_size)  # 'Pedestrian','Cyclist'"
   ],
   "metadata": {
    "collapsed": false,
    "pycharm": {
     "name": "#%%\n"
    }
   }
  },
  {
   "cell_type": "code",
   "execution_count": null,
   "outputs": [],
   "source": [
    "from basic.utils.common_utils import put_data_to_gpu\n",
    "# 取一批数据用于模块测试\n",
    "for data in dataloader:\n",
    "    test_data = data\n",
    "    break\n",
    "# 单独把某些数据放在GPU中，注意frame_id这种还是为np.ndarray\n",
    "test_data = put_data_to_gpu(test_data)\n",
    "# print(f\"input voxels shape:\", test_data['voxels'].shape)\n",
    "test_data"
   ],
   "metadata": {
    "collapsed": false,
    "pycharm": {
     "name": "#%%\n"
    }
   }
  },
  {
   "cell_type": "markdown",
   "source": [
    "# Model cfg\n",
    "最终的目的是想用字符文档生成模型。但是下面只是单一测试每一个模块\n",
    "- model cfg 中包含各个模块的配置：module cfg\n",
    "- 在模型全局中使用model_info_dict记录一些必要的模型信息\n"
   ],
   "metadata": {
    "collapsed": false
   }
  },
  {
   "cell_type": "code",
   "execution_count": null,
   "outputs": [],
   "source": [
    "from pprint import pprint\n",
    "from basic.utils.config_utils import cfg_from_yaml_file\n",
    "top_cfg = cfg_from_yaml_file('../basic/model/model_cfg/second.yaml')\n",
    "model_cfg = top_cfg.MODEL\n",
    "model_info_dict = {\n",
    "    'module_list': [],\n",
    "    'training': True,\n",
    "}\n",
    "data_infos = dataloader.dataset.get_data_infos()\n",
    "model_info_dict.update(data_infos)\n",
    "pprint(top_cfg)"
   ],
   "metadata": {
    "collapsed": false,
    "pycharm": {
     "name": "#%%\n"
    }
   }
  },
  {
   "cell_type": "code",
   "execution_count": null,
   "outputs": [],
   "source": [
    "pprint(model_cfg)"
   ],
   "metadata": {
    "collapsed": false,
    "pycharm": {
     "name": "#%%\n"
    }
   }
  },
  {
   "cell_type": "markdown",
   "source": [
    "初始模型信息，注意经过每一个模块处理后,更新以下信息。\n",
    "- 更新module_list记录的模块\n",
    "- 当前特征图中每个点的特征维度\n",
    "- 后面模块可能会使用到的当前模块的一些信息"
   ],
   "metadata": {
    "collapsed": false
   }
  },
  {
   "cell_type": "code",
   "execution_count": null,
   "outputs": [],
   "source": [
    "for key, value in model_info_dict.items():\n",
    "    print(f\"{key}:{value}\")"
   ],
   "metadata": {
    "collapsed": false,
    "pycharm": {
     "name": "#%%\n"
    }
   }
  },
  {
   "cell_type": "markdown",
   "source": [
    "# Voxelize Layer"
   ],
   "metadata": {
    "collapsed": false
   }
  },
  {
   "cell_type": "code",
   "execution_count": null,
   "outputs": [],
   "source": [
    "voxelize_cfg = model_cfg.VOXELIZE_LAYER\n",
    "pprint(voxelize_cfg)"
   ],
   "metadata": {
    "collapsed": false,
    "pycharm": {
     "name": "#%%\n"
    }
   }
  },
  {
   "cell_type": "code",
   "execution_count": null,
   "outputs": [],
   "source": [
    "from basic.module.voxelize import VoxelLayer\n",
    "voxelize_cfg = model_cfg.VOXELIZE_LAYER\n",
    "voxelize_module = VoxelLayer(model_info_dict=model_info_dict, **voxelize_cfg).to(device)\n",
    "output = voxelize_module(test_data, keep_points=True)\n",
    "model_info_dict['module_list'].append(voxelize_module)\n",
    "output"
   ],
   "metadata": {
    "collapsed": false,
    "pycharm": {
     "name": "#%%\n"
    }
   }
  },
  {
   "cell_type": "code",
   "execution_count": null,
   "outputs": [],
   "source": [
    "print(output['voxels'].shape)\n",
    "print(output['voxel_coords'].shape)\n",
    "print(output['voxel_num_points'].shape)"
   ],
   "metadata": {
    "collapsed": false,
    "pycharm": {
     "name": "#%%\n"
    }
   }
  },
  {
   "cell_type": "code",
   "execution_count": null,
   "outputs": [],
   "source": [
    "print(voxelize_module.grid_size)\n",
    "print(voxelize_module.voxel_size)"
   ],
   "metadata": {
    "collapsed": false,
    "pycharm": {
     "name": "#%%\n"
    }
   }
  },
  {
   "cell_type": "markdown",
   "source": [
    "# Feature Extractor/Encoding Module\n",
    "点云特征提取模块目的是：从无序的原始点云数据中提取出有序的初步特征,或者说找到一种方式编码原始点云，\n",
    "令其有序。其实就是把原始点云转换为有序的张量矩阵\n",
    "常见PointNet的方式，就是为了提取有序的初步特征；而体素的方式，是为了用体素这种格式编码原始点云，令其有序\n",
    "为什么要这样做？我的理解是，现有CNN只能处理有序的张量！！！不管是3d卷积还是2d卷积\n",
    "\n"
   ],
   "metadata": {
    "collapsed": false
   }
  },
  {
   "cell_type": "markdown",
   "source": [
    "Voxel Feature Extractor(VFE)\n",
    "- 提取体素级别的特征\n",
    "输入：体素，以及体素相关的信息\n",
    "输出：提取的体素特征\n",
    "- Mean VFE：取每个体素内所有点的平均值作为输出特征\n",
    "- MLP VFE:对每个体素内的点集，做类似PointNet的操作。即用MLP + Max pooling 提取点集的特征"
   ],
   "metadata": {
    "collapsed": false
   }
  },
  {
   "cell_type": "code",
   "execution_count": null,
   "outputs": [],
   "source": [
    "fe_cfg = model_cfg.FEATURE_EXTRACTOR\n",
    "pprint(fe_cfg)"
   ],
   "metadata": {
    "collapsed": false,
    "pycharm": {
     "name": "#%%\n"
    }
   }
  },
  {
   "cell_type": "code",
   "execution_count": null,
   "outputs": [],
   "source": [
    "#mean vfe\n",
    "from basic.module.feature_extractor import MeanVFE\n",
    "mean_vfe_module = MeanVFE(model_info_dict, **fe_cfg).cuda()\n",
    "output = mean_vfe_module(output)\n",
    "model_info_dict['module_list'].append(mean_vfe_module)\n",
    "print(f\"Mean VFE： voxel_features shape:\", output['voxel_features'].shape)\n",
    "output"
   ],
   "metadata": {
    "collapsed": false,
    "pycharm": {
     "name": "#%%\n"
    }
   }
  },
  {
   "cell_type": "markdown",
   "source": [],
   "metadata": {
    "collapsed": false,
    "pycharm": {
     "name": "#%% md\n"
    }
   }
  },
  {
   "cell_type": "code",
   "execution_count": null,
   "outputs": [],
   "source": [
    "print(f\"current model infos:\")\n",
    "for key, value in model_info_dict.items():\n",
    "    print(f\"{key}:{value}\")"
   ],
   "metadata": {
    "collapsed": false,
    "pycharm": {
     "name": "#%%\n"
    }
   }
  },
  {
   "cell_type": "code",
   "execution_count": null,
   "outputs": [],
   "source": [
    "# mlp vfe just test\n",
    "from basic.module.feature_extractor import MlpVFE\n",
    "cfg = {'mlp_dims': [32, 64, 64, 128, 128],\n",
    "       'input_channels': 4}\n",
    "mlp_vfe_module = MlpVFE(cfg).cuda()\n",
    "t = mlp_vfe_module(test_data)\n",
    "print(f\"Mlp VFE： voxel_features shape:\", t.shape)"
   ],
   "metadata": {
    "collapsed": false,
    "pycharm": {
     "name": "#%%\n"
    }
   }
  },
  {
   "cell_type": "markdown",
   "source": [
    "Point Feature Extractor(PFE)\n",
    "- 直接提取原始点云的特征\n",
    "- 代表方法PointNet++的SetAbstract layer"
   ],
   "metadata": {
    "collapsed": false
   }
  },
  {
   "cell_type": "code",
   "execution_count": null,
   "outputs": [],
   "source": [
    "#todo"
   ],
   "metadata": {
    "collapsed": false,
    "pycharm": {
     "name": "#%%\n"
    }
   }
  },
  {
   "cell_type": "markdown",
   "source": [
    "# Backbone3D\n",
    "- 经过原始点云的特征提取/编码后，一般会得到B,C,VH,VW,VD的体素张量特征矩阵。或B,C,H,W的点云特征张量矩阵。\n",
    "根据特征张量维度选择用3D卷积还是2D卷积网络来进一步提取特征。\n",
    "- 因为体素张量特征矩阵非常稀疏，多使用稀疏卷积。使用spconv库来进行稀疏3D卷积"
   ],
   "metadata": {
    "collapsed": false
   }
  },
  {
   "cell_type": "code",
   "execution_count": null,
   "outputs": [],
   "source": [
    "back3d_cfg = model_cfg.BACKBONE3D\n",
    "pprint(back3d_cfg)"
   ],
   "metadata": {
    "collapsed": false,
    "pycharm": {
     "name": "#%%\n"
    }
   }
  },
  {
   "cell_type": "code",
   "execution_count": null,
   "outputs": [],
   "source": [
    "from basic.module.backbone3d import VoxelBackBone8x\n",
    "backbone3d_module = VoxelBackBone8x(model_info_dict, **back3d_cfg).cuda()\n",
    "output = backbone3d_module(output)\n",
    "model_info_dict['module_list'].append(backbone3d_module)\n",
    "print(f\"spconv_tensor_shape:\", output['sp_feat3d'].dense().shape)\n",
    "output"
   ],
   "metadata": {
    "collapsed": false,
    "pycharm": {
     "name": "#%%\n"
    }
   }
  },
  {
   "cell_type": "code",
   "execution_count": null,
   "outputs": [],
   "source": [
    "print(f\"current model infos:\")\n",
    "for key, value in model_info_dict.items():\n",
    "    print(f\"{key}:{value}\")"
   ],
   "metadata": {
    "collapsed": false,
    "pycharm": {
     "name": "#%%\n"
    }
   }
  },
  {
   "cell_type": "markdown",
   "source": [
    "# NECK\n",
    "BackBone3D提取的特征向量依然处于3维空间内。目前一般不会在3维空间内提取ROIs。因为3DNMS，3DIOU等都很麻烦....。\n",
    "因此直接在前视图FOV或在鸟瞰图BEV上提取ROIs。为此需要将3d特征转换为2d特征。\n",
    "- 常用的Neck：\n",
    "直接压缩：比如将B,C,D,H,W的特征压缩为B，C*H，D,W,此时的特征图可以认为是BEV视角下的二维特征图"
   ],
   "metadata": {
    "collapsed": false
   }
  },
  {
   "cell_type": "code",
   "execution_count": null,
   "outputs": [],
   "source": [
    "neck_cfg = model_cfg.NECK\n",
    "pprint(neck_cfg)"
   ],
   "metadata": {
    "collapsed": false,
    "pycharm": {
     "name": "#%%\n"
    }
   }
  },
  {
   "cell_type": "code",
   "execution_count": null,
   "outputs": [],
   "source": [
    "from basic.module.neck import DimCompression\n",
    "neck_module = DimCompression(model_info_dict=model_info_dict, **neck_cfg)\n",
    "output = neck_module(output)\n",
    "model_info_dict['module_list'].append(neck_module)\n",
    "print(\"直接压缩\", output['dense_feat2d'].shape)\n",
    "output"
   ],
   "metadata": {
    "collapsed": false,
    "pycharm": {
     "name": "#%%\n"
    }
   }
  },
  {
   "cell_type": "code",
   "execution_count": null,
   "outputs": [],
   "source": [
    "print(f\"current model infos:\")\n",
    "for key, value in model_info_dict.items():\n",
    "    print(f\"{key}:{value}\")"
   ],
   "metadata": {
    "collapsed": false,
    "pycharm": {
     "name": "#%%\n"
    }
   }
  },
  {
   "cell_type": "markdown",
   "source": [
    "# Backbone2D\n",
    "与BackBone3D一样，根据输入的张量维度。选择用2D卷积网络提取特征。通常如果使用NECK 模块将3维空间内的特征压缩为2维空间的特征后\n",
    "也会再次使用2D的卷积网络再次提取特征。"
   ],
   "metadata": {
    "collapsed": false
   }
  },
  {
   "cell_type": "code",
   "execution_count": null,
   "outputs": [],
   "source": [
    "backbone2d_cfg = model_cfg.BACKBONE2D\n",
    "pprint(backbone2d_cfg)"
   ],
   "metadata": {
    "collapsed": false,
    "pycharm": {
     "name": "#%%\n"
    }
   }
  },
  {
   "cell_type": "code",
   "execution_count": null,
   "outputs": [],
   "source": [
    "from basic.module.backbone2d import SECONDFPN\n",
    "backbone2d = SECONDFPN(model_info_dict, **backbone2d_cfg).cuda()\n",
    "output = backbone2d(output)\n",
    "model_info_dict['module_list'].append(backbone2d)\n",
    "output"
   ],
   "metadata": {
    "collapsed": false,
    "pycharm": {
     "name": "#%%\n"
    }
   }
  },
  {
   "cell_type": "code",
   "execution_count": null,
   "outputs": [],
   "source": [
    "output['dense_feat2d'].shape"
   ],
   "metadata": {
    "collapsed": false,
    "pycharm": {
     "name": "#%%\n"
    }
   }
  },
  {
   "cell_type": "code",
   "execution_count": null,
   "outputs": [],
   "source": [
    "print(f\"current model infos:\")\n",
    "for key, value in model_info_dict.items():\n",
    "    print(f\"{key}:{value}\")"
   ],
   "metadata": {
    "collapsed": false,
    "pycharm": {
     "name": "#%%\n"
    }
   }
  },
  {
   "cell_type": "code",
   "execution_count": null,
   "outputs": [],
   "source": [
    "# from basic.module.backbone2d.base_bev_backbone import BaseBEVBackbone\n",
    "# backbone2d_cfg = model_cfg.MODEL.BACKBONE2D\n",
    "# backbone2d = BaseBEVBackbone(backbone2d_cfg, model_info_dict).cuda()\n",
    "# output = backbone2d(output)\n",
    "# output['spatial_features_2d'].shape"
   ],
   "metadata": {
    "collapsed": false,
    "pycharm": {
     "name": "#%%\n"
    }
   }
  },
  {
   "cell_type": "markdown",
   "source": [
    "截止目前为止：输入点云的shape变化为\n",
    "- 原始点云->体素：183149, 5, 4\n",
    "- VFE：183149, 4\n",
    "- BackBone3D：B， 128， 2， 200， 176\n",
    "- neck：B，256，200，176\n",
    "- BackBone2D：B，512，200，176，shape未变因为卷积过后，又转置卷积回了原始大小\n",
    "经过上面的各个模块，从原始点云中获取了能代表该点云的二维特征图。接下来是3D目标识别中最重要的部分：Dense Head 与 ROI head。"
   ],
   "metadata": {
    "collapsed": false
   }
  },
  {
   "cell_type": "markdown",
   "source": [
    "anchor generator（一）\n",
    "- 枚举7种anchor可能用到的特征，即x，y，z，h，w，l，r。然后通过mesh gird产生所有anchors。其中根据anchor中心坐标xyz的取法不同又分为Range和Stride两种方案\n",
    "    - Range：在点云范围内，给定每个轴的取值范围。每个轴按照特征图中对应的维度平均划分这些轴。比如特征图对应X轴的维度大小为176，就在X轴范围内平均划分176个。\n",
    "    - Stride：给定xyz坐标下的原点坐标，分别以x stride，y stride，z stride沿着各个轴的正方向按步长获得anchor中心坐标xyz。\n",
    "    - 代码接口虽然可以自定义Range和Stride。但是为了将特征图上的每个特征点与原图上的每个anchor关联起来，一定要平均划分！！即Range取值为点云的范围，而Stride取值为\n",
    "  点云采样范围 / 特征图大小。即\\[z_stride, x_stride, y_stride\\]=\\[z_len, x_len, y_len\\] / \\[H, W, L\\]。这样看按Range还是Stride的方案取得的结果应该差距不大。。。\n",
    "    - 实际上就是把特征图上的每个特征点，映射回了原始数据上对应区域的中心？假如原始点云下采样了8倍得到特征图，则特征图中\\[0,0,0\\]点对应原点云（点云原点坐标为000）中以\\[8,8,8\\]为中心，边长为8的正方形区域？"
   ],
   "metadata": {
    "collapsed": false
   }
  },
  {
   "cell_type": "code",
   "execution_count": null,
   "outputs": [],
   "source": [
    "# anchor generator config\n",
    "anchor_gen_cfg = model_cfg.DENSE_HEAD.ANCHOR_GENERATOR_CONFIG\n",
    "pprint(anchor_gen_cfg)"
   ],
   "metadata": {
    "collapsed": false,
    "pycharm": {
     "name": "#%%\n"
    }
   }
  },
  {
   "cell_type": "code",
   "execution_count": null,
   "outputs": [],
   "source": [
    "from basic.module.dense_head.anchor_generator.anchor_gen_base import AnchorGenerator\n",
    "anchor_generator = AnchorGenerator(anchor_gen_cfg, model_info_dict, class_type='Car', dtype=torch.float32)\n",
    "anchors = anchor_generator.gen_anchors(flatten_output=False, feature_map_size=np.array([1, 200, 178]))\n",
    "print(\"Range anchors shape:\", anchors.shape)\n",
    "print(\"Range stride:\", anchors[1, 1] - anchors[0, 0])\n",
    "print(\"begin:\", anchors[0, 0])\n",
    "print(\"end:\", anchors[-1, -1])"
   ],
   "metadata": {
    "collapsed": false,
    "pycharm": {
     "name": "#%%\n"
    }
   }
  },
  {
   "cell_type": "markdown",
   "source": [],
   "metadata": {
    "collapsed": false
   }
  },
  {
   "cell_type": "code",
   "execution_count": null,
   "outputs": [],
   "source": [
    "anchor_generator.set_mode('Stride')\n",
    "anchors = anchor_generator.gen_anchors(flatten_output=False, feature_map_size=np.array([1, 200, 178]))\n",
    "print(\"stride:\", anchor_generator.stride)\n",
    "print(\"Stride anchors shape:\", anchors.shape)\n",
    "print(\"begin:\", anchors[0, 0])\n",
    "print(\"end:\", anchors[-1, -1])\n",
    "final_anchors = anchors.view(-1, 7)\n",
    "print(\"output anchor shape:\", final_anchors.shape)"
   ],
   "metadata": {
    "collapsed": false,
    "pycharm": {
     "name": "#%%\n"
    }
   }
  },
  {
   "cell_type": "markdown",
   "source": [
    "1.注意输出anchors的shape为176, 200, 1, 1, 2, 7。最后一个维度代表anchor的特征向量xyzlwhr，\n",
    "其他维度分别与x y z size rot的可枚举数量一致.当然最后输出的shape为(176x200x1x1x2, 7)\n",
    "2.在对齐体素中心的情况下，Range和Stride两种方案的结果都是一样的。假如点云的x轴范围为\\[0, 70.4\\]，\n",
    "而x轴对应的维度在特征图上大小为176.则均分后相邻点的距离为70.4 / 176 = 0.4。Range和Stride\n",
    "枚举X坐标的核心代码如下"
   ],
   "metadata": {
    "collapsed": false
   }
  },
  {
   "cell_type": "code",
   "execution_count": null,
   "outputs": [],
   "source": [
    "ranges = torch.linspace(0, 70.4, 176)\n",
    "range_align_center = torch.linspace(0 + 0.2, 70.4 - 0.2, 176)\n",
    "stride = torch.arange(0, 176) * 0.4\n",
    "stride_align_center = stride + 0.4 / 2"
   ],
   "metadata": {
    "collapsed": false,
    "pycharm": {
     "name": "#%%\n"
    }
   }
  },
  {
   "cell_type": "code",
   "execution_count": null,
   "outputs": [],
   "source": [
    "anchor_generator.set_mode('Range')"
   ],
   "metadata": {
    "collapsed": false,
    "pycharm": {
     "name": "#%%\n"
    }
   }
  },
  {
   "cell_type": "markdown",
   "source": [
    "随机绘制100个anchor box看看\n",
    "- 明显anchor 产生的全部BBox能覆盖整个点云cube范围"
   ],
   "metadata": {
    "collapsed": false
   }
  },
  {
   "cell_type": "code",
   "execution_count": null,
   "outputs": [],
   "source": [
    "%matplotlib auto\n",
    "anchors = anchor_generator.gen_anchors(flatten_output=True, feature_map_size=np.array([1, 200, 178]))\n",
    "w = VisualWindow(mode='3d')\n",
    "points = test_data['points']\n",
    "test_pc = points[points[:, 0] == 0][:, 1:]\n",
    "w.draw_point_cloud(pc=test_pc.cpu().numpy())\n",
    "sample_ids = torch.randperm(anchors.size(0))[:100]\n",
    "w.draw_boxes3d(boxes=anchors[sample_ids].cpu().numpy(), format='corner')"
   ],
   "metadata": {
    "collapsed": false,
    "pycharm": {
     "name": "#%%\n"
    }
   }
  },
  {
   "cell_type": "markdown",
   "source": [
    "anchor generator（二）\n",
    "- 在xyz坐标原点生成基本的anchors，然后通过stride。移动这些anchors"
   ],
   "metadata": {
    "collapsed": false
   }
  },
  {
   "cell_type": "markdown",
   "source": [
    "MultiClass Generator\n",
    "在同一feature map上为每种类别生成对应的anchor。输出\\[class_dim，xdim，ydim，zdim，size_dim,rot_dim,7\\]"
   ],
   "metadata": {
    "collapsed": false
   }
  },
  {
   "cell_type": "markdown",
   "source": [],
   "metadata": {
    "collapsed": false
   }
  },
  {
   "cell_type": "code",
   "execution_count": null,
   "outputs": [],
   "source": [
    "# from basic.module.dense_head.anchor_generator.anchor_gen_base import MultiClsAnchorGenerator\n",
    "# mul_generator = MultiClsAnchorGenerator(anchor_gen_cfg, model_info_dict,\n",
    "#                                         feature_map_size=np.array([1, 200, 178],\n",
    "#                                         cls_list=['Car', 'Pedestrian', 'Cyclist'])\n",
    "# all_anchors = mul_generator.gen_anchors(flatten_output=False)\n",
    "# print(\"class_dim，xdim，ydim，zdim，size_dim,rot_dim,7:\", all_anchors.shape)\n",
    "# print(\"Car:\", all_anchors[0, 0, 0])\n",
    "# print(\"Pedestrian:\", all_anchors[1, 0, 0])\n",
    "# print(\"Cyclist\", all_anchors[2, 0, 0])"
   ],
   "metadata": {
    "collapsed": false,
    "pycharm": {
     "name": "#%%\n"
    }
   }
  },
  {
   "cell_type": "markdown",
   "source": [],
   "metadata": {
    "collapsed": false
   }
  },
  {
   "cell_type": "markdown",
   "source": [
    "Target assigner\n",
    "目的：1.训练时，为每个anchor指定类别标签和Boxes偏移量标签；\n",
    "输入：1.Anchors\\[K,7\\];2.Ground Truth Boxes\\[B,N,8\\],其中8=xyzhwlr+class_ind"
   ],
   "metadata": {
    "collapsed": false
   }
  },
  {
   "cell_type": "code",
   "execution_count": null,
   "outputs": [],
   "source": [
    "print(\"gt_box_temp:\", test_data['gt_boxes'][0, 0])\n",
    "assigner_cfg = model_cfg.DENSE_HEAD.TARGET_ASSIGNER_CONFIG\n",
    "pprint(assigner_cfg)"
   ],
   "metadata": {
    "collapsed": false,
    "pycharm": {
     "name": "#%%\n"
    }
   }
  },
  {
   "cell_type": "code",
   "execution_count": null,
   "outputs": [],
   "source": [
    "for key, value in model_info_dict.items():\n",
    "    if key != 'module_list':\n",
    "        print(key, value)"
   ],
   "metadata": {
    "collapsed": false,
    "pycharm": {
     "name": "#%%\n"
    }
   }
  },
  {
   "cell_type": "code",
   "execution_count": null,
   "outputs": [],
   "source": [
    "from basic.module.dense_head.target_assigner import MaxIouTargetAssigner\n",
    "target_assigner = MaxIouTargetAssigner(assigner_cfg, model_info_dict)"
   ],
   "metadata": {
    "collapsed": false,
    "pycharm": {
     "name": "#%%\n"
    }
   }
  },
  {
   "cell_type": "code",
   "execution_count": null,
   "outputs": [],
   "source": [
    "import os\n",
    "os.environ['CUDA_LAUNCH_BLOCKING'] = \"1\"\n",
    "print(\"labels:\", test_data['gt_boxes'][:, :, -1])"
   ],
   "metadata": {
    "collapsed": false,
    "pycharm": {
     "name": "#%%\n"
    }
   }
  },
  {
   "cell_type": "code",
   "execution_count": null,
   "outputs": [],
   "source": [
    "# all_anchors = mul_generator.gen_anchors(flatten_output=True).cuda()\n",
    "all_anchors = anchor_generator.gen_anchors(flatten_output=True, feature_map_size=np.array([1, 200, 178])).to(device)\n",
    "target_assigner.force_match = True\n",
    "# target_dict, batch_bbox_id_dict = target_assigner.assign(gts=test_data['gt_boxes'][..., :-1], bboxes=all_anchors, gt_labels=test_data['gt_boxes'][:, :, -1])\n",
    "assign_ret = target_assigner.assign(gts=test_data['gt_boxes'][..., :-1], bboxes=all_anchors, gt_labels=test_data['gt_boxes'][..., -1])"
   ],
   "metadata": {
    "collapsed": false,
    "pycharm": {
     "name": "#%%\n"
    }
   }
  },
  {
   "cell_type": "code",
   "execution_count": null,
   "outputs": [],
   "source": [
    "pos_tuples = assign_ret.pos_tuples\n",
    "neg_tuples = assign_ret.neg_tuples\n",
    "pos_tuples"
   ],
   "metadata": {
    "collapsed": false,
    "pycharm": {
     "name": "#%%\n"
    }
   }
  },
  {
   "cell_type": "code",
   "execution_count": null,
   "outputs": [],
   "source": [
    "t1, t2 = torch.where(assign_ret.pos_tuples_dense >= 0)\n",
    "print(t1)\n",
    "print(t1 == pos_tuples[:, 0])\n",
    "print(t2)\n",
    "print(t2 == pos_tuples[:, 2])"
   ],
   "metadata": {
    "collapsed": false,
    "pycharm": {
     "name": "#%%\n"
    }
   }
  },
  {
   "cell_type": "code",
   "execution_count": null,
   "outputs": [],
   "source": [
    "t = assign_ret.bbox_targets.nonzero()[:, :2].unique(dim=0)\n",
    "print(t)\n",
    "print(t[:,0] == pos_tuples[:, 0])\n",
    "print(t[:,1] == pos_tuples[:, 2])"
   ],
   "metadata": {
    "collapsed": false,
    "pycharm": {
     "name": "#%%\n"
    }
   }
  },
  {
   "cell_type": "code",
   "execution_count": null,
   "outputs": [],
   "source": [
    "t = torch.where(assign_ret.bbox_weights == 1)[1]\n",
    "print(t)\n",
    "print(t == pos_tuples[:, -1])"
   ],
   "metadata": {
    "collapsed": false,
    "pycharm": {
     "name": "#%%\n"
    }
   }
  },
  {
   "cell_type": "code",
   "execution_count": null,
   "outputs": [],
   "source": [
    "t = torch.where(assign_ret.cls_weights == 1)\n",
    "print(t[1].sort()[0])\n",
    "torch.cat([ pos_tuples[:, -1], neg_tuples[: ,-1]]).sort()[0]"
   ],
   "metadata": {
    "collapsed": false,
    "pycharm": {
     "name": "#%%\n"
    }
   }
  },
  {
   "cell_type": "markdown",
   "source": [
    "可视化每个场景中，通过target assign匹配的anchor bbox"
   ],
   "metadata": {
    "collapsed": false,
    "pycharm": {
     "name": "#%% md\n"
    }
   }
  },
  {
   "cell_type": "code",
   "execution_count": null,
   "outputs": [],
   "source": [
    "%matplotlib auto\n",
    "batch_bbox = assign_ret.pos_tuples\n",
    "batch_ids = batch_bbox[:, 0]\n",
    "bbox_ids = batch_bbox[:, 2]\n",
    "points = test_data['points']\n",
    "for i in range(batch_size):\n",
    "    mask = batch_ids == i\n",
    "    frame_bbox_ids = bbox_ids[mask]\n",
    "    if frame_bbox_ids.size(0) > 0:\n",
    "        print(frame_bbox_ids)\n",
    "        frame_pc = points[points[:, 0] == i][:, 1:]\n",
    "        frame_bbox = all_anchors[frame_bbox_ids]\n",
    "        frame_gt = test_data['gt_boxes'][i]\n",
    "        w = VisualWindow(mode='3d')\n",
    "        w.draw_point_cloud(frame_pc.cpu().numpy())\n",
    "        w.draw_boxes3d(frame_gt[:,:7].cpu().numpy())\n",
    "        w.draw_boxes3d(frame_bbox.cpu().numpy(), 'corner', c='r')\n",
    "        # break"
   ],
   "metadata": {
    "collapsed": false,
    "pycharm": {
     "name": "#%%\n"
    }
   }
  },
  {
   "cell_type": "markdown",
   "source": [
    "上面所有子模块组成基于anchor的Dense head：anchor head"
   ],
   "metadata": {
    "collapsed": false
   }
  },
  {
   "cell_type": "code",
   "execution_count": null,
   "outputs": [],
   "source": [
    "dense_head_cfg = model_cfg.DENSE_HEAD\n",
    "pprint(dense_head_cfg)"
   ],
   "metadata": {
    "collapsed": false,
    "pycharm": {
     "name": "#%%\n"
    }
   }
  },
  {
   "cell_type": "code",
   "execution_count": null,
   "outputs": [],
   "source": [
    "from basic.module.dense_head.anchor_head.anchor3d_head import Anchor3DHead\n",
    "anchor_head = Anchor3DHead(top_cfg, model_info_dict).to(device)\n",
    "output_dict = anchor_head(output)\n",
    "output_dict"
   ],
   "metadata": {
    "collapsed": false,
    "pycharm": {
     "name": "#%%\n"
    }
   }
  },
  {
   "cell_type": "markdown",
   "source": [
    "最后直接用模型配置文档生成SECOND模型"
   ],
   "metadata": {
    "collapsed": false
   }
  },
  {
   "cell_type": "code",
   "execution_count": null,
   "outputs": [],
   "source": [
    "from basic.model.second import SECOND\n",
    "data_infos = dataloader.dataset.get_data_infos()\n",
    "model = SECOND(top_cfg, data_infos).cuda()"
   ],
   "metadata": {
    "collapsed": false,
    "pycharm": {
     "name": "#%%\n"
    }
   }
  },
  {
   "cell_type": "code",
   "execution_count": null,
   "outputs": [],
   "source": [
    "loss = model(test_data)\n",
    "loss['tol_loss']"
   ],
   "metadata": {
    "collapsed": false,
    "pycharm": {
     "name": "#%%\n"
    }
   }
  },
  {
   "cell_type": "markdown",
   "source": [
    "IOU"
   ],
   "metadata": {
    "collapsed": false
   }
  },
  {
   "cell_type": "code",
   "execution_count": null,
   "outputs": [],
   "source": [
    "s = torch.randn(10, 1000, 4)\n",
    "max_s,arg_s = s.max(dim=-1)\n",
    "_,topk = max_s.topk(5, dim=1)"
   ],
   "metadata": {
    "collapsed": false,
    "pycharm": {
     "name": "#%%\n"
    }
   }
  },
  {
   "cell_type": "code",
   "execution_count": null,
   "outputs": [],
   "source": [
    "topk"
   ],
   "metadata": {
    "collapsed": false,
    "pycharm": {
     "name": "#%%\n"
    }
   }
  },
  {
   "cell_type": "code",
   "execution_count": null,
   "outputs": [],
   "source": [
    "torch.where(arg_s > 0)"
   ],
   "metadata": {
    "collapsed": false,
    "pycharm": {
     "name": "#%%\n"
    }
   }
  },
  {
   "cell_type": "code",
   "execution_count": null,
   "outputs": [],
   "source": [
    "data = torch.arange(12).view(3,4)\n",
    "torch.tensor([0,1,2,3]) in data"
   ],
   "metadata": {
    "collapsed": false,
    "pycharm": {
     "name": "#%%\n"
    }
   }
  },
  {
   "cell_type": "code",
   "execution_count": null,
   "outputs": [],
   "source": [
    "data == torch.tensor([0,1,2,3])"
   ],
   "metadata": {
    "collapsed": false,
    "pycharm": {
     "name": "#%%\n"
    }
   }
  },
  {
   "cell_type": "code",
   "execution_count": null,
   "outputs": [],
   "source": [
    "for i in data:\n",
    "    print(i)"
   ],
   "metadata": {
    "collapsed": false,
    "pycharm": {
     "name": "#%%\n"
    }
   }
  },
  {
   "cell_type": "code",
   "execution_count": null,
   "outputs": [],
   "source": [
    "data = torch.randint(0, 1000, (178, 200))"
   ],
   "metadata": {
    "collapsed": false,
    "pycharm": {
     "name": "#%%\n"
    }
   }
  },
  {
   "cell_type": "code",
   "execution_count": null,
   "outputs": [],
   "source": [
    "data.view(-1,1)[1234]"
   ],
   "metadata": {
    "collapsed": false,
    "pycharm": {
     "name": "#%%\n"
    }
   }
  },
  {
   "cell_type": "code",
   "execution_count": null,
   "outputs": [],
   "source": [
    "data.permute(1,0).reshape(-1,1)[1234]"
   ],
   "metadata": {
    "collapsed": false,
    "pycharm": {
     "name": "#%%\n"
    }
   }
  },
  {
   "cell_type": "code",
   "execution_count": null,
   "outputs": [],
   "source": [
    "torch.permute"
   ],
   "metadata": {
    "collapsed": false,
    "pycharm": {
     "name": "#%%\n"
    }
   }
  }
 ],
 "metadata": {
  "kernelspec": {
   "display_name": "Python 3",
   "language": "python",
   "name": "python3"
  },
  "language_info": {
   "codemirror_mode": {
    "name": "ipython",
    "version": 2
   },
   "file_extension": ".py",
   "mimetype": "text/x-python",
   "name": "python",
   "nbconvert_exporter": "python",
   "pygments_lexer": "ipython2",
   "version": "2.7.6"
  }
 },
 "nbformat": 4,
 "nbformat_minor": 0
}