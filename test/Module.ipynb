{
 "cells": [
  {
   "cell_type": "code",
   "execution_count": 1,
   "outputs": [],
   "source": [
    "import math\n",
    "import numpy as np\n",
    "import torch\n",
    "from kitti.kitti_dataset import get_dataloader\n",
    "import yaml\n",
    "from easydict import EasyDict\n",
    "from pathlib import Path\n",
    "from basic.utils.vis_utils import VisualWindow\n",
    "# %matplotlib inline\n",
    "torch.cuda.empty_cache()\n",
    "device = 'cuda' if torch.cuda.is_available() else 'cpu'"
   ],
   "metadata": {
    "collapsed": false,
    "pycharm": {
     "name": "#%%\n"
    }
   }
  },
  {
   "cell_type": "markdown",
   "source": [
    "# DataLoader"
   ],
   "metadata": {
    "collapsed": false
   }
  },
  {
   "cell_type": "code",
   "execution_count": 2,
   "outputs": [
    {
     "name": "stderr",
     "output_type": "stream",
     "text": [
      "/home/ph/Desktop/PointCloud/utils_my/kitti/kitti_dataset.py:30: YAMLLoadWarning: calling yaml.load() without Loader=... is deprecated, as the default Loader is unsafe. Please read https://msg.pyyaml.org/load for full details.\n",
      "  cfg = EasyDict(yaml.load(f))\n"
     ]
    }
   ],
   "source": [
    "dataset_cfg_path = Path(\"../kitti/cfg/kitti_dataset.yaml\")\n",
    "batch_size = 4\n",
    "dataloader = get_dataloader(data_cfg_path=dataset_cfg_path, class_name_list=['Car'], batch_size=batch_size)  # 'Pedestrian','Cyclist'"
   ],
   "metadata": {
    "collapsed": false,
    "pycharm": {
     "name": "#%%\n"
    }
   }
  },
  {
   "cell_type": "code",
   "execution_count": 3,
   "outputs": [
    {
     "data": {
      "text/plain": "{'frame_id': array(['006974', '007388', '006697', '007113'], dtype='<U6'),\n 'gt_boxes': tensor([[[ 3.4287e+01, -3.6757e+01, -5.7138e-01,  3.3906e+00,  1.3138e+00,\n            1.4297e+00, -3.6820e-01,  1.0000e+00],\n          [ 2.6158e+01, -2.0168e+01, -7.6718e-01,  4.3470e+00,  1.5746e+00,\n            1.5649e+00, -6.6820e-01,  1.0000e+00],\n          [ 1.1218e+01, -5.0065e+00, -8.7279e-01,  4.2407e+00,  1.6229e+00,\n            1.3910e+00,  2.4450e+00,  1.0000e+00],\n          [ 7.4499e+00, -2.3022e+01, -5.1212e-01,  3.7481e+00,  1.5070e+00,\n            1.4393e+00, -6.8820e-01,  1.0000e+00],\n          [ 2.6972e+01, -2.6909e+01,  9.2320e-02,  4.0379e+00,  1.7968e+00,\n            1.4297e+00, -2.3082e+00,  1.0000e+00],\n          [ 2.5747e+01, -2.3670e+01, -7.6032e-01,  3.6611e+00,  1.5359e+00,\n            1.4490e+00, -6.2820e-01,  1.0000e+00],\n          [ 2.3785e+01, -1.1817e+01, -8.9798e-01,  4.3470e+00,  1.6519e+00,\n            1.4973e+00,  2.4950e+00,  1.0000e+00],\n          [ 3.4093e+01, -1.3558e+01, -5.8491e-01,  4.0572e+00,  1.5263e+00,\n            1.5746e+00,  2.4450e+00,  1.0000e+00],\n          [ 3.2650e+01, -1.0931e+00, -7.7659e-01,  3.9123e+00,  1.4200e+00,\n            1.4780e+00,  2.4550e+00,  1.0000e+00],\n          [ 8.0022e+00, -1.9903e+00, -9.9201e-01,  3.6901e+00,  1.4780e+00,\n            1.6422e+00,  2.4850e+00,  1.0000e+00],\n          [ 3.2505e+01, -2.1368e+01, -8.1101e-01,  3.1008e+00,  1.5649e+00,\n            1.4297e+00,  2.4650e+00,  1.0000e+00],\n          [ 3.0511e+01, -1.4891e+01, -7.8026e-01,  4.3760e+00,  1.6132e+00,\n            1.3717e+00,  2.2750e+00,  1.0000e+00],\n          [ 2.1808e+01, -2.2562e+01, -5.1207e-01,  4.0185e+00,  1.5746e+00,\n            1.4393e+00, -1.4582e+00,  1.0000e+00],\n          [ 2.8808e+01, -2.0104e+01, -4.2861e-01,  3.8930e+00,  1.5359e+00,\n            1.4200e+00, -7.1820e-01,  1.0000e+00],\n          [ 1.2118e+01, -1.4654e+01, -8.8686e-01,  4.2600e+00,  1.6615e+00,\n            1.6036e+00, -6.6820e-01,  1.0000e+00],\n          [ 1.8511e+01, -1.3998e+01, -8.3967e-01,  3.2651e+00,  1.6325e+00,\n            1.3138e+00, -6.9820e-01,  1.0000e+00],\n          [ 2.5700e+01, -9.9318e+00, -7.4554e-01,  3.6998e+00,  1.5553e+00,\n            1.7388e+00,  2.4250e+00,  1.0000e+00]],\n \n         [[ 6.9835e+00, -1.0903e+00, -7.8556e-01,  3.4918e+00,  1.4549e+00,\n            1.6456e+00,  2.3166e+00,  1.0000e+00],\n          [ 2.4316e+00, -6.2401e+00, -9.2757e-01,  4.2945e+00,  1.5854e+00,\n            1.5252e+00, -8.1657e-01,  1.0000e+00],\n          [ 1.2750e+01, -1.1182e+01, -7.6846e-01,  4.0938e+00,  1.6456e+00,\n            1.5452e+00,  2.0766e+00,  1.0000e+00],\n          [ 5.7021e+00, -1.0297e+01, -9.0242e-01,  3.5921e+00,  1.5753e+00,\n            1.4649e+00, -9.5657e-01,  1.0000e+00],\n          [ 8.1742e+00, -1.4443e+01, -7.7883e-01,  3.4416e+00,  1.6757e+00,\n            1.5854e+00, -9.4657e-01,  1.0000e+00],\n          [ 4.1889e+00, -2.7748e+01, -3.6041e-02,  3.6925e+00,  1.9466e+00,\n            1.8462e+00, -6.1657e-01,  1.0000e+00],\n          [ 2.1718e+01, -2.2293e+01, -4.4379e-01,  4.1841e+00,  1.6054e+00,\n            1.5051e+00,  2.1266e+00,  1.0000e+00],\n          [ 2.0097e+01, -3.1623e+01, -6.2601e-01,  3.9433e+00,  1.6857e+00,\n            1.5854e+00, -9.3657e-01,  1.0000e+00],\n          [ 2.8060e+01, -3.1730e+01, -1.7678e-01,  3.9935e+00,  1.5452e+00,\n            1.5854e+00,  2.0866e+00,  1.0000e+00],\n          [ 1.7721e+01, -9.4917e+00, -1.0195e+00,  4.5153e+00,  1.7158e+00,\n            1.5553e+00,  2.4166e+00,  1.0000e+00],\n          [ 1.9670e+01, -1.6981e+01, -8.9632e-01,  3.2108e+00,  1.6656e+00,\n            1.6155e+00, -7.2657e-01,  1.0000e+00],\n          [ 1.2475e+01, -1.7603e+01, -8.6812e-01,  4.2945e+00,  1.5854e+00,\n            1.5252e+00, -9.1657e-01,  1.0000e+00],\n          [ 3.4259e+01, -3.3892e+00, -9.0953e-01,  4.1741e+00,  1.8161e+00,\n            1.4348e+00,  2.4066e+00,  1.0000e+00],\n          [ 3.8076e+01, -1.4359e+01, -5.5079e-01,  2.9600e+00,  1.2944e+00,\n            1.4750e+00,  2.3666e+00,  1.0000e+00],\n          [ 0.0000e+00,  0.0000e+00,  0.0000e+00,  0.0000e+00,  0.0000e+00,\n            0.0000e+00,  0.0000e+00,  0.0000e+00],\n          [ 0.0000e+00,  0.0000e+00,  0.0000e+00,  0.0000e+00,  0.0000e+00,\n            0.0000e+00,  0.0000e+00,  0.0000e+00],\n          [ 0.0000e+00,  0.0000e+00,  0.0000e+00,  0.0000e+00,  0.0000e+00,\n            0.0000e+00,  0.0000e+00,  0.0000e+00]],\n \n         [[ 4.2018e+01, -1.6295e+01, -4.4903e-01,  3.5553e+00,  1.7482e+00,\n            1.3946e+00,  2.5961e+00,  1.0000e+00],\n          [ 3.1294e+01, -1.8732e+01, -3.8901e-01,  4.6259e+00,  1.7089e+00,\n            1.6991e+00,  1.1861e+00,  1.0000e+00],\n          [ 3.4237e+01, -1.5085e+01, -8.1611e-01,  3.5455e+00,  1.6402e+00,\n            1.4928e+00, -4.6711e-01,  1.0000e+00],\n          [ 7.7621e+00, -9.2521e-01, -8.3871e-01,  3.3294e+00,  1.7187e+00,\n            1.6205e+00,  2.7761e+00,  1.0000e+00],\n          [ 2.5234e+01, -3.2611e+01, -1.5873e-01,  3.8794e+00,  1.6696e+00,\n            1.4045e+00,  1.4661e+00,  1.0000e+00],\n          [ 2.2842e+01, -6.9570e+00, -8.2343e-01,  4.2821e+00,  1.6598e+00,\n            1.3848e+00,  2.6961e+00,  1.0000e+00],\n          [ 3.8935e+01, -2.4045e+00, -1.5674e+00,  3.8893e+00,  1.7875e+00,\n            1.3455e+00,  2.6861e+00,  1.0000e+00],\n          [ 1.7549e+01, -9.7123e+00, -6.3615e-01,  3.3785e+00,  1.5616e+00,\n            1.4241e+00, -7.9711e-01,  1.0000e+00],\n          [ 1.4921e+01, -1.0324e+01, -7.4971e-01,  3.8598e+00,  1.6500e+00,\n            1.5518e+00, -4.7711e-01,  1.0000e+00],\n          [ 3.1813e+01, -2.7392e+00, -6.4254e-01,  3.8401e+00,  1.5911e+00,\n            1.4143e+00,  9.6289e-01,  1.0000e+00],\n          [ 1.2212e+01, -1.3850e+00, -3.1699e-01,  3.8696e+00,  1.3750e+00,\n            1.5027e+00,  1.3361e+00,  1.0000e+00],\n          [ 2.3439e+01, -4.3826e+00, -9.0563e-01,  3.5553e+00,  1.4437e+00,\n            1.3553e+00,  2.6661e+00,  1.0000e+00],\n          [ 0.0000e+00,  0.0000e+00,  0.0000e+00,  0.0000e+00,  0.0000e+00,\n            0.0000e+00,  0.0000e+00,  0.0000e+00],\n          [ 0.0000e+00,  0.0000e+00,  0.0000e+00,  0.0000e+00,  0.0000e+00,\n            0.0000e+00,  0.0000e+00,  0.0000e+00],\n          [ 0.0000e+00,  0.0000e+00,  0.0000e+00,  0.0000e+00,  0.0000e+00,\n            0.0000e+00,  0.0000e+00,  0.0000e+00],\n          [ 0.0000e+00,  0.0000e+00,  0.0000e+00,  0.0000e+00,  0.0000e+00,\n            0.0000e+00,  0.0000e+00,  0.0000e+00],\n          [ 0.0000e+00,  0.0000e+00,  0.0000e+00,  0.0000e+00,  0.0000e+00,\n            0.0000e+00,  0.0000e+00,  0.0000e+00]],\n \n         [[ 5.1294e+01,  1.6129e+01, -6.0686e-01,  4.1712e+00,  1.6645e+00,\n            1.4639e+00, -2.7739e+00,  1.0000e+00],\n          [ 2.3472e+01,  1.7378e+00, -8.1744e-01,  3.6398e+00,  1.6244e+00,\n            1.5341e+00, -4.9074e-01,  1.0000e+00],\n          [ 1.2526e+01,  9.5161e+00, -7.0270e-01,  3.8804e+00,  1.5842e+00,\n            1.4539e+00,  1.1593e+00,  1.0000e+00],\n          [ 2.1738e+01,  8.4785e+00, -6.3713e-01,  3.6999e+00,  1.6544e+00,\n            1.5642e+00,  3.6926e-01,  1.0000e+00],\n          [ 6.0097e+01, -7.9676e+00,  5.4441e-01,  4.7427e+00,  1.8149e+00,\n            2.4867e+00,  3.6926e-01,  1.0000e+00],\n          [ 2.8836e+01,  1.1567e+01, -5.1450e-01,  4.3918e+00,  1.6745e+00,\n            1.5241e+00,  3.8926e-01,  1.0000e+00],\n          [ 4.4144e+01,  1.9765e+01, -9.2656e-01,  3.6799e+00,  1.6344e+00,\n            1.5441e+00,  6.4926e-01,  1.0000e+00],\n          [ 1.2884e+01, -2.6352e+00, -1.0484e+00,  3.6197e+00,  1.6143e+00,\n            1.4840e+00, -2.7839e+00,  1.0000e+00],\n          [ 3.2065e+01,  9.0363e+00, -6.1157e-01,  4.3416e+00,  1.6645e+00,\n            1.6043e+00, -2.7339e+00,  1.0000e+00],\n          [ 0.0000e+00,  0.0000e+00,  0.0000e+00,  0.0000e+00,  0.0000e+00,\n            0.0000e+00,  0.0000e+00,  0.0000e+00],\n          [ 0.0000e+00,  0.0000e+00,  0.0000e+00,  0.0000e+00,  0.0000e+00,\n            0.0000e+00,  0.0000e+00,  0.0000e+00],\n          [ 0.0000e+00,  0.0000e+00,  0.0000e+00,  0.0000e+00,  0.0000e+00,\n            0.0000e+00,  0.0000e+00,  0.0000e+00],\n          [ 0.0000e+00,  0.0000e+00,  0.0000e+00,  0.0000e+00,  0.0000e+00,\n            0.0000e+00,  0.0000e+00,  0.0000e+00],\n          [ 0.0000e+00,  0.0000e+00,  0.0000e+00,  0.0000e+00,  0.0000e+00,\n            0.0000e+00,  0.0000e+00,  0.0000e+00],\n          [ 0.0000e+00,  0.0000e+00,  0.0000e+00,  0.0000e+00,  0.0000e+00,\n            0.0000e+00,  0.0000e+00,  0.0000e+00],\n          [ 0.0000e+00,  0.0000e+00,  0.0000e+00,  0.0000e+00,  0.0000e+00,\n            0.0000e+00,  0.0000e+00,  0.0000e+00],\n          [ 0.0000e+00,  0.0000e+00,  0.0000e+00,  0.0000e+00,  0.0000e+00,\n            0.0000e+00,  0.0000e+00,  0.0000e+00]]], device='cuda:0'),\n 'points': tensor([[ 0.0000e+00,  3.3809e+00, -1.6787e+01, -1.5939e+00,  3.1000e-01],\n         [ 0.0000e+00,  2.0875e+01, -3.7063e+00, -1.5070e+00,  1.7000e-01],\n         [ 0.0000e+00,  3.6475e+01, -1.6826e+01, -1.3514e+00,  0.0000e+00],\n         ...,\n         [ 3.0000e+00,  2.2089e+01,  2.8095e+00, -1.1741e+00,  3.2000e-01],\n         [ 3.0000e+00,  4.2173e+01,  3.7508e+00, -1.4278e+00,  0.0000e+00],\n         [ 3.0000e+00,  1.0866e+01,  1.3380e-01, -1.7076e+00,  4.0000e-02]],\n        device='cuda:0'),\n 'use_lead_xyz': tensor([1., 1., 1., 1.], device='cuda:0'),\n 'image_shape': tensor([[ 375, 1242,    3],\n         [ 375, 1242,    3],\n         [ 374, 1238,    3],\n         [ 375, 1242,    3]], device='cuda:0', dtype=torch.int32),\n 'batch_size': 4}"
     },
     "execution_count": 3,
     "metadata": {},
     "output_type": "execute_result"
    }
   ],
   "source": [
    "from basic.utils.common_utils import put_data_to_gpu\n",
    "# 取一批数据用于模块测试\n",
    "for data in dataloader:\n",
    "    test_data = data\n",
    "    break\n",
    "# 单独把某些数据放在GPU中，注意frame_id这种还是为np.ndarray\n",
    "test_data = put_data_to_gpu(test_data)\n",
    "# print(f\"input voxels shape:\", test_data['voxels'].shape)\n",
    "test_data"
   ],
   "metadata": {
    "collapsed": false,
    "pycharm": {
     "name": "#%%\n"
    }
   }
  },
  {
   "cell_type": "markdown",
   "source": [
    "# Model cfg\n",
    "最终的目的是想用字符文档生成模型。但是下面只是单一测试每一个模块\n",
    "- model cfg 中包含各个模块的配置：module cfg\n",
    "- 在模型全局中使用model_info_dict记录一些必要的模型信息\n"
   ],
   "metadata": {
    "collapsed": false
   }
  },
  {
   "cell_type": "code",
   "execution_count": 4,
   "outputs": [
    {
     "name": "stdout",
     "output_type": "stream",
     "text": [
      "{'DATASET_CONFIG': {'CONFIG_PATH': '/home/ph/Desktop/PointCloud/utils_my/kitti/cfg/kitti_dataset.yaml',\n",
      "                    'DATASET': 'KittiDataset',\n",
      "                    'DATA_AUGMENTOR': {'AUG_CONFIG_LIST': [{'DATABASE_WITH_FAKELIDAR': False,\n",
      "                                                            'DB_INFO_PATH': ['db_infos_train.pkl'],\n",
      "                                                            'LIMIT_WHOLE_SCENE': True,\n",
      "                                                            'NAME': 'gt_sampling',\n",
      "                                                            'NUM_POINT_FEATURES': 4,\n",
      "                                                            'PREPARE': {'filter_by_difficulty': [-1],\n",
      "                                                                        'filter_by_min_points': ['Car:5',\n",
      "                                                                                                 'Pedestrian:5',\n",
      "                                                                                                 'Cyclist:5']},\n",
      "                                                            'REMOVE_EXTRA_WIDTH': [0.0,\n",
      "                                                                                   0.0,\n",
      "                                                                                   0.0],\n",
      "                                                            'SAMPLE_GROUPS': ['Car:20',\n",
      "                                                                              'Pedestrian:15',\n",
      "                                                                              'Cyclist:15'],\n",
      "                                                            'USE_ROAD_PLANE': False},\n",
      "                                                           {'ALONG_AXIS_LIST': ['x'],\n",
      "                                                            'NAME': 'random_world_flip'},\n",
      "                                                           {'NAME': 'random_world_rotation',\n",
      "                                                            'WORLD_ROT_ANGLE': [-0.78539816,\n",
      "                                                                                0.78539816]},\n",
      "                                                           {'NAME': 'random_world_scaling',\n",
      "                                                            'WORLD_SCALE_RANGE': [0.95,\n",
      "                                                                                  1.05]}],\n",
      "                                       'DISABLE_AUG_LIST': ['placeholder'],\n",
      "                                       'RESERVED_FEATURE': ['frame_id',\n",
      "                                                            'points',\n",
      "                                                            'gt_boxes',\n",
      "                                                            'gt_names']},\n",
      "                    'DATA_PATH': '/home/ph/Dataset/KITTI',\n",
      "                    'DATA_PROCESSOR': [{'NAME': 'filter_points_and_boxes_inside_range',\n",
      "                                        'REMOVE_OUTSIDE_BOXES': True},\n",
      "                                       {'NAME': 'shuffle_points',\n",
      "                                        'SHUFFLE_ENABLED': {'test': False,\n",
      "                                                            'train': True}}],\n",
      "                    'DATA_SPLIT': {'test': 'val', 'train': 'train'},\n",
      "                    'FOV_POINTS_ONLY': True,\n",
      "                    'FOV_VIEW_POINTS': True,\n",
      "                    'GET_ITEM_LIST': ['points'],\n",
      "                    'INFO_PATH': {'test': ['infos_val.pkl'],\n",
      "                                  'train': ['infos_train.pkl']},\n",
      "                    'POINT_CLOUD_RANGE': [0, -40, -3, 70.4, 40, 1],\n",
      "                    'POINT_FEATURE_ENCODING': {'encoding_type': 'absolute_coordinates_encoding',\n",
      "                                               'src_feature_list': ['x',\n",
      "                                                                    'y',\n",
      "                                                                    'z',\n",
      "                                                                    'intensity'],\n",
      "                                               'used_feature_list': ['x',\n",
      "                                                                     'y',\n",
      "                                                                     'z',\n",
      "                                                                     'intensity']}},\n",
      " 'INFERENCE_CONFIG': {'NMS_PRE_NUMS': 100,\n",
      "                      'POST_PROCESSING': {'EVAL_METRIC': 'kitti',\n",
      "                                          'NMS_CONFIG': {'MULTI_CLASSES_NMS': False,\n",
      "                                                         'NMS_POST_MAXSIZE': 500,\n",
      "                                                         'NMS_PRE_MAXSIZE': 4096,\n",
      "                                                         'NMS_THRESH': 0.01,\n",
      "                                                         'NMS_TYPE': 'nms_gpu'},\n",
      "                                          'OUTPUT_RAW_SCORE': False,\n",
      "                                          'RECALL_THRESH_LIST': [0.3, 0.5, 0.7],\n",
      "                                          'SCORE_THRESH': 0.1}},\n",
      " 'MODEL': {'BACKBONE2D': {'MULTI_FEAT_LAYER_CONFIG': {'in_channels': 256,\n",
      "                                                      'layer_nums': [5, 5],\n",
      "                                                      'layer_strides': [1, 2],\n",
      "                                                      'out_channels': [128,\n",
      "                                                                       256]},\n",
      "                          'NAME': 'SECONDFPN',\n",
      "                          'in_channels': [128, 256],\n",
      "                          'out_channels': [256, 256],\n",
      "                          'upsample_strides': [1, 2]},\n",
      "           'BACKBONE3D': {'NAME': 'VoxelBackBone8x', 'in_channels': 4},\n",
      "           'DENSE_HEAD': {'ANCHOR_GENERATOR_CONFIG': {'CLASS_CONFIG': [{'anchor_dims': 3,\n",
      "                                                                        'boxes_size': [[3.9,\n",
      "                                                                                        1.6,\n",
      "                                                                                        1.56]],\n",
      "                                                                        'center_aligned': True,\n",
      "                                                                        'class_name': 'Car',\n",
      "                                                                        'mode': 'Range',\n",
      "                                                                        'ratios': [1],\n",
      "                                                                        'road_plane_aligned': True,\n",
      "                                                                        'road_plane_height': -0.035,\n",
      "                                                                        'rotations': [0,\n",
      "                                                                                      1.57]},\n",
      "                                                                       {'anchor_dims': 3,\n",
      "                                                                        'boxes_size': [[0.8,\n",
      "                                                                                        0.6,\n",
      "                                                                                        1.73]],\n",
      "                                                                        'center_aligned': True,\n",
      "                                                                        'class_name': 'Pedestrian',\n",
      "                                                                        'mode': 'Range',\n",
      "                                                                        'ratios': [1],\n",
      "                                                                        'road_plane_aligned': True,\n",
      "                                                                        'road_plane_height': -1.2,\n",
      "                                                                        'rotations': [0,\n",
      "                                                                                      1.57]},\n",
      "                                                                       {'anchor_bottom_heights': [-0.6],\n",
      "                                                                        'anchor_dims': 3,\n",
      "                                                                        'boxes_size': [[1.76,\n",
      "                                                                                        0.6,\n",
      "                                                                                        1.73]],\n",
      "                                                                        'center_aligned': True,\n",
      "                                                                        'class_name': 'Cyclist',\n",
      "                                                                        'mode': 'Range',\n",
      "                                                                        'ratios': [1],\n",
      "                                                                        'road_plane_aligned': True,\n",
      "                                                                        'road_plane_height': -1.2,\n",
      "                                                                        'rotations': [0,\n",
      "                                                                                      1.57]}],\n",
      "                                                      'DEVICE': 'cuda',\n",
      "                                                      'NAME': 'AnchorGenerator'},\n",
      "                          'LOSS_CONFIG': {'CLS_LOSS': {'NAME': 'FocalLoss',\n",
      "                                                       'alpha': 0.75,\n",
      "                                                       'gamma': 2,\n",
      "                                                       'use_sigmoid': False},\n",
      "                                          'LOSS_WEIGHTS': {'cls_weight': 1.0,\n",
      "                                                           'code_weights': [1.0,\n",
      "                                                                            1.0,\n",
      "                                                                            1.0,\n",
      "                                                                            1.0,\n",
      "                                                                            1.0,\n",
      "                                                                            1.0,\n",
      "                                                                            1.0],\n",
      "                                                           'dir_weight': 0.2,\n",
      "                                                           'reg_weight': 2.0},\n",
      "                                          'REG_LOSS': {'NAME': 'SmoothL1Loss',\n",
      "                                                       'beta': 0.2}},\n",
      "                          'NAME': 'Anchor3DHead',\n",
      "                          'TARGET_ASSIGNER_CONFIG': {'BOX_ENCODER': {'NAME': 'ResidualCoder',\n",
      "                                                                     'code_size': 7,\n",
      "                                                                     'encode_angle_by_sincos': False},\n",
      "                                                     'CLASS_THRESHOLD': [{'class_name': 'Car',\n",
      "                                                                          'neg_threshold': 0.4,\n",
      "                                                                          'pos_threshold': 0.55},\n",
      "                                                                         {'class_name': 'Pedestrian',\n",
      "                                                                          'neg_threshold': 0.35,\n",
      "                                                                          'pos_threshold': 0.5},\n",
      "                                                                         {'class_name': 'Cyclist',\n",
      "                                                                          'neg_threshold': 0.35,\n",
      "                                                                          'pos_threshold': 0.5}],\n",
      "                                                     'DEVICE': 'cuda',\n",
      "                                                     'FORCE_MATCH': True,\n",
      "                                                     'IOU_CALCULATOR': {'NAME': 'Iou3DCalculator',\n",
      "                                                                        'use_bev_iou': True},\n",
      "                                                     'MATCH_HEIGHT': False,\n",
      "                                                     'NAME': 'MaxIouTargetAssigner',\n",
      "                                                     'NORM_BY_NUM_EXAMPLES': False,\n",
      "                                                     'POS_FRACTION': -1.0,\n",
      "                                                     'SAMPLER': {'NAME': 'MaxSizeSubSampler',\n",
      "                                                                 'sample_size': 512}},\n",
      "                          'in_channels': 512,\n",
      "                          'use_direction_classifier': True},\n",
      "           'FEATURE_EXTRACTOR': {'NAME': 'MeanVFE', 'is_normalize': True},\n",
      "           'NAME': 'SECOND',\n",
      "           'NECK': {'NAME': 'DimCompression', 'dim': 2},\n",
      "           'VOXELIZE_LAYER': {'NAME': 'VoxelLayer',\n",
      "                              'full_mean': False,\n",
      "                              'max_points_pre_voxel': 5,\n",
      "                              'max_voxels': {'test': 40000, 'train': 16000},\n",
      "                              'point_cloud_range': [0, -40, -3, 70.4, 40, 1],\n",
      "                              'use_lead_xyz': True,\n",
      "                              'voxel_size': [0.05, 0.05, 0.1]}},\n",
      " 'PERPRO_CONFIG': {'CONFIG_PATH': '/home/ph/Desktop/PointCloud/utils_my/kitti/cfg/preprocess_cfg.yaml',\n",
      "                   'CREATE_GT_DATABASE': {'FLAG': True,\n",
      "                                          'USED_CLASSES': ['Car',\n",
      "                                                           'Pedestrian',\n",
      "                                                           'Cyclist']},\n",
      "                   'DATA_ROOT': '/home/ph/Dataset/KITTI',\n",
      "                   'DUMP_INTERVAL': 1000,\n",
      "                   'SAVE_ROOT': '/home/ph/Dataset/KITTI/infos',\n",
      "                   'WORKER_NUM': 4},\n",
      " 'TRAIN_CONFIG': {'BATCH': 4,\n",
      "                  'CLASS_NAMES': ['Car'],\n",
      "                  'EPOCHS': 20,\n",
      "                  'GRAD_NORM_CLIP': 10,\n",
      "                  'OPTIMIZER': {'DECAY_STEP_LIST': [35, 45],\n",
      "                                'DIV_FACTOR': 10,\n",
      "                                'LR': 0.001,\n",
      "                                'LR_CLIP': 1e-07,\n",
      "                                'LR_DECAY': 0.1,\n",
      "                                'LR_WARMUP': False,\n",
      "                                'MOMENTUM': 0.9,\n",
      "                                'MOMS': [0.95, 0.85],\n",
      "                                'NAME': 'Adam',\n",
      "                                'PCT_START': 0.4,\n",
      "                                'WARMUP_EPOCH': 1,\n",
      "                                'WEIGHT_DECAY': 0.01}}}\n"
     ]
    }
   ],
   "source": [
    "from pprint import pprint\n",
    "from basic.utils.config_utils import cfg_from_yaml_file\n",
    "top_cfg = cfg_from_yaml_file('../basic/model/model_cfg/second.yaml')\n",
    "model_cfg = top_cfg.MODEL\n",
    "model_info_dict = {\n",
    "    'module_list': [],\n",
    "    'training': True,\n",
    "}\n",
    "data_infos = dataloader.dataset.get_data_infos()\n",
    "model_info_dict.update(data_infos)\n",
    "pprint(top_cfg)"
   ],
   "metadata": {
    "collapsed": false,
    "pycharm": {
     "name": "#%%\n"
    }
   }
  },
  {
   "cell_type": "code",
   "execution_count": 5,
   "outputs": [
    {
     "name": "stdout",
     "output_type": "stream",
     "text": [
      "{'BACKBONE2D': {'MULTI_FEAT_LAYER_CONFIG': {'in_channels': 256,\n",
      "                                            'layer_nums': [5, 5],\n",
      "                                            'layer_strides': [1, 2],\n",
      "                                            'out_channels': [128, 256]},\n",
      "                'NAME': 'SECONDFPN',\n",
      "                'in_channels': [128, 256],\n",
      "                'out_channels': [256, 256],\n",
      "                'upsample_strides': [1, 2]},\n",
      " 'BACKBONE3D': {'NAME': 'VoxelBackBone8x', 'in_channels': 4},\n",
      " 'DENSE_HEAD': {'ANCHOR_GENERATOR_CONFIG': {'CLASS_CONFIG': [{'anchor_dims': 3,\n",
      "                                                              'boxes_size': [[3.9,\n",
      "                                                                              1.6,\n",
      "                                                                              1.56]],\n",
      "                                                              'center_aligned': True,\n",
      "                                                              'class_name': 'Car',\n",
      "                                                              'mode': 'Range',\n",
      "                                                              'ratios': [1],\n",
      "                                                              'road_plane_aligned': True,\n",
      "                                                              'road_plane_height': -0.035,\n",
      "                                                              'rotations': [0,\n",
      "                                                                            1.57]},\n",
      "                                                             {'anchor_dims': 3,\n",
      "                                                              'boxes_size': [[0.8,\n",
      "                                                                              0.6,\n",
      "                                                                              1.73]],\n",
      "                                                              'center_aligned': True,\n",
      "                                                              'class_name': 'Pedestrian',\n",
      "                                                              'mode': 'Range',\n",
      "                                                              'ratios': [1],\n",
      "                                                              'road_plane_aligned': True,\n",
      "                                                              'road_plane_height': -1.2,\n",
      "                                                              'rotations': [0,\n",
      "                                                                            1.57]},\n",
      "                                                             {'anchor_bottom_heights': [-0.6],\n",
      "                                                              'anchor_dims': 3,\n",
      "                                                              'boxes_size': [[1.76,\n",
      "                                                                              0.6,\n",
      "                                                                              1.73]],\n",
      "                                                              'center_aligned': True,\n",
      "                                                              'class_name': 'Cyclist',\n",
      "                                                              'mode': 'Range',\n",
      "                                                              'ratios': [1],\n",
      "                                                              'road_plane_aligned': True,\n",
      "                                                              'road_plane_height': -1.2,\n",
      "                                                              'rotations': [0,\n",
      "                                                                            1.57]}],\n",
      "                                            'DEVICE': 'cuda',\n",
      "                                            'NAME': 'AnchorGenerator'},\n",
      "                'LOSS_CONFIG': {'CLS_LOSS': {'NAME': 'FocalLoss',\n",
      "                                             'alpha': 0.75,\n",
      "                                             'gamma': 2,\n",
      "                                             'use_sigmoid': False},\n",
      "                                'LOSS_WEIGHTS': {'cls_weight': 1.0,\n",
      "                                                 'code_weights': [1.0,\n",
      "                                                                  1.0,\n",
      "                                                                  1.0,\n",
      "                                                                  1.0,\n",
      "                                                                  1.0,\n",
      "                                                                  1.0,\n",
      "                                                                  1.0],\n",
      "                                                 'dir_weight': 0.2,\n",
      "                                                 'reg_weight': 2.0},\n",
      "                                'REG_LOSS': {'NAME': 'SmoothL1Loss',\n",
      "                                             'beta': 0.2}},\n",
      "                'NAME': 'Anchor3DHead',\n",
      "                'TARGET_ASSIGNER_CONFIG': {'BOX_ENCODER': {'NAME': 'ResidualCoder',\n",
      "                                                           'code_size': 7,\n",
      "                                                           'encode_angle_by_sincos': False},\n",
      "                                           'CLASS_THRESHOLD': [{'class_name': 'Car',\n",
      "                                                                'neg_threshold': 0.4,\n",
      "                                                                'pos_threshold': 0.55},\n",
      "                                                               {'class_name': 'Pedestrian',\n",
      "                                                                'neg_threshold': 0.35,\n",
      "                                                                'pos_threshold': 0.5},\n",
      "                                                               {'class_name': 'Cyclist',\n",
      "                                                                'neg_threshold': 0.35,\n",
      "                                                                'pos_threshold': 0.5}],\n",
      "                                           'DEVICE': 'cuda',\n",
      "                                           'FORCE_MATCH': True,\n",
      "                                           'IOU_CALCULATOR': {'NAME': 'Iou3DCalculator',\n",
      "                                                              'use_bev_iou': True},\n",
      "                                           'MATCH_HEIGHT': False,\n",
      "                                           'NAME': 'MaxIouTargetAssigner',\n",
      "                                           'NORM_BY_NUM_EXAMPLES': False,\n",
      "                                           'POS_FRACTION': -1.0,\n",
      "                                           'SAMPLER': {'NAME': 'MaxSizeSubSampler',\n",
      "                                                       'sample_size': 512}},\n",
      "                'in_channels': 512,\n",
      "                'use_direction_classifier': True},\n",
      " 'FEATURE_EXTRACTOR': {'NAME': 'MeanVFE', 'is_normalize': True},\n",
      " 'NAME': 'SECOND',\n",
      " 'NECK': {'NAME': 'DimCompression', 'dim': 2},\n",
      " 'VOXELIZE_LAYER': {'NAME': 'VoxelLayer',\n",
      "                    'full_mean': False,\n",
      "                    'max_points_pre_voxel': 5,\n",
      "                    'max_voxels': {'test': 40000, 'train': 16000},\n",
      "                    'point_cloud_range': [0, -40, -3, 70.4, 40, 1],\n",
      "                    'use_lead_xyz': True,\n",
      "                    'voxel_size': [0.05, 0.05, 0.1]}}\n"
     ]
    }
   ],
   "source": [
    "pprint(model_cfg)"
   ],
   "metadata": {
    "collapsed": false,
    "pycharm": {
     "name": "#%%\n"
    }
   }
  },
  {
   "cell_type": "markdown",
   "source": [
    "初始模型信息，注意经过每一个模块处理后,更新以下信息。\n",
    "- 更新module_list记录的模块\n",
    "- 当前特征图中每个点的特征维度\n",
    "- 后面模块可能会使用到的当前模块的一些信息"
   ],
   "metadata": {
    "collapsed": false
   }
  },
  {
   "cell_type": "code",
   "execution_count": 6,
   "outputs": [
    {
     "name": "stdout",
     "output_type": "stream",
     "text": [
      "module_list:[]\n",
      "training:True\n",
      "raw_point_feature_dims:4\n",
      "cur_point_feature_dims:4\n",
      "point_cloud_range:[  0.  -40.   -3.   70.4  40.    1. ]\n",
      "voxel_size:None\n",
      "grid_size:None\n",
      "class_names:['Car']\n"
     ]
    }
   ],
   "source": [
    "for key, value in model_info_dict.items():\n",
    "    print(f\"{key}:{value}\")"
   ],
   "metadata": {
    "collapsed": false,
    "pycharm": {
     "name": "#%%\n"
    }
   }
  },
  {
   "cell_type": "markdown",
   "source": [
    "# Voxelize Layer"
   ],
   "metadata": {
    "collapsed": false
   }
  },
  {
   "cell_type": "code",
   "execution_count": 7,
   "outputs": [
    {
     "name": "stdout",
     "output_type": "stream",
     "text": [
      "{'NAME': 'VoxelLayer',\n",
      " 'full_mean': False,\n",
      " 'max_points_pre_voxel': 5,\n",
      " 'max_voxels': {'test': 40000, 'train': 16000},\n",
      " 'point_cloud_range': [0, -40, -3, 70.4, 40, 1],\n",
      " 'use_lead_xyz': True,\n",
      " 'voxel_size': [0.05, 0.05, 0.1]}\n"
     ]
    }
   ],
   "source": [
    "voxelize_cfg = model_cfg.VOXELIZE_LAYER\n",
    "pprint(voxelize_cfg)"
   ],
   "metadata": {
    "collapsed": false,
    "pycharm": {
     "name": "#%%\n"
    }
   }
  },
  {
   "cell_type": "code",
   "execution_count": 8,
   "outputs": [
    {
     "data": {
      "text/plain": "{'frame_id': array(['006974', '007388', '006697', '007113'], dtype='<U6'),\n 'gt_boxes': tensor([[[ 3.4287e+01, -3.6757e+01, -5.7138e-01,  3.3906e+00,  1.3138e+00,\n            1.4297e+00, -3.6820e-01,  1.0000e+00],\n          [ 2.6158e+01, -2.0168e+01, -7.6718e-01,  4.3470e+00,  1.5746e+00,\n            1.5649e+00, -6.6820e-01,  1.0000e+00],\n          [ 1.1218e+01, -5.0065e+00, -8.7279e-01,  4.2407e+00,  1.6229e+00,\n            1.3910e+00,  2.4450e+00,  1.0000e+00],\n          [ 7.4499e+00, -2.3022e+01, -5.1212e-01,  3.7481e+00,  1.5070e+00,\n            1.4393e+00, -6.8820e-01,  1.0000e+00],\n          [ 2.6972e+01, -2.6909e+01,  9.2320e-02,  4.0379e+00,  1.7968e+00,\n            1.4297e+00, -2.3082e+00,  1.0000e+00],\n          [ 2.5747e+01, -2.3670e+01, -7.6032e-01,  3.6611e+00,  1.5359e+00,\n            1.4490e+00, -6.2820e-01,  1.0000e+00],\n          [ 2.3785e+01, -1.1817e+01, -8.9798e-01,  4.3470e+00,  1.6519e+00,\n            1.4973e+00,  2.4950e+00,  1.0000e+00],\n          [ 3.4093e+01, -1.3558e+01, -5.8491e-01,  4.0572e+00,  1.5263e+00,\n            1.5746e+00,  2.4450e+00,  1.0000e+00],\n          [ 3.2650e+01, -1.0931e+00, -7.7659e-01,  3.9123e+00,  1.4200e+00,\n            1.4780e+00,  2.4550e+00,  1.0000e+00],\n          [ 8.0022e+00, -1.9903e+00, -9.9201e-01,  3.6901e+00,  1.4780e+00,\n            1.6422e+00,  2.4850e+00,  1.0000e+00],\n          [ 3.2505e+01, -2.1368e+01, -8.1101e-01,  3.1008e+00,  1.5649e+00,\n            1.4297e+00,  2.4650e+00,  1.0000e+00],\n          [ 3.0511e+01, -1.4891e+01, -7.8026e-01,  4.3760e+00,  1.6132e+00,\n            1.3717e+00,  2.2750e+00,  1.0000e+00],\n          [ 2.1808e+01, -2.2562e+01, -5.1207e-01,  4.0185e+00,  1.5746e+00,\n            1.4393e+00, -1.4582e+00,  1.0000e+00],\n          [ 2.8808e+01, -2.0104e+01, -4.2861e-01,  3.8930e+00,  1.5359e+00,\n            1.4200e+00, -7.1820e-01,  1.0000e+00],\n          [ 1.2118e+01, -1.4654e+01, -8.8686e-01,  4.2600e+00,  1.6615e+00,\n            1.6036e+00, -6.6820e-01,  1.0000e+00],\n          [ 1.8511e+01, -1.3998e+01, -8.3967e-01,  3.2651e+00,  1.6325e+00,\n            1.3138e+00, -6.9820e-01,  1.0000e+00],\n          [ 2.5700e+01, -9.9318e+00, -7.4554e-01,  3.6998e+00,  1.5553e+00,\n            1.7388e+00,  2.4250e+00,  1.0000e+00]],\n \n         [[ 6.9835e+00, -1.0903e+00, -7.8556e-01,  3.4918e+00,  1.4549e+00,\n            1.6456e+00,  2.3166e+00,  1.0000e+00],\n          [ 2.4316e+00, -6.2401e+00, -9.2757e-01,  4.2945e+00,  1.5854e+00,\n            1.5252e+00, -8.1657e-01,  1.0000e+00],\n          [ 1.2750e+01, -1.1182e+01, -7.6846e-01,  4.0938e+00,  1.6456e+00,\n            1.5452e+00,  2.0766e+00,  1.0000e+00],\n          [ 5.7021e+00, -1.0297e+01, -9.0242e-01,  3.5921e+00,  1.5753e+00,\n            1.4649e+00, -9.5657e-01,  1.0000e+00],\n          [ 8.1742e+00, -1.4443e+01, -7.7883e-01,  3.4416e+00,  1.6757e+00,\n            1.5854e+00, -9.4657e-01,  1.0000e+00],\n          [ 4.1889e+00, -2.7748e+01, -3.6041e-02,  3.6925e+00,  1.9466e+00,\n            1.8462e+00, -6.1657e-01,  1.0000e+00],\n          [ 2.1718e+01, -2.2293e+01, -4.4379e-01,  4.1841e+00,  1.6054e+00,\n            1.5051e+00,  2.1266e+00,  1.0000e+00],\n          [ 2.0097e+01, -3.1623e+01, -6.2601e-01,  3.9433e+00,  1.6857e+00,\n            1.5854e+00, -9.3657e-01,  1.0000e+00],\n          [ 2.8060e+01, -3.1730e+01, -1.7678e-01,  3.9935e+00,  1.5452e+00,\n            1.5854e+00,  2.0866e+00,  1.0000e+00],\n          [ 1.7721e+01, -9.4917e+00, -1.0195e+00,  4.5153e+00,  1.7158e+00,\n            1.5553e+00,  2.4166e+00,  1.0000e+00],\n          [ 1.9670e+01, -1.6981e+01, -8.9632e-01,  3.2108e+00,  1.6656e+00,\n            1.6155e+00, -7.2657e-01,  1.0000e+00],\n          [ 1.2475e+01, -1.7603e+01, -8.6812e-01,  4.2945e+00,  1.5854e+00,\n            1.5252e+00, -9.1657e-01,  1.0000e+00],\n          [ 3.4259e+01, -3.3892e+00, -9.0953e-01,  4.1741e+00,  1.8161e+00,\n            1.4348e+00,  2.4066e+00,  1.0000e+00],\n          [ 3.8076e+01, -1.4359e+01, -5.5079e-01,  2.9600e+00,  1.2944e+00,\n            1.4750e+00,  2.3666e+00,  1.0000e+00],\n          [ 0.0000e+00,  0.0000e+00,  0.0000e+00,  0.0000e+00,  0.0000e+00,\n            0.0000e+00,  0.0000e+00,  0.0000e+00],\n          [ 0.0000e+00,  0.0000e+00,  0.0000e+00,  0.0000e+00,  0.0000e+00,\n            0.0000e+00,  0.0000e+00,  0.0000e+00],\n          [ 0.0000e+00,  0.0000e+00,  0.0000e+00,  0.0000e+00,  0.0000e+00,\n            0.0000e+00,  0.0000e+00,  0.0000e+00]],\n \n         [[ 4.2018e+01, -1.6295e+01, -4.4903e-01,  3.5553e+00,  1.7482e+00,\n            1.3946e+00,  2.5961e+00,  1.0000e+00],\n          [ 3.1294e+01, -1.8732e+01, -3.8901e-01,  4.6259e+00,  1.7089e+00,\n            1.6991e+00,  1.1861e+00,  1.0000e+00],\n          [ 3.4237e+01, -1.5085e+01, -8.1611e-01,  3.5455e+00,  1.6402e+00,\n            1.4928e+00, -4.6711e-01,  1.0000e+00],\n          [ 7.7621e+00, -9.2521e-01, -8.3871e-01,  3.3294e+00,  1.7187e+00,\n            1.6205e+00,  2.7761e+00,  1.0000e+00],\n          [ 2.5234e+01, -3.2611e+01, -1.5873e-01,  3.8794e+00,  1.6696e+00,\n            1.4045e+00,  1.4661e+00,  1.0000e+00],\n          [ 2.2842e+01, -6.9570e+00, -8.2343e-01,  4.2821e+00,  1.6598e+00,\n            1.3848e+00,  2.6961e+00,  1.0000e+00],\n          [ 3.8935e+01, -2.4045e+00, -1.5674e+00,  3.8893e+00,  1.7875e+00,\n            1.3455e+00,  2.6861e+00,  1.0000e+00],\n          [ 1.7549e+01, -9.7123e+00, -6.3615e-01,  3.3785e+00,  1.5616e+00,\n            1.4241e+00, -7.9711e-01,  1.0000e+00],\n          [ 1.4921e+01, -1.0324e+01, -7.4971e-01,  3.8598e+00,  1.6500e+00,\n            1.5518e+00, -4.7711e-01,  1.0000e+00],\n          [ 3.1813e+01, -2.7392e+00, -6.4254e-01,  3.8401e+00,  1.5911e+00,\n            1.4143e+00,  9.6289e-01,  1.0000e+00],\n          [ 1.2212e+01, -1.3850e+00, -3.1699e-01,  3.8696e+00,  1.3750e+00,\n            1.5027e+00,  1.3361e+00,  1.0000e+00],\n          [ 2.3439e+01, -4.3826e+00, -9.0563e-01,  3.5553e+00,  1.4437e+00,\n            1.3553e+00,  2.6661e+00,  1.0000e+00],\n          [ 0.0000e+00,  0.0000e+00,  0.0000e+00,  0.0000e+00,  0.0000e+00,\n            0.0000e+00,  0.0000e+00,  0.0000e+00],\n          [ 0.0000e+00,  0.0000e+00,  0.0000e+00,  0.0000e+00,  0.0000e+00,\n            0.0000e+00,  0.0000e+00,  0.0000e+00],\n          [ 0.0000e+00,  0.0000e+00,  0.0000e+00,  0.0000e+00,  0.0000e+00,\n            0.0000e+00,  0.0000e+00,  0.0000e+00],\n          [ 0.0000e+00,  0.0000e+00,  0.0000e+00,  0.0000e+00,  0.0000e+00,\n            0.0000e+00,  0.0000e+00,  0.0000e+00],\n          [ 0.0000e+00,  0.0000e+00,  0.0000e+00,  0.0000e+00,  0.0000e+00,\n            0.0000e+00,  0.0000e+00,  0.0000e+00]],\n \n         [[ 5.1294e+01,  1.6129e+01, -6.0686e-01,  4.1712e+00,  1.6645e+00,\n            1.4639e+00, -2.7739e+00,  1.0000e+00],\n          [ 2.3472e+01,  1.7378e+00, -8.1744e-01,  3.6398e+00,  1.6244e+00,\n            1.5341e+00, -4.9074e-01,  1.0000e+00],\n          [ 1.2526e+01,  9.5161e+00, -7.0270e-01,  3.8804e+00,  1.5842e+00,\n            1.4539e+00,  1.1593e+00,  1.0000e+00],\n          [ 2.1738e+01,  8.4785e+00, -6.3713e-01,  3.6999e+00,  1.6544e+00,\n            1.5642e+00,  3.6926e-01,  1.0000e+00],\n          [ 6.0097e+01, -7.9676e+00,  5.4441e-01,  4.7427e+00,  1.8149e+00,\n            2.4867e+00,  3.6926e-01,  1.0000e+00],\n          [ 2.8836e+01,  1.1567e+01, -5.1450e-01,  4.3918e+00,  1.6745e+00,\n            1.5241e+00,  3.8926e-01,  1.0000e+00],\n          [ 4.4144e+01,  1.9765e+01, -9.2656e-01,  3.6799e+00,  1.6344e+00,\n            1.5441e+00,  6.4926e-01,  1.0000e+00],\n          [ 1.2884e+01, -2.6352e+00, -1.0484e+00,  3.6197e+00,  1.6143e+00,\n            1.4840e+00, -2.7839e+00,  1.0000e+00],\n          [ 3.2065e+01,  9.0363e+00, -6.1157e-01,  4.3416e+00,  1.6645e+00,\n            1.6043e+00, -2.7339e+00,  1.0000e+00],\n          [ 0.0000e+00,  0.0000e+00,  0.0000e+00,  0.0000e+00,  0.0000e+00,\n            0.0000e+00,  0.0000e+00,  0.0000e+00],\n          [ 0.0000e+00,  0.0000e+00,  0.0000e+00,  0.0000e+00,  0.0000e+00,\n            0.0000e+00,  0.0000e+00,  0.0000e+00],\n          [ 0.0000e+00,  0.0000e+00,  0.0000e+00,  0.0000e+00,  0.0000e+00,\n            0.0000e+00,  0.0000e+00,  0.0000e+00],\n          [ 0.0000e+00,  0.0000e+00,  0.0000e+00,  0.0000e+00,  0.0000e+00,\n            0.0000e+00,  0.0000e+00,  0.0000e+00],\n          [ 0.0000e+00,  0.0000e+00,  0.0000e+00,  0.0000e+00,  0.0000e+00,\n            0.0000e+00,  0.0000e+00,  0.0000e+00],\n          [ 0.0000e+00,  0.0000e+00,  0.0000e+00,  0.0000e+00,  0.0000e+00,\n            0.0000e+00,  0.0000e+00,  0.0000e+00],\n          [ 0.0000e+00,  0.0000e+00,  0.0000e+00,  0.0000e+00,  0.0000e+00,\n            0.0000e+00,  0.0000e+00,  0.0000e+00],\n          [ 0.0000e+00,  0.0000e+00,  0.0000e+00,  0.0000e+00,  0.0000e+00,\n            0.0000e+00,  0.0000e+00,  0.0000e+00]]], device='cuda:0'),\n 'points': tensor([[ 0.0000e+00,  3.3809e+00, -1.6787e+01, -1.5939e+00,  3.1000e-01],\n         [ 0.0000e+00,  2.0875e+01, -3.7063e+00, -1.5070e+00,  1.7000e-01],\n         [ 0.0000e+00,  3.6475e+01, -1.6826e+01, -1.3514e+00,  0.0000e+00],\n         ...,\n         [ 3.0000e+00,  2.2089e+01,  2.8095e+00, -1.1741e+00,  3.2000e-01],\n         [ 3.0000e+00,  4.2173e+01,  3.7508e+00, -1.4278e+00,  0.0000e+00],\n         [ 3.0000e+00,  1.0866e+01,  1.3380e-01, -1.7076e+00,  4.0000e-02]],\n        device='cuda:0'),\n 'use_lead_xyz': tensor([1., 1., 1., 1.], device='cuda:0'),\n 'image_shape': tensor([[ 375, 1242,    3],\n         [ 375, 1242,    3],\n         [ 374, 1238,    3],\n         [ 375, 1242,    3]], device='cuda:0', dtype=torch.int32),\n 'batch_size': 4,\n 'voxels': tensor([[[  3.3809, -16.7871,  -1.5939,   0.3100],\n          [  0.0000,   0.0000,   0.0000,   0.0000],\n          [  0.0000,   0.0000,   0.0000,   0.0000],\n          [  0.0000,   0.0000,   0.0000,   0.0000],\n          [  0.0000,   0.0000,   0.0000,   0.0000]],\n \n         [[ 20.8752,  -3.7063,  -1.5070,   0.1700],\n          [  0.0000,   0.0000,   0.0000,   0.0000],\n          [  0.0000,   0.0000,   0.0000,   0.0000],\n          [  0.0000,   0.0000,   0.0000,   0.0000],\n          [  0.0000,   0.0000,   0.0000,   0.0000]],\n \n         [[ 36.4749, -16.8259,  -1.3514,   0.0000],\n          [  0.0000,   0.0000,   0.0000,   0.0000],\n          [  0.0000,   0.0000,   0.0000,   0.0000],\n          [  0.0000,   0.0000,   0.0000,   0.0000],\n          [  0.0000,   0.0000,   0.0000,   0.0000]],\n \n         ...,\n \n         [[ 14.8142,   3.6570,  -1.5863,   0.6400],\n          [  0.0000,   0.0000,   0.0000,   0.0000],\n          [  0.0000,   0.0000,   0.0000,   0.0000],\n          [  0.0000,   0.0000,   0.0000,   0.0000],\n          [  0.0000,   0.0000,   0.0000,   0.0000]],\n \n         [[ 26.6701,  11.1493,  -1.0819,   0.0000],\n          [  0.0000,   0.0000,   0.0000,   0.0000],\n          [  0.0000,   0.0000,   0.0000,   0.0000],\n          [  0.0000,   0.0000,   0.0000,   0.0000],\n          [  0.0000,   0.0000,   0.0000,   0.0000]],\n \n         [[  9.8069,   6.9795,  -1.7858,   0.3400],\n          [  0.0000,   0.0000,   0.0000,   0.0000],\n          [  0.0000,   0.0000,   0.0000,   0.0000],\n          [  0.0000,   0.0000,   0.0000,   0.0000],\n          [  0.0000,   0.0000,   0.0000,   0.0000]]], device='cuda:0'),\n 'voxel_coords': tensor([[   0.,   14.,  464.,   67.],\n         [   0.,   14.,  725.,  417.],\n         [   0.,   16.,  463.,  729.],\n         ...,\n         [   3.,   14.,  873.,  296.],\n         [   3.,   19., 1022.,  533.],\n         [   3.,   12.,  939.,  196.]], device='cuda:0'),\n 'voxel_num_points': tensor([1., 1., 1.,  ..., 1., 1., 1.], device='cuda:0')}"
     },
     "execution_count": 8,
     "metadata": {},
     "output_type": "execute_result"
    }
   ],
   "source": [
    "from basic.module.voxelize import VoxelLayer\n",
    "voxelize_cfg = model_cfg.VOXELIZE_LAYER\n",
    "voxelize_module = VoxelLayer(model_info_dict=model_info_dict, **voxelize_cfg).to(device)\n",
    "output = voxelize_module(test_data, keep_points=True)\n",
    "model_info_dict['module_list'].append(voxelize_module)\n",
    "output"
   ],
   "metadata": {
    "collapsed": false,
    "pycharm": {
     "name": "#%%\n"
    }
   }
  },
  {
   "cell_type": "code",
   "execution_count": 9,
   "outputs": [
    {
     "name": "stdout",
     "output_type": "stream",
     "text": [
      "torch.Size([58812, 5, 4])\n",
      "torch.Size([58812, 4])\n",
      "torch.Size([58812])\n"
     ]
    }
   ],
   "source": [
    "print(output['voxels'].shape)\n",
    "print(output['voxel_coords'].shape)\n",
    "print(output['voxel_num_points'].shape)"
   ],
   "metadata": {
    "collapsed": false,
    "pycharm": {
     "name": "#%%\n"
    }
   }
  },
  {
   "cell_type": "code",
   "execution_count": 10,
   "outputs": [
    {
     "name": "stdout",
     "output_type": "stream",
     "text": [
      "[1408 1600   40]\n",
      "[0.05, 0.05, 0.1]\n"
     ]
    }
   ],
   "source": [
    "print(voxelize_module.grid_size)\n",
    "print(voxelize_module.voxel_size)"
   ],
   "metadata": {
    "collapsed": false,
    "pycharm": {
     "name": "#%%\n"
    }
   }
  },
  {
   "cell_type": "markdown",
   "source": [
    "# Feature Extractor/Encoding Module\n",
    "点云特征提取模块目的是：从无序的原始点云数据中提取出有序的初步特征,或者说找到一种方式编码原始点云，\n",
    "令其有序。其实就是把原始点云转换为有序的张量矩阵\n",
    "常见PointNet的方式，就是为了提取有序的初步特征；而体素的方式，是为了用体素这种格式编码原始点云，令其有序\n",
    "为什么要这样做？我的理解是，现有CNN只能处理有序的张量！！！不管是3d卷积还是2d卷积\n",
    "\n"
   ],
   "metadata": {
    "collapsed": false
   }
  },
  {
   "cell_type": "markdown",
   "source": [
    "Voxel Feature Extractor(VFE)\n",
    "- 提取体素级别的特征\n",
    "输入：体素，以及体素相关的信息\n",
    "输出：提取的体素特征\n",
    "- Mean VFE：取每个体素内所有点的平均值作为输出特征\n",
    "- MLP VFE:对每个体素内的点集，做类似PointNet的操作。即用MLP + Max pooling 提取点集的特征"
   ],
   "metadata": {
    "collapsed": false
   }
  },
  {
   "cell_type": "code",
   "execution_count": 11,
   "outputs": [
    {
     "name": "stdout",
     "output_type": "stream",
     "text": [
      "{'NAME': 'MeanVFE', 'is_normalize': True}\n"
     ]
    }
   ],
   "source": [
    "fe_cfg = model_cfg.FEATURE_EXTRACTOR\n",
    "pprint(fe_cfg)"
   ],
   "metadata": {
    "collapsed": false,
    "pycharm": {
     "name": "#%%\n"
    }
   }
  },
  {
   "cell_type": "code",
   "execution_count": 12,
   "outputs": [
    {
     "name": "stdout",
     "output_type": "stream",
     "text": [
      "Mean VFE： voxel_features shape: torch.Size([58812, 4])\n"
     ]
    },
    {
     "data": {
      "text/plain": "{'frame_id': array(['006974', '007388', '006697', '007113'], dtype='<U6'),\n 'gt_boxes': tensor([[[ 3.4287e+01, -3.6757e+01, -5.7138e-01,  3.3906e+00,  1.3138e+00,\n            1.4297e+00, -3.6820e-01,  1.0000e+00],\n          [ 2.6158e+01, -2.0168e+01, -7.6718e-01,  4.3470e+00,  1.5746e+00,\n            1.5649e+00, -6.6820e-01,  1.0000e+00],\n          [ 1.1218e+01, -5.0065e+00, -8.7279e-01,  4.2407e+00,  1.6229e+00,\n            1.3910e+00,  2.4450e+00,  1.0000e+00],\n          [ 7.4499e+00, -2.3022e+01, -5.1212e-01,  3.7481e+00,  1.5070e+00,\n            1.4393e+00, -6.8820e-01,  1.0000e+00],\n          [ 2.6972e+01, -2.6909e+01,  9.2320e-02,  4.0379e+00,  1.7968e+00,\n            1.4297e+00, -2.3082e+00,  1.0000e+00],\n          [ 2.5747e+01, -2.3670e+01, -7.6032e-01,  3.6611e+00,  1.5359e+00,\n            1.4490e+00, -6.2820e-01,  1.0000e+00],\n          [ 2.3785e+01, -1.1817e+01, -8.9798e-01,  4.3470e+00,  1.6519e+00,\n            1.4973e+00,  2.4950e+00,  1.0000e+00],\n          [ 3.4093e+01, -1.3558e+01, -5.8491e-01,  4.0572e+00,  1.5263e+00,\n            1.5746e+00,  2.4450e+00,  1.0000e+00],\n          [ 3.2650e+01, -1.0931e+00, -7.7659e-01,  3.9123e+00,  1.4200e+00,\n            1.4780e+00,  2.4550e+00,  1.0000e+00],\n          [ 8.0022e+00, -1.9903e+00, -9.9201e-01,  3.6901e+00,  1.4780e+00,\n            1.6422e+00,  2.4850e+00,  1.0000e+00],\n          [ 3.2505e+01, -2.1368e+01, -8.1101e-01,  3.1008e+00,  1.5649e+00,\n            1.4297e+00,  2.4650e+00,  1.0000e+00],\n          [ 3.0511e+01, -1.4891e+01, -7.8026e-01,  4.3760e+00,  1.6132e+00,\n            1.3717e+00,  2.2750e+00,  1.0000e+00],\n          [ 2.1808e+01, -2.2562e+01, -5.1207e-01,  4.0185e+00,  1.5746e+00,\n            1.4393e+00, -1.4582e+00,  1.0000e+00],\n          [ 2.8808e+01, -2.0104e+01, -4.2861e-01,  3.8930e+00,  1.5359e+00,\n            1.4200e+00, -7.1820e-01,  1.0000e+00],\n          [ 1.2118e+01, -1.4654e+01, -8.8686e-01,  4.2600e+00,  1.6615e+00,\n            1.6036e+00, -6.6820e-01,  1.0000e+00],\n          [ 1.8511e+01, -1.3998e+01, -8.3967e-01,  3.2651e+00,  1.6325e+00,\n            1.3138e+00, -6.9820e-01,  1.0000e+00],\n          [ 2.5700e+01, -9.9318e+00, -7.4554e-01,  3.6998e+00,  1.5553e+00,\n            1.7388e+00,  2.4250e+00,  1.0000e+00]],\n \n         [[ 6.9835e+00, -1.0903e+00, -7.8556e-01,  3.4918e+00,  1.4549e+00,\n            1.6456e+00,  2.3166e+00,  1.0000e+00],\n          [ 2.4316e+00, -6.2401e+00, -9.2757e-01,  4.2945e+00,  1.5854e+00,\n            1.5252e+00, -8.1657e-01,  1.0000e+00],\n          [ 1.2750e+01, -1.1182e+01, -7.6846e-01,  4.0938e+00,  1.6456e+00,\n            1.5452e+00,  2.0766e+00,  1.0000e+00],\n          [ 5.7021e+00, -1.0297e+01, -9.0242e-01,  3.5921e+00,  1.5753e+00,\n            1.4649e+00, -9.5657e-01,  1.0000e+00],\n          [ 8.1742e+00, -1.4443e+01, -7.7883e-01,  3.4416e+00,  1.6757e+00,\n            1.5854e+00, -9.4657e-01,  1.0000e+00],\n          [ 4.1889e+00, -2.7748e+01, -3.6041e-02,  3.6925e+00,  1.9466e+00,\n            1.8462e+00, -6.1657e-01,  1.0000e+00],\n          [ 2.1718e+01, -2.2293e+01, -4.4379e-01,  4.1841e+00,  1.6054e+00,\n            1.5051e+00,  2.1266e+00,  1.0000e+00],\n          [ 2.0097e+01, -3.1623e+01, -6.2601e-01,  3.9433e+00,  1.6857e+00,\n            1.5854e+00, -9.3657e-01,  1.0000e+00],\n          [ 2.8060e+01, -3.1730e+01, -1.7678e-01,  3.9935e+00,  1.5452e+00,\n            1.5854e+00,  2.0866e+00,  1.0000e+00],\n          [ 1.7721e+01, -9.4917e+00, -1.0195e+00,  4.5153e+00,  1.7158e+00,\n            1.5553e+00,  2.4166e+00,  1.0000e+00],\n          [ 1.9670e+01, -1.6981e+01, -8.9632e-01,  3.2108e+00,  1.6656e+00,\n            1.6155e+00, -7.2657e-01,  1.0000e+00],\n          [ 1.2475e+01, -1.7603e+01, -8.6812e-01,  4.2945e+00,  1.5854e+00,\n            1.5252e+00, -9.1657e-01,  1.0000e+00],\n          [ 3.4259e+01, -3.3892e+00, -9.0953e-01,  4.1741e+00,  1.8161e+00,\n            1.4348e+00,  2.4066e+00,  1.0000e+00],\n          [ 3.8076e+01, -1.4359e+01, -5.5079e-01,  2.9600e+00,  1.2944e+00,\n            1.4750e+00,  2.3666e+00,  1.0000e+00],\n          [ 0.0000e+00,  0.0000e+00,  0.0000e+00,  0.0000e+00,  0.0000e+00,\n            0.0000e+00,  0.0000e+00,  0.0000e+00],\n          [ 0.0000e+00,  0.0000e+00,  0.0000e+00,  0.0000e+00,  0.0000e+00,\n            0.0000e+00,  0.0000e+00,  0.0000e+00],\n          [ 0.0000e+00,  0.0000e+00,  0.0000e+00,  0.0000e+00,  0.0000e+00,\n            0.0000e+00,  0.0000e+00,  0.0000e+00]],\n \n         [[ 4.2018e+01, -1.6295e+01, -4.4903e-01,  3.5553e+00,  1.7482e+00,\n            1.3946e+00,  2.5961e+00,  1.0000e+00],\n          [ 3.1294e+01, -1.8732e+01, -3.8901e-01,  4.6259e+00,  1.7089e+00,\n            1.6991e+00,  1.1861e+00,  1.0000e+00],\n          [ 3.4237e+01, -1.5085e+01, -8.1611e-01,  3.5455e+00,  1.6402e+00,\n            1.4928e+00, -4.6711e-01,  1.0000e+00],\n          [ 7.7621e+00, -9.2521e-01, -8.3871e-01,  3.3294e+00,  1.7187e+00,\n            1.6205e+00,  2.7761e+00,  1.0000e+00],\n          [ 2.5234e+01, -3.2611e+01, -1.5873e-01,  3.8794e+00,  1.6696e+00,\n            1.4045e+00,  1.4661e+00,  1.0000e+00],\n          [ 2.2842e+01, -6.9570e+00, -8.2343e-01,  4.2821e+00,  1.6598e+00,\n            1.3848e+00,  2.6961e+00,  1.0000e+00],\n          [ 3.8935e+01, -2.4045e+00, -1.5674e+00,  3.8893e+00,  1.7875e+00,\n            1.3455e+00,  2.6861e+00,  1.0000e+00],\n          [ 1.7549e+01, -9.7123e+00, -6.3615e-01,  3.3785e+00,  1.5616e+00,\n            1.4241e+00, -7.9711e-01,  1.0000e+00],\n          [ 1.4921e+01, -1.0324e+01, -7.4971e-01,  3.8598e+00,  1.6500e+00,\n            1.5518e+00, -4.7711e-01,  1.0000e+00],\n          [ 3.1813e+01, -2.7392e+00, -6.4254e-01,  3.8401e+00,  1.5911e+00,\n            1.4143e+00,  9.6289e-01,  1.0000e+00],\n          [ 1.2212e+01, -1.3850e+00, -3.1699e-01,  3.8696e+00,  1.3750e+00,\n            1.5027e+00,  1.3361e+00,  1.0000e+00],\n          [ 2.3439e+01, -4.3826e+00, -9.0563e-01,  3.5553e+00,  1.4437e+00,\n            1.3553e+00,  2.6661e+00,  1.0000e+00],\n          [ 0.0000e+00,  0.0000e+00,  0.0000e+00,  0.0000e+00,  0.0000e+00,\n            0.0000e+00,  0.0000e+00,  0.0000e+00],\n          [ 0.0000e+00,  0.0000e+00,  0.0000e+00,  0.0000e+00,  0.0000e+00,\n            0.0000e+00,  0.0000e+00,  0.0000e+00],\n          [ 0.0000e+00,  0.0000e+00,  0.0000e+00,  0.0000e+00,  0.0000e+00,\n            0.0000e+00,  0.0000e+00,  0.0000e+00],\n          [ 0.0000e+00,  0.0000e+00,  0.0000e+00,  0.0000e+00,  0.0000e+00,\n            0.0000e+00,  0.0000e+00,  0.0000e+00],\n          [ 0.0000e+00,  0.0000e+00,  0.0000e+00,  0.0000e+00,  0.0000e+00,\n            0.0000e+00,  0.0000e+00,  0.0000e+00]],\n \n         [[ 5.1294e+01,  1.6129e+01, -6.0686e-01,  4.1712e+00,  1.6645e+00,\n            1.4639e+00, -2.7739e+00,  1.0000e+00],\n          [ 2.3472e+01,  1.7378e+00, -8.1744e-01,  3.6398e+00,  1.6244e+00,\n            1.5341e+00, -4.9074e-01,  1.0000e+00],\n          [ 1.2526e+01,  9.5161e+00, -7.0270e-01,  3.8804e+00,  1.5842e+00,\n            1.4539e+00,  1.1593e+00,  1.0000e+00],\n          [ 2.1738e+01,  8.4785e+00, -6.3713e-01,  3.6999e+00,  1.6544e+00,\n            1.5642e+00,  3.6926e-01,  1.0000e+00],\n          [ 6.0097e+01, -7.9676e+00,  5.4441e-01,  4.7427e+00,  1.8149e+00,\n            2.4867e+00,  3.6926e-01,  1.0000e+00],\n          [ 2.8836e+01,  1.1567e+01, -5.1450e-01,  4.3918e+00,  1.6745e+00,\n            1.5241e+00,  3.8926e-01,  1.0000e+00],\n          [ 4.4144e+01,  1.9765e+01, -9.2656e-01,  3.6799e+00,  1.6344e+00,\n            1.5441e+00,  6.4926e-01,  1.0000e+00],\n          [ 1.2884e+01, -2.6352e+00, -1.0484e+00,  3.6197e+00,  1.6143e+00,\n            1.4840e+00, -2.7839e+00,  1.0000e+00],\n          [ 3.2065e+01,  9.0363e+00, -6.1157e-01,  4.3416e+00,  1.6645e+00,\n            1.6043e+00, -2.7339e+00,  1.0000e+00],\n          [ 0.0000e+00,  0.0000e+00,  0.0000e+00,  0.0000e+00,  0.0000e+00,\n            0.0000e+00,  0.0000e+00,  0.0000e+00],\n          [ 0.0000e+00,  0.0000e+00,  0.0000e+00,  0.0000e+00,  0.0000e+00,\n            0.0000e+00,  0.0000e+00,  0.0000e+00],\n          [ 0.0000e+00,  0.0000e+00,  0.0000e+00,  0.0000e+00,  0.0000e+00,\n            0.0000e+00,  0.0000e+00,  0.0000e+00],\n          [ 0.0000e+00,  0.0000e+00,  0.0000e+00,  0.0000e+00,  0.0000e+00,\n            0.0000e+00,  0.0000e+00,  0.0000e+00],\n          [ 0.0000e+00,  0.0000e+00,  0.0000e+00,  0.0000e+00,  0.0000e+00,\n            0.0000e+00,  0.0000e+00,  0.0000e+00],\n          [ 0.0000e+00,  0.0000e+00,  0.0000e+00,  0.0000e+00,  0.0000e+00,\n            0.0000e+00,  0.0000e+00,  0.0000e+00],\n          [ 0.0000e+00,  0.0000e+00,  0.0000e+00,  0.0000e+00,  0.0000e+00,\n            0.0000e+00,  0.0000e+00,  0.0000e+00],\n          [ 0.0000e+00,  0.0000e+00,  0.0000e+00,  0.0000e+00,  0.0000e+00,\n            0.0000e+00,  0.0000e+00,  0.0000e+00]]], device='cuda:0'),\n 'points': tensor([[ 0.0000e+00,  3.3809e+00, -1.6787e+01, -1.5939e+00,  3.1000e-01],\n         [ 0.0000e+00,  2.0875e+01, -3.7063e+00, -1.5070e+00,  1.7000e-01],\n         [ 0.0000e+00,  3.6475e+01, -1.6826e+01, -1.3514e+00,  0.0000e+00],\n         ...,\n         [ 3.0000e+00,  2.2089e+01,  2.8095e+00, -1.1741e+00,  3.2000e-01],\n         [ 3.0000e+00,  4.2173e+01,  3.7508e+00, -1.4278e+00,  0.0000e+00],\n         [ 3.0000e+00,  1.0866e+01,  1.3380e-01, -1.7076e+00,  4.0000e-02]],\n        device='cuda:0'),\n 'use_lead_xyz': tensor([1., 1., 1., 1.], device='cuda:0'),\n 'image_shape': tensor([[ 375, 1242,    3],\n         [ 375, 1242,    3],\n         [ 374, 1238,    3],\n         [ 375, 1242,    3]], device='cuda:0', dtype=torch.int32),\n 'batch_size': 4,\n 'voxels': tensor([[[  3.3809, -16.7871,  -1.5939,   0.3100],\n          [  0.0000,   0.0000,   0.0000,   0.0000],\n          [  0.0000,   0.0000,   0.0000,   0.0000],\n          [  0.0000,   0.0000,   0.0000,   0.0000],\n          [  0.0000,   0.0000,   0.0000,   0.0000]],\n \n         [[ 20.8752,  -3.7063,  -1.5070,   0.1700],\n          [  0.0000,   0.0000,   0.0000,   0.0000],\n          [  0.0000,   0.0000,   0.0000,   0.0000],\n          [  0.0000,   0.0000,   0.0000,   0.0000],\n          [  0.0000,   0.0000,   0.0000,   0.0000]],\n \n         [[ 36.4749, -16.8259,  -1.3514,   0.0000],\n          [  0.0000,   0.0000,   0.0000,   0.0000],\n          [  0.0000,   0.0000,   0.0000,   0.0000],\n          [  0.0000,   0.0000,   0.0000,   0.0000],\n          [  0.0000,   0.0000,   0.0000,   0.0000]],\n \n         ...,\n \n         [[ 14.8142,   3.6570,  -1.5863,   0.6400],\n          [  0.0000,   0.0000,   0.0000,   0.0000],\n          [  0.0000,   0.0000,   0.0000,   0.0000],\n          [  0.0000,   0.0000,   0.0000,   0.0000],\n          [  0.0000,   0.0000,   0.0000,   0.0000]],\n \n         [[ 26.6701,  11.1493,  -1.0819,   0.0000],\n          [  0.0000,   0.0000,   0.0000,   0.0000],\n          [  0.0000,   0.0000,   0.0000,   0.0000],\n          [  0.0000,   0.0000,   0.0000,   0.0000],\n          [  0.0000,   0.0000,   0.0000,   0.0000]],\n \n         [[  9.8069,   6.9795,  -1.7858,   0.3400],\n          [  0.0000,   0.0000,   0.0000,   0.0000],\n          [  0.0000,   0.0000,   0.0000,   0.0000],\n          [  0.0000,   0.0000,   0.0000,   0.0000],\n          [  0.0000,   0.0000,   0.0000,   0.0000]]], device='cuda:0'),\n 'voxel_coords': tensor([[   0.,   14.,  464.,   67.],\n         [   0.,   14.,  725.,  417.],\n         [   0.,   16.,  463.,  729.],\n         ...,\n         [   3.,   14.,  873.,  296.],\n         [   3.,   19., 1022.,  533.],\n         [   3.,   12.,  939.,  196.]], device='cuda:0'),\n 'voxel_num_points': tensor([1., 1., 1.,  ..., 1., 1., 1.], device='cuda:0'),\n 'voxel_features': tensor([[  3.3809, -16.7871,  -1.5939,   0.3100],\n         [ 20.8752,  -3.7063,  -1.5070,   0.1700],\n         [ 36.4749, -16.8259,  -1.3514,   0.0000],\n         ...,\n         [ 14.8142,   3.6570,  -1.5863,   0.6400],\n         [ 26.6701,  11.1493,  -1.0819,   0.0000],\n         [  9.8069,   6.9795,  -1.7858,   0.3400]], device='cuda:0')}"
     },
     "execution_count": 12,
     "metadata": {},
     "output_type": "execute_result"
    }
   ],
   "source": [
    "#mean vfe\n",
    "from basic.module.feature_extractor import MeanVFE\n",
    "mean_vfe_module = MeanVFE(model_info_dict, **fe_cfg).cuda()\n",
    "output = mean_vfe_module(output)\n",
    "model_info_dict['module_list'].append(mean_vfe_module)\n",
    "print(f\"Mean VFE： voxel_features shape:\", output['voxel_features'].shape)\n",
    "output"
   ],
   "metadata": {
    "collapsed": false,
    "pycharm": {
     "name": "#%%\n"
    }
   }
  },
  {
   "cell_type": "markdown",
   "source": [],
   "metadata": {
    "collapsed": false,
    "pycharm": {
     "name": "#%% md\n"
    }
   }
  },
  {
   "cell_type": "code",
   "execution_count": 13,
   "outputs": [
    {
     "name": "stdout",
     "output_type": "stream",
     "text": [
      "current model infos:\n",
      "module_list:[VoxelLayer(), MeanVFE()]\n",
      "training:True\n",
      "raw_point_feature_dims:4\n",
      "cur_point_feature_dims:4\n",
      "point_cloud_range:[  0.  -40.   -3.   70.4  40.    1. ]\n",
      "voxel_size:[0.05, 0.05, 0.1]\n",
      "grid_size:[1408 1600   40]\n",
      "class_names:['Car']\n"
     ]
    }
   ],
   "source": [
    "print(f\"current model infos:\")\n",
    "for key, value in model_info_dict.items():\n",
    "    print(f\"{key}:{value}\")"
   ],
   "metadata": {
    "collapsed": false,
    "pycharm": {
     "name": "#%%\n"
    }
   }
  },
  {
   "cell_type": "code",
   "execution_count": 14,
   "outputs": [
    {
     "name": "stdout",
     "output_type": "stream",
     "text": [
      "Mlp VFE： voxel_features shape: torch.Size([58812, 128])\n"
     ]
    }
   ],
   "source": [
    "# mlp vfe just test\n",
    "from basic.module.feature_extractor import MlpVFE\n",
    "cfg = {'mlp_dims': [32, 64, 64, 128, 128],\n",
    "       'input_channels': 4}\n",
    "mlp_vfe_module = MlpVFE(cfg).cuda()\n",
    "t = mlp_vfe_module(test_data)\n",
    "print(f\"Mlp VFE： voxel_features shape:\", t.shape)"
   ],
   "metadata": {
    "collapsed": false,
    "pycharm": {
     "name": "#%%\n"
    }
   }
  },
  {
   "cell_type": "markdown",
   "source": [
    "Point Feature Extractor(PFE)\n",
    "- 直接提取原始点云的特征\n",
    "- 代表方法PointNet++的SetAbstract layer"
   ],
   "metadata": {
    "collapsed": false
   }
  },
  {
   "cell_type": "code",
   "execution_count": 15,
   "outputs": [],
   "source": [
    "#todo"
   ],
   "metadata": {
    "collapsed": false,
    "pycharm": {
     "name": "#%%\n"
    }
   }
  },
  {
   "cell_type": "markdown",
   "source": [
    "# Backbone3D\n",
    "- 经过原始点云的特征提取/编码后，一般会得到B,C,VH,VW,VD的体素张量特征矩阵。或B,C,H,W的点云特征张量矩阵。\n",
    "根据特征张量维度选择用3D卷积还是2D卷积网络来进一步提取特征。\n",
    "- 因为体素张量特征矩阵非常稀疏，多使用稀疏卷积。使用spconv库来进行稀疏3D卷积"
   ],
   "metadata": {
    "collapsed": false
   }
  },
  {
   "cell_type": "code",
   "execution_count": 16,
   "outputs": [
    {
     "name": "stdout",
     "output_type": "stream",
     "text": [
      "{'NAME': 'VoxelBackBone8x', 'in_channels': 4}\n"
     ]
    }
   ],
   "source": [
    "back3d_cfg = model_cfg.BACKBONE3D\n",
    "pprint(back3d_cfg)"
   ],
   "metadata": {
    "collapsed": false,
    "pycharm": {
     "name": "#%%\n"
    }
   }
  },
  {
   "cell_type": "code",
   "execution_count": 17,
   "outputs": [
    {
     "name": "stdout",
     "output_type": "stream",
     "text": [
      "spconv_tensor_shape: torch.Size([4, 128, 2, 200, 176])\n"
     ]
    },
    {
     "data": {
      "text/plain": "{'frame_id': array(['006974', '007388', '006697', '007113'], dtype='<U6'),\n 'gt_boxes': tensor([[[ 3.4287e+01, -3.6757e+01, -5.7138e-01,  3.3906e+00,  1.3138e+00,\n            1.4297e+00, -3.6820e-01,  1.0000e+00],\n          [ 2.6158e+01, -2.0168e+01, -7.6718e-01,  4.3470e+00,  1.5746e+00,\n            1.5649e+00, -6.6820e-01,  1.0000e+00],\n          [ 1.1218e+01, -5.0065e+00, -8.7279e-01,  4.2407e+00,  1.6229e+00,\n            1.3910e+00,  2.4450e+00,  1.0000e+00],\n          [ 7.4499e+00, -2.3022e+01, -5.1212e-01,  3.7481e+00,  1.5070e+00,\n            1.4393e+00, -6.8820e-01,  1.0000e+00],\n          [ 2.6972e+01, -2.6909e+01,  9.2320e-02,  4.0379e+00,  1.7968e+00,\n            1.4297e+00, -2.3082e+00,  1.0000e+00],\n          [ 2.5747e+01, -2.3670e+01, -7.6032e-01,  3.6611e+00,  1.5359e+00,\n            1.4490e+00, -6.2820e-01,  1.0000e+00],\n          [ 2.3785e+01, -1.1817e+01, -8.9798e-01,  4.3470e+00,  1.6519e+00,\n            1.4973e+00,  2.4950e+00,  1.0000e+00],\n          [ 3.4093e+01, -1.3558e+01, -5.8491e-01,  4.0572e+00,  1.5263e+00,\n            1.5746e+00,  2.4450e+00,  1.0000e+00],\n          [ 3.2650e+01, -1.0931e+00, -7.7659e-01,  3.9123e+00,  1.4200e+00,\n            1.4780e+00,  2.4550e+00,  1.0000e+00],\n          [ 8.0022e+00, -1.9903e+00, -9.9201e-01,  3.6901e+00,  1.4780e+00,\n            1.6422e+00,  2.4850e+00,  1.0000e+00],\n          [ 3.2505e+01, -2.1368e+01, -8.1101e-01,  3.1008e+00,  1.5649e+00,\n            1.4297e+00,  2.4650e+00,  1.0000e+00],\n          [ 3.0511e+01, -1.4891e+01, -7.8026e-01,  4.3760e+00,  1.6132e+00,\n            1.3717e+00,  2.2750e+00,  1.0000e+00],\n          [ 2.1808e+01, -2.2562e+01, -5.1207e-01,  4.0185e+00,  1.5746e+00,\n            1.4393e+00, -1.4582e+00,  1.0000e+00],\n          [ 2.8808e+01, -2.0104e+01, -4.2861e-01,  3.8930e+00,  1.5359e+00,\n            1.4200e+00, -7.1820e-01,  1.0000e+00],\n          [ 1.2118e+01, -1.4654e+01, -8.8686e-01,  4.2600e+00,  1.6615e+00,\n            1.6036e+00, -6.6820e-01,  1.0000e+00],\n          [ 1.8511e+01, -1.3998e+01, -8.3967e-01,  3.2651e+00,  1.6325e+00,\n            1.3138e+00, -6.9820e-01,  1.0000e+00],\n          [ 2.5700e+01, -9.9318e+00, -7.4554e-01,  3.6998e+00,  1.5553e+00,\n            1.7388e+00,  2.4250e+00,  1.0000e+00]],\n \n         [[ 6.9835e+00, -1.0903e+00, -7.8556e-01,  3.4918e+00,  1.4549e+00,\n            1.6456e+00,  2.3166e+00,  1.0000e+00],\n          [ 2.4316e+00, -6.2401e+00, -9.2757e-01,  4.2945e+00,  1.5854e+00,\n            1.5252e+00, -8.1657e-01,  1.0000e+00],\n          [ 1.2750e+01, -1.1182e+01, -7.6846e-01,  4.0938e+00,  1.6456e+00,\n            1.5452e+00,  2.0766e+00,  1.0000e+00],\n          [ 5.7021e+00, -1.0297e+01, -9.0242e-01,  3.5921e+00,  1.5753e+00,\n            1.4649e+00, -9.5657e-01,  1.0000e+00],\n          [ 8.1742e+00, -1.4443e+01, -7.7883e-01,  3.4416e+00,  1.6757e+00,\n            1.5854e+00, -9.4657e-01,  1.0000e+00],\n          [ 4.1889e+00, -2.7748e+01, -3.6041e-02,  3.6925e+00,  1.9466e+00,\n            1.8462e+00, -6.1657e-01,  1.0000e+00],\n          [ 2.1718e+01, -2.2293e+01, -4.4379e-01,  4.1841e+00,  1.6054e+00,\n            1.5051e+00,  2.1266e+00,  1.0000e+00],\n          [ 2.0097e+01, -3.1623e+01, -6.2601e-01,  3.9433e+00,  1.6857e+00,\n            1.5854e+00, -9.3657e-01,  1.0000e+00],\n          [ 2.8060e+01, -3.1730e+01, -1.7678e-01,  3.9935e+00,  1.5452e+00,\n            1.5854e+00,  2.0866e+00,  1.0000e+00],\n          [ 1.7721e+01, -9.4917e+00, -1.0195e+00,  4.5153e+00,  1.7158e+00,\n            1.5553e+00,  2.4166e+00,  1.0000e+00],\n          [ 1.9670e+01, -1.6981e+01, -8.9632e-01,  3.2108e+00,  1.6656e+00,\n            1.6155e+00, -7.2657e-01,  1.0000e+00],\n          [ 1.2475e+01, -1.7603e+01, -8.6812e-01,  4.2945e+00,  1.5854e+00,\n            1.5252e+00, -9.1657e-01,  1.0000e+00],\n          [ 3.4259e+01, -3.3892e+00, -9.0953e-01,  4.1741e+00,  1.8161e+00,\n            1.4348e+00,  2.4066e+00,  1.0000e+00],\n          [ 3.8076e+01, -1.4359e+01, -5.5079e-01,  2.9600e+00,  1.2944e+00,\n            1.4750e+00,  2.3666e+00,  1.0000e+00],\n          [ 0.0000e+00,  0.0000e+00,  0.0000e+00,  0.0000e+00,  0.0000e+00,\n            0.0000e+00,  0.0000e+00,  0.0000e+00],\n          [ 0.0000e+00,  0.0000e+00,  0.0000e+00,  0.0000e+00,  0.0000e+00,\n            0.0000e+00,  0.0000e+00,  0.0000e+00],\n          [ 0.0000e+00,  0.0000e+00,  0.0000e+00,  0.0000e+00,  0.0000e+00,\n            0.0000e+00,  0.0000e+00,  0.0000e+00]],\n \n         [[ 4.2018e+01, -1.6295e+01, -4.4903e-01,  3.5553e+00,  1.7482e+00,\n            1.3946e+00,  2.5961e+00,  1.0000e+00],\n          [ 3.1294e+01, -1.8732e+01, -3.8901e-01,  4.6259e+00,  1.7089e+00,\n            1.6991e+00,  1.1861e+00,  1.0000e+00],\n          [ 3.4237e+01, -1.5085e+01, -8.1611e-01,  3.5455e+00,  1.6402e+00,\n            1.4928e+00, -4.6711e-01,  1.0000e+00],\n          [ 7.7621e+00, -9.2521e-01, -8.3871e-01,  3.3294e+00,  1.7187e+00,\n            1.6205e+00,  2.7761e+00,  1.0000e+00],\n          [ 2.5234e+01, -3.2611e+01, -1.5873e-01,  3.8794e+00,  1.6696e+00,\n            1.4045e+00,  1.4661e+00,  1.0000e+00],\n          [ 2.2842e+01, -6.9570e+00, -8.2343e-01,  4.2821e+00,  1.6598e+00,\n            1.3848e+00,  2.6961e+00,  1.0000e+00],\n          [ 3.8935e+01, -2.4045e+00, -1.5674e+00,  3.8893e+00,  1.7875e+00,\n            1.3455e+00,  2.6861e+00,  1.0000e+00],\n          [ 1.7549e+01, -9.7123e+00, -6.3615e-01,  3.3785e+00,  1.5616e+00,\n            1.4241e+00, -7.9711e-01,  1.0000e+00],\n          [ 1.4921e+01, -1.0324e+01, -7.4971e-01,  3.8598e+00,  1.6500e+00,\n            1.5518e+00, -4.7711e-01,  1.0000e+00],\n          [ 3.1813e+01, -2.7392e+00, -6.4254e-01,  3.8401e+00,  1.5911e+00,\n            1.4143e+00,  9.6289e-01,  1.0000e+00],\n          [ 1.2212e+01, -1.3850e+00, -3.1699e-01,  3.8696e+00,  1.3750e+00,\n            1.5027e+00,  1.3361e+00,  1.0000e+00],\n          [ 2.3439e+01, -4.3826e+00, -9.0563e-01,  3.5553e+00,  1.4437e+00,\n            1.3553e+00,  2.6661e+00,  1.0000e+00],\n          [ 0.0000e+00,  0.0000e+00,  0.0000e+00,  0.0000e+00,  0.0000e+00,\n            0.0000e+00,  0.0000e+00,  0.0000e+00],\n          [ 0.0000e+00,  0.0000e+00,  0.0000e+00,  0.0000e+00,  0.0000e+00,\n            0.0000e+00,  0.0000e+00,  0.0000e+00],\n          [ 0.0000e+00,  0.0000e+00,  0.0000e+00,  0.0000e+00,  0.0000e+00,\n            0.0000e+00,  0.0000e+00,  0.0000e+00],\n          [ 0.0000e+00,  0.0000e+00,  0.0000e+00,  0.0000e+00,  0.0000e+00,\n            0.0000e+00,  0.0000e+00,  0.0000e+00],\n          [ 0.0000e+00,  0.0000e+00,  0.0000e+00,  0.0000e+00,  0.0000e+00,\n            0.0000e+00,  0.0000e+00,  0.0000e+00]],\n \n         [[ 5.1294e+01,  1.6129e+01, -6.0686e-01,  4.1712e+00,  1.6645e+00,\n            1.4639e+00, -2.7739e+00,  1.0000e+00],\n          [ 2.3472e+01,  1.7378e+00, -8.1744e-01,  3.6398e+00,  1.6244e+00,\n            1.5341e+00, -4.9074e-01,  1.0000e+00],\n          [ 1.2526e+01,  9.5161e+00, -7.0270e-01,  3.8804e+00,  1.5842e+00,\n            1.4539e+00,  1.1593e+00,  1.0000e+00],\n          [ 2.1738e+01,  8.4785e+00, -6.3713e-01,  3.6999e+00,  1.6544e+00,\n            1.5642e+00,  3.6926e-01,  1.0000e+00],\n          [ 6.0097e+01, -7.9676e+00,  5.4441e-01,  4.7427e+00,  1.8149e+00,\n            2.4867e+00,  3.6926e-01,  1.0000e+00],\n          [ 2.8836e+01,  1.1567e+01, -5.1450e-01,  4.3918e+00,  1.6745e+00,\n            1.5241e+00,  3.8926e-01,  1.0000e+00],\n          [ 4.4144e+01,  1.9765e+01, -9.2656e-01,  3.6799e+00,  1.6344e+00,\n            1.5441e+00,  6.4926e-01,  1.0000e+00],\n          [ 1.2884e+01, -2.6352e+00, -1.0484e+00,  3.6197e+00,  1.6143e+00,\n            1.4840e+00, -2.7839e+00,  1.0000e+00],\n          [ 3.2065e+01,  9.0363e+00, -6.1157e-01,  4.3416e+00,  1.6645e+00,\n            1.6043e+00, -2.7339e+00,  1.0000e+00],\n          [ 0.0000e+00,  0.0000e+00,  0.0000e+00,  0.0000e+00,  0.0000e+00,\n            0.0000e+00,  0.0000e+00,  0.0000e+00],\n          [ 0.0000e+00,  0.0000e+00,  0.0000e+00,  0.0000e+00,  0.0000e+00,\n            0.0000e+00,  0.0000e+00,  0.0000e+00],\n          [ 0.0000e+00,  0.0000e+00,  0.0000e+00,  0.0000e+00,  0.0000e+00,\n            0.0000e+00,  0.0000e+00,  0.0000e+00],\n          [ 0.0000e+00,  0.0000e+00,  0.0000e+00,  0.0000e+00,  0.0000e+00,\n            0.0000e+00,  0.0000e+00,  0.0000e+00],\n          [ 0.0000e+00,  0.0000e+00,  0.0000e+00,  0.0000e+00,  0.0000e+00,\n            0.0000e+00,  0.0000e+00,  0.0000e+00],\n          [ 0.0000e+00,  0.0000e+00,  0.0000e+00,  0.0000e+00,  0.0000e+00,\n            0.0000e+00,  0.0000e+00,  0.0000e+00],\n          [ 0.0000e+00,  0.0000e+00,  0.0000e+00,  0.0000e+00,  0.0000e+00,\n            0.0000e+00,  0.0000e+00,  0.0000e+00],\n          [ 0.0000e+00,  0.0000e+00,  0.0000e+00,  0.0000e+00,  0.0000e+00,\n            0.0000e+00,  0.0000e+00,  0.0000e+00]]], device='cuda:0'),\n 'points': tensor([[ 0.0000e+00,  3.3809e+00, -1.6787e+01, -1.5939e+00,  3.1000e-01],\n         [ 0.0000e+00,  2.0875e+01, -3.7063e+00, -1.5070e+00,  1.7000e-01],\n         [ 0.0000e+00,  3.6475e+01, -1.6826e+01, -1.3514e+00,  0.0000e+00],\n         ...,\n         [ 3.0000e+00,  2.2089e+01,  2.8095e+00, -1.1741e+00,  3.2000e-01],\n         [ 3.0000e+00,  4.2173e+01,  3.7508e+00, -1.4278e+00,  0.0000e+00],\n         [ 3.0000e+00,  1.0866e+01,  1.3380e-01, -1.7076e+00,  4.0000e-02]],\n        device='cuda:0'),\n 'use_lead_xyz': tensor([1., 1., 1., 1.], device='cuda:0'),\n 'image_shape': tensor([[ 375, 1242,    3],\n         [ 375, 1242,    3],\n         [ 374, 1238,    3],\n         [ 375, 1242,    3]], device='cuda:0', dtype=torch.int32),\n 'batch_size': 4,\n 'voxels': tensor([[[  3.3809, -16.7871,  -1.5939,   0.3100],\n          [  0.0000,   0.0000,   0.0000,   0.0000],\n          [  0.0000,   0.0000,   0.0000,   0.0000],\n          [  0.0000,   0.0000,   0.0000,   0.0000],\n          [  0.0000,   0.0000,   0.0000,   0.0000]],\n \n         [[ 20.8752,  -3.7063,  -1.5070,   0.1700],\n          [  0.0000,   0.0000,   0.0000,   0.0000],\n          [  0.0000,   0.0000,   0.0000,   0.0000],\n          [  0.0000,   0.0000,   0.0000,   0.0000],\n          [  0.0000,   0.0000,   0.0000,   0.0000]],\n \n         [[ 36.4749, -16.8259,  -1.3514,   0.0000],\n          [  0.0000,   0.0000,   0.0000,   0.0000],\n          [  0.0000,   0.0000,   0.0000,   0.0000],\n          [  0.0000,   0.0000,   0.0000,   0.0000],\n          [  0.0000,   0.0000,   0.0000,   0.0000]],\n \n         ...,\n \n         [[ 14.8142,   3.6570,  -1.5863,   0.6400],\n          [  0.0000,   0.0000,   0.0000,   0.0000],\n          [  0.0000,   0.0000,   0.0000,   0.0000],\n          [  0.0000,   0.0000,   0.0000,   0.0000],\n          [  0.0000,   0.0000,   0.0000,   0.0000]],\n \n         [[ 26.6701,  11.1493,  -1.0819,   0.0000],\n          [  0.0000,   0.0000,   0.0000,   0.0000],\n          [  0.0000,   0.0000,   0.0000,   0.0000],\n          [  0.0000,   0.0000,   0.0000,   0.0000],\n          [  0.0000,   0.0000,   0.0000,   0.0000]],\n \n         [[  9.8069,   6.9795,  -1.7858,   0.3400],\n          [  0.0000,   0.0000,   0.0000,   0.0000],\n          [  0.0000,   0.0000,   0.0000,   0.0000],\n          [  0.0000,   0.0000,   0.0000,   0.0000],\n          [  0.0000,   0.0000,   0.0000,   0.0000]]], device='cuda:0'),\n 'voxel_coords': tensor([[   0.,   14.,  464.,   67.],\n         [   0.,   14.,  725.,  417.],\n         [   0.,   16.,  463.,  729.],\n         ...,\n         [   3.,   14.,  873.,  296.],\n         [   3.,   19., 1022.,  533.],\n         [   3.,   12.,  939.,  196.]], device='cuda:0'),\n 'voxel_num_points': tensor([1., 1., 1.,  ..., 1., 1., 1.], device='cuda:0'),\n 'voxel_features': tensor([[  3.3809, -16.7871,  -1.5939,   0.3100],\n         [ 20.8752,  -3.7063,  -1.5070,   0.1700],\n         [ 36.4749, -16.8259,  -1.3514,   0.0000],\n         ...,\n         [ 14.8142,   3.6570,  -1.5863,   0.6400],\n         [ 26.6701,  11.1493,  -1.0819,   0.0000],\n         [  9.8069,   6.9795,  -1.7858,   0.3400]], device='cuda:0'),\n 'sp_feat3d': <spconv.SparseConvTensor at 0x7f2f67d4f0a0>}"
     },
     "execution_count": 17,
     "metadata": {},
     "output_type": "execute_result"
    }
   ],
   "source": [
    "from basic.module.backbone3d import VoxelBackBone8x\n",
    "backbone3d_module = VoxelBackBone8x(model_info_dict, **back3d_cfg).cuda()\n",
    "output = backbone3d_module(output)\n",
    "model_info_dict['module_list'].append(backbone3d_module)\n",
    "print(f\"spconv_tensor_shape:\", output['sp_feat3d'].dense().shape)\n",
    "output"
   ],
   "metadata": {
    "collapsed": false,
    "pycharm": {
     "name": "#%%\n"
    }
   }
  },
  {
   "cell_type": "code",
   "execution_count": 18,
   "outputs": [
    {
     "name": "stdout",
     "output_type": "stream",
     "text": [
      "current model infos:\n",
      "module_list:[VoxelLayer(), MeanVFE(), VoxelBackBone8x(\n",
      "  (conv_input): SparseSequential(\n",
      "    (0): SubMConv3d()\n",
      "    (1): BatchNorm1d(16, eps=0.001, momentum=0.01, affine=True, track_running_stats=True)\n",
      "    (2): ReLU()\n",
      "  )\n",
      "  (conv_layers): ModuleList(\n",
      "    (0): SparseSequential(\n",
      "      (0): SubMConv3d()\n",
      "      (1): BatchNorm1d(16, eps=0.001, momentum=0.01, affine=True, track_running_stats=True)\n",
      "      (2): ReLU()\n",
      "    )\n",
      "    (1): SparseSequential(\n",
      "      (0): SparseConv3d()\n",
      "      (1): BatchNorm1d(32, eps=0.001, momentum=0.01, affine=True, track_running_stats=True)\n",
      "      (2): ReLU()\n",
      "    )\n",
      "    (2): SparseSequential(\n",
      "      (0): SubMConv3d()\n",
      "      (1): BatchNorm1d(32, eps=0.001, momentum=0.01, affine=True, track_running_stats=True)\n",
      "      (2): ReLU()\n",
      "    )\n",
      "    (3): SparseSequential(\n",
      "      (0): SubMConv3d()\n",
      "      (1): BatchNorm1d(32, eps=0.001, momentum=0.01, affine=True, track_running_stats=True)\n",
      "      (2): ReLU()\n",
      "    )\n",
      "    (4): SparseSequential(\n",
      "      (0): SparseConv3d()\n",
      "      (1): BatchNorm1d(64, eps=0.001, momentum=0.01, affine=True, track_running_stats=True)\n",
      "      (2): ReLU()\n",
      "    )\n",
      "    (5): SparseSequential(\n",
      "      (0): SubMConv3d()\n",
      "      (1): BatchNorm1d(64, eps=0.001, momentum=0.01, affine=True, track_running_stats=True)\n",
      "      (2): ReLU()\n",
      "    )\n",
      "    (6): SparseSequential(\n",
      "      (0): SubMConv3d()\n",
      "      (1): BatchNorm1d(64, eps=0.001, momentum=0.01, affine=True, track_running_stats=True)\n",
      "      (2): ReLU()\n",
      "    )\n",
      "    (7): SparseSequential(\n",
      "      (0): SparseConv3d()\n",
      "      (1): BatchNorm1d(64, eps=0.001, momentum=0.01, affine=True, track_running_stats=True)\n",
      "      (2): ReLU()\n",
      "    )\n",
      "    (8): SparseSequential(\n",
      "      (0): SubMConv3d()\n",
      "      (1): BatchNorm1d(64, eps=0.001, momentum=0.01, affine=True, track_running_stats=True)\n",
      "      (2): ReLU()\n",
      "    )\n",
      "    (9): SparseSequential(\n",
      "      (0): SubMConv3d()\n",
      "      (1): BatchNorm1d(64, eps=0.001, momentum=0.01, affine=True, track_running_stats=True)\n",
      "      (2): ReLU()\n",
      "    )\n",
      "  )\n",
      "  (conv_out): SparseSequential(\n",
      "    (0): SparseConv3d()\n",
      "    (1): BatchNorm1d(128, eps=0.001, momentum=0.01, affine=True, track_running_stats=True)\n",
      "    (2): ReLU()\n",
      "  )\n",
      ")]\n",
      "training:True\n",
      "raw_point_feature_dims:4\n",
      "cur_point_feature_dims:4\n",
      "point_cloud_range:[  0.  -40.   -3.   70.4  40.    1. ]\n",
      "voxel_size:[0.05, 0.05, 0.1]\n",
      "grid_size:[1408 1600   40]\n",
      "class_names:['Car']\n"
     ]
    }
   ],
   "source": [
    "print(f\"current model infos:\")\n",
    "for key, value in model_info_dict.items():\n",
    "    print(f\"{key}:{value}\")"
   ],
   "metadata": {
    "collapsed": false,
    "pycharm": {
     "name": "#%%\n"
    }
   }
  },
  {
   "cell_type": "markdown",
   "source": [
    "# NECK\n",
    "BackBone3D提取的特征向量依然处于3维空间内。目前一般不会在3维空间内提取ROIs。因为3DNMS，3DIOU等都很麻烦....。\n",
    "因此直接在前视图FOV或在鸟瞰图BEV上提取ROIs。为此需要将3d特征转换为2d特征。\n",
    "- 常用的Neck：\n",
    "直接压缩：比如将B,C,D,H,W的特征压缩为B，C*H，D,W,此时的特征图可以认为是BEV视角下的二维特征图"
   ],
   "metadata": {
    "collapsed": false
   }
  },
  {
   "cell_type": "code",
   "execution_count": 19,
   "outputs": [
    {
     "name": "stdout",
     "output_type": "stream",
     "text": [
      "{'NAME': 'DimCompression', 'dim': 2}\n"
     ]
    }
   ],
   "source": [
    "neck_cfg = model_cfg.NECK\n",
    "pprint(neck_cfg)"
   ],
   "metadata": {
    "collapsed": false,
    "pycharm": {
     "name": "#%%\n"
    }
   }
  },
  {
   "cell_type": "code",
   "execution_count": 20,
   "outputs": [
    {
     "name": "stdout",
     "output_type": "stream",
     "text": [
      "直接压缩 torch.Size([4, 256, 200, 176])\n"
     ]
    },
    {
     "data": {
      "text/plain": "{'frame_id': array(['006974', '007388', '006697', '007113'], dtype='<U6'),\n 'gt_boxes': tensor([[[ 3.4287e+01, -3.6757e+01, -5.7138e-01,  3.3906e+00,  1.3138e+00,\n            1.4297e+00, -3.6820e-01,  1.0000e+00],\n          [ 2.6158e+01, -2.0168e+01, -7.6718e-01,  4.3470e+00,  1.5746e+00,\n            1.5649e+00, -6.6820e-01,  1.0000e+00],\n          [ 1.1218e+01, -5.0065e+00, -8.7279e-01,  4.2407e+00,  1.6229e+00,\n            1.3910e+00,  2.4450e+00,  1.0000e+00],\n          [ 7.4499e+00, -2.3022e+01, -5.1212e-01,  3.7481e+00,  1.5070e+00,\n            1.4393e+00, -6.8820e-01,  1.0000e+00],\n          [ 2.6972e+01, -2.6909e+01,  9.2320e-02,  4.0379e+00,  1.7968e+00,\n            1.4297e+00, -2.3082e+00,  1.0000e+00],\n          [ 2.5747e+01, -2.3670e+01, -7.6032e-01,  3.6611e+00,  1.5359e+00,\n            1.4490e+00, -6.2820e-01,  1.0000e+00],\n          [ 2.3785e+01, -1.1817e+01, -8.9798e-01,  4.3470e+00,  1.6519e+00,\n            1.4973e+00,  2.4950e+00,  1.0000e+00],\n          [ 3.4093e+01, -1.3558e+01, -5.8491e-01,  4.0572e+00,  1.5263e+00,\n            1.5746e+00,  2.4450e+00,  1.0000e+00],\n          [ 3.2650e+01, -1.0931e+00, -7.7659e-01,  3.9123e+00,  1.4200e+00,\n            1.4780e+00,  2.4550e+00,  1.0000e+00],\n          [ 8.0022e+00, -1.9903e+00, -9.9201e-01,  3.6901e+00,  1.4780e+00,\n            1.6422e+00,  2.4850e+00,  1.0000e+00],\n          [ 3.2505e+01, -2.1368e+01, -8.1101e-01,  3.1008e+00,  1.5649e+00,\n            1.4297e+00,  2.4650e+00,  1.0000e+00],\n          [ 3.0511e+01, -1.4891e+01, -7.8026e-01,  4.3760e+00,  1.6132e+00,\n            1.3717e+00,  2.2750e+00,  1.0000e+00],\n          [ 2.1808e+01, -2.2562e+01, -5.1207e-01,  4.0185e+00,  1.5746e+00,\n            1.4393e+00, -1.4582e+00,  1.0000e+00],\n          [ 2.8808e+01, -2.0104e+01, -4.2861e-01,  3.8930e+00,  1.5359e+00,\n            1.4200e+00, -7.1820e-01,  1.0000e+00],\n          [ 1.2118e+01, -1.4654e+01, -8.8686e-01,  4.2600e+00,  1.6615e+00,\n            1.6036e+00, -6.6820e-01,  1.0000e+00],\n          [ 1.8511e+01, -1.3998e+01, -8.3967e-01,  3.2651e+00,  1.6325e+00,\n            1.3138e+00, -6.9820e-01,  1.0000e+00],\n          [ 2.5700e+01, -9.9318e+00, -7.4554e-01,  3.6998e+00,  1.5553e+00,\n            1.7388e+00,  2.4250e+00,  1.0000e+00]],\n \n         [[ 6.9835e+00, -1.0903e+00, -7.8556e-01,  3.4918e+00,  1.4549e+00,\n            1.6456e+00,  2.3166e+00,  1.0000e+00],\n          [ 2.4316e+00, -6.2401e+00, -9.2757e-01,  4.2945e+00,  1.5854e+00,\n            1.5252e+00, -8.1657e-01,  1.0000e+00],\n          [ 1.2750e+01, -1.1182e+01, -7.6846e-01,  4.0938e+00,  1.6456e+00,\n            1.5452e+00,  2.0766e+00,  1.0000e+00],\n          [ 5.7021e+00, -1.0297e+01, -9.0242e-01,  3.5921e+00,  1.5753e+00,\n            1.4649e+00, -9.5657e-01,  1.0000e+00],\n          [ 8.1742e+00, -1.4443e+01, -7.7883e-01,  3.4416e+00,  1.6757e+00,\n            1.5854e+00, -9.4657e-01,  1.0000e+00],\n          [ 4.1889e+00, -2.7748e+01, -3.6041e-02,  3.6925e+00,  1.9466e+00,\n            1.8462e+00, -6.1657e-01,  1.0000e+00],\n          [ 2.1718e+01, -2.2293e+01, -4.4379e-01,  4.1841e+00,  1.6054e+00,\n            1.5051e+00,  2.1266e+00,  1.0000e+00],\n          [ 2.0097e+01, -3.1623e+01, -6.2601e-01,  3.9433e+00,  1.6857e+00,\n            1.5854e+00, -9.3657e-01,  1.0000e+00],\n          [ 2.8060e+01, -3.1730e+01, -1.7678e-01,  3.9935e+00,  1.5452e+00,\n            1.5854e+00,  2.0866e+00,  1.0000e+00],\n          [ 1.7721e+01, -9.4917e+00, -1.0195e+00,  4.5153e+00,  1.7158e+00,\n            1.5553e+00,  2.4166e+00,  1.0000e+00],\n          [ 1.9670e+01, -1.6981e+01, -8.9632e-01,  3.2108e+00,  1.6656e+00,\n            1.6155e+00, -7.2657e-01,  1.0000e+00],\n          [ 1.2475e+01, -1.7603e+01, -8.6812e-01,  4.2945e+00,  1.5854e+00,\n            1.5252e+00, -9.1657e-01,  1.0000e+00],\n          [ 3.4259e+01, -3.3892e+00, -9.0953e-01,  4.1741e+00,  1.8161e+00,\n            1.4348e+00,  2.4066e+00,  1.0000e+00],\n          [ 3.8076e+01, -1.4359e+01, -5.5079e-01,  2.9600e+00,  1.2944e+00,\n            1.4750e+00,  2.3666e+00,  1.0000e+00],\n          [ 0.0000e+00,  0.0000e+00,  0.0000e+00,  0.0000e+00,  0.0000e+00,\n            0.0000e+00,  0.0000e+00,  0.0000e+00],\n          [ 0.0000e+00,  0.0000e+00,  0.0000e+00,  0.0000e+00,  0.0000e+00,\n            0.0000e+00,  0.0000e+00,  0.0000e+00],\n          [ 0.0000e+00,  0.0000e+00,  0.0000e+00,  0.0000e+00,  0.0000e+00,\n            0.0000e+00,  0.0000e+00,  0.0000e+00]],\n \n         [[ 4.2018e+01, -1.6295e+01, -4.4903e-01,  3.5553e+00,  1.7482e+00,\n            1.3946e+00,  2.5961e+00,  1.0000e+00],\n          [ 3.1294e+01, -1.8732e+01, -3.8901e-01,  4.6259e+00,  1.7089e+00,\n            1.6991e+00,  1.1861e+00,  1.0000e+00],\n          [ 3.4237e+01, -1.5085e+01, -8.1611e-01,  3.5455e+00,  1.6402e+00,\n            1.4928e+00, -4.6711e-01,  1.0000e+00],\n          [ 7.7621e+00, -9.2521e-01, -8.3871e-01,  3.3294e+00,  1.7187e+00,\n            1.6205e+00,  2.7761e+00,  1.0000e+00],\n          [ 2.5234e+01, -3.2611e+01, -1.5873e-01,  3.8794e+00,  1.6696e+00,\n            1.4045e+00,  1.4661e+00,  1.0000e+00],\n          [ 2.2842e+01, -6.9570e+00, -8.2343e-01,  4.2821e+00,  1.6598e+00,\n            1.3848e+00,  2.6961e+00,  1.0000e+00],\n          [ 3.8935e+01, -2.4045e+00, -1.5674e+00,  3.8893e+00,  1.7875e+00,\n            1.3455e+00,  2.6861e+00,  1.0000e+00],\n          [ 1.7549e+01, -9.7123e+00, -6.3615e-01,  3.3785e+00,  1.5616e+00,\n            1.4241e+00, -7.9711e-01,  1.0000e+00],\n          [ 1.4921e+01, -1.0324e+01, -7.4971e-01,  3.8598e+00,  1.6500e+00,\n            1.5518e+00, -4.7711e-01,  1.0000e+00],\n          [ 3.1813e+01, -2.7392e+00, -6.4254e-01,  3.8401e+00,  1.5911e+00,\n            1.4143e+00,  9.6289e-01,  1.0000e+00],\n          [ 1.2212e+01, -1.3850e+00, -3.1699e-01,  3.8696e+00,  1.3750e+00,\n            1.5027e+00,  1.3361e+00,  1.0000e+00],\n          [ 2.3439e+01, -4.3826e+00, -9.0563e-01,  3.5553e+00,  1.4437e+00,\n            1.3553e+00,  2.6661e+00,  1.0000e+00],\n          [ 0.0000e+00,  0.0000e+00,  0.0000e+00,  0.0000e+00,  0.0000e+00,\n            0.0000e+00,  0.0000e+00,  0.0000e+00],\n          [ 0.0000e+00,  0.0000e+00,  0.0000e+00,  0.0000e+00,  0.0000e+00,\n            0.0000e+00,  0.0000e+00,  0.0000e+00],\n          [ 0.0000e+00,  0.0000e+00,  0.0000e+00,  0.0000e+00,  0.0000e+00,\n            0.0000e+00,  0.0000e+00,  0.0000e+00],\n          [ 0.0000e+00,  0.0000e+00,  0.0000e+00,  0.0000e+00,  0.0000e+00,\n            0.0000e+00,  0.0000e+00,  0.0000e+00],\n          [ 0.0000e+00,  0.0000e+00,  0.0000e+00,  0.0000e+00,  0.0000e+00,\n            0.0000e+00,  0.0000e+00,  0.0000e+00]],\n \n         [[ 5.1294e+01,  1.6129e+01, -6.0686e-01,  4.1712e+00,  1.6645e+00,\n            1.4639e+00, -2.7739e+00,  1.0000e+00],\n          [ 2.3472e+01,  1.7378e+00, -8.1744e-01,  3.6398e+00,  1.6244e+00,\n            1.5341e+00, -4.9074e-01,  1.0000e+00],\n          [ 1.2526e+01,  9.5161e+00, -7.0270e-01,  3.8804e+00,  1.5842e+00,\n            1.4539e+00,  1.1593e+00,  1.0000e+00],\n          [ 2.1738e+01,  8.4785e+00, -6.3713e-01,  3.6999e+00,  1.6544e+00,\n            1.5642e+00,  3.6926e-01,  1.0000e+00],\n          [ 6.0097e+01, -7.9676e+00,  5.4441e-01,  4.7427e+00,  1.8149e+00,\n            2.4867e+00,  3.6926e-01,  1.0000e+00],\n          [ 2.8836e+01,  1.1567e+01, -5.1450e-01,  4.3918e+00,  1.6745e+00,\n            1.5241e+00,  3.8926e-01,  1.0000e+00],\n          [ 4.4144e+01,  1.9765e+01, -9.2656e-01,  3.6799e+00,  1.6344e+00,\n            1.5441e+00,  6.4926e-01,  1.0000e+00],\n          [ 1.2884e+01, -2.6352e+00, -1.0484e+00,  3.6197e+00,  1.6143e+00,\n            1.4840e+00, -2.7839e+00,  1.0000e+00],\n          [ 3.2065e+01,  9.0363e+00, -6.1157e-01,  4.3416e+00,  1.6645e+00,\n            1.6043e+00, -2.7339e+00,  1.0000e+00],\n          [ 0.0000e+00,  0.0000e+00,  0.0000e+00,  0.0000e+00,  0.0000e+00,\n            0.0000e+00,  0.0000e+00,  0.0000e+00],\n          [ 0.0000e+00,  0.0000e+00,  0.0000e+00,  0.0000e+00,  0.0000e+00,\n            0.0000e+00,  0.0000e+00,  0.0000e+00],\n          [ 0.0000e+00,  0.0000e+00,  0.0000e+00,  0.0000e+00,  0.0000e+00,\n            0.0000e+00,  0.0000e+00,  0.0000e+00],\n          [ 0.0000e+00,  0.0000e+00,  0.0000e+00,  0.0000e+00,  0.0000e+00,\n            0.0000e+00,  0.0000e+00,  0.0000e+00],\n          [ 0.0000e+00,  0.0000e+00,  0.0000e+00,  0.0000e+00,  0.0000e+00,\n            0.0000e+00,  0.0000e+00,  0.0000e+00],\n          [ 0.0000e+00,  0.0000e+00,  0.0000e+00,  0.0000e+00,  0.0000e+00,\n            0.0000e+00,  0.0000e+00,  0.0000e+00],\n          [ 0.0000e+00,  0.0000e+00,  0.0000e+00,  0.0000e+00,  0.0000e+00,\n            0.0000e+00,  0.0000e+00,  0.0000e+00],\n          [ 0.0000e+00,  0.0000e+00,  0.0000e+00,  0.0000e+00,  0.0000e+00,\n            0.0000e+00,  0.0000e+00,  0.0000e+00]]], device='cuda:0'),\n 'points': tensor([[ 0.0000e+00,  3.3809e+00, -1.6787e+01, -1.5939e+00,  3.1000e-01],\n         [ 0.0000e+00,  2.0875e+01, -3.7063e+00, -1.5070e+00,  1.7000e-01],\n         [ 0.0000e+00,  3.6475e+01, -1.6826e+01, -1.3514e+00,  0.0000e+00],\n         ...,\n         [ 3.0000e+00,  2.2089e+01,  2.8095e+00, -1.1741e+00,  3.2000e-01],\n         [ 3.0000e+00,  4.2173e+01,  3.7508e+00, -1.4278e+00,  0.0000e+00],\n         [ 3.0000e+00,  1.0866e+01,  1.3380e-01, -1.7076e+00,  4.0000e-02]],\n        device='cuda:0'),\n 'use_lead_xyz': tensor([1., 1., 1., 1.], device='cuda:0'),\n 'image_shape': tensor([[ 375, 1242,    3],\n         [ 375, 1242,    3],\n         [ 374, 1238,    3],\n         [ 375, 1242,    3]], device='cuda:0', dtype=torch.int32),\n 'batch_size': 4,\n 'voxels': tensor([[[  3.3809, -16.7871,  -1.5939,   0.3100],\n          [  0.0000,   0.0000,   0.0000,   0.0000],\n          [  0.0000,   0.0000,   0.0000,   0.0000],\n          [  0.0000,   0.0000,   0.0000,   0.0000],\n          [  0.0000,   0.0000,   0.0000,   0.0000]],\n \n         [[ 20.8752,  -3.7063,  -1.5070,   0.1700],\n          [  0.0000,   0.0000,   0.0000,   0.0000],\n          [  0.0000,   0.0000,   0.0000,   0.0000],\n          [  0.0000,   0.0000,   0.0000,   0.0000],\n          [  0.0000,   0.0000,   0.0000,   0.0000]],\n \n         [[ 36.4749, -16.8259,  -1.3514,   0.0000],\n          [  0.0000,   0.0000,   0.0000,   0.0000],\n          [  0.0000,   0.0000,   0.0000,   0.0000],\n          [  0.0000,   0.0000,   0.0000,   0.0000],\n          [  0.0000,   0.0000,   0.0000,   0.0000]],\n \n         ...,\n \n         [[ 14.8142,   3.6570,  -1.5863,   0.6400],\n          [  0.0000,   0.0000,   0.0000,   0.0000],\n          [  0.0000,   0.0000,   0.0000,   0.0000],\n          [  0.0000,   0.0000,   0.0000,   0.0000],\n          [  0.0000,   0.0000,   0.0000,   0.0000]],\n \n         [[ 26.6701,  11.1493,  -1.0819,   0.0000],\n          [  0.0000,   0.0000,   0.0000,   0.0000],\n          [  0.0000,   0.0000,   0.0000,   0.0000],\n          [  0.0000,   0.0000,   0.0000,   0.0000],\n          [  0.0000,   0.0000,   0.0000,   0.0000]],\n \n         [[  9.8069,   6.9795,  -1.7858,   0.3400],\n          [  0.0000,   0.0000,   0.0000,   0.0000],\n          [  0.0000,   0.0000,   0.0000,   0.0000],\n          [  0.0000,   0.0000,   0.0000,   0.0000],\n          [  0.0000,   0.0000,   0.0000,   0.0000]]], device='cuda:0'),\n 'voxel_coords': tensor([[   0.,   14.,  464.,   67.],\n         [   0.,   14.,  725.,  417.],\n         [   0.,   16.,  463.,  729.],\n         ...,\n         [   3.,   14.,  873.,  296.],\n         [   3.,   19., 1022.,  533.],\n         [   3.,   12.,  939.,  196.]], device='cuda:0'),\n 'voxel_num_points': tensor([1., 1., 1.,  ..., 1., 1., 1.], device='cuda:0'),\n 'voxel_features': tensor([[  3.3809, -16.7871,  -1.5939,   0.3100],\n         [ 20.8752,  -3.7063,  -1.5070,   0.1700],\n         [ 36.4749, -16.8259,  -1.3514,   0.0000],\n         ...,\n         [ 14.8142,   3.6570,  -1.5863,   0.6400],\n         [ 26.6701,  11.1493,  -1.0819,   0.0000],\n         [  9.8069,   6.9795,  -1.7858,   0.3400]], device='cuda:0'),\n 'sp_feat3d': <spconv.SparseConvTensor at 0x7f2f67d4f0a0>,\n 'dense_feat2d': tensor([[[[0., 0., 0.,  ..., 0., 0., 0.],\n           [0., 0., 0.,  ..., 0., 0., 0.],\n           [0., 0., 0.,  ..., 0., 0., 0.],\n           ...,\n           [0., 0., 0.,  ..., 0., 0., 0.],\n           [0., 0., 0.,  ..., 0., 0., 0.],\n           [0., 0., 0.,  ..., 0., 0., 0.]],\n \n          [[0., 0., 0.,  ..., 0., 0., 0.],\n           [0., 0., 0.,  ..., 0., 0., 0.],\n           [0., 0., 0.,  ..., 0., 0., 0.],\n           ...,\n           [0., 0., 0.,  ..., 0., 0., 0.],\n           [0., 0., 0.,  ..., 0., 0., 0.],\n           [0., 0., 0.,  ..., 0., 0., 0.]],\n \n          [[0., 0., 0.,  ..., 0., 0., 0.],\n           [0., 0., 0.,  ..., 0., 0., 0.],\n           [0., 0., 0.,  ..., 0., 0., 0.],\n           ...,\n           [0., 0., 0.,  ..., 0., 0., 0.],\n           [0., 0., 0.,  ..., 0., 0., 0.],\n           [0., 0., 0.,  ..., 0., 0., 0.]],\n \n          ...,\n \n          [[0., 0., 0.,  ..., 0., 0., 0.],\n           [0., 0., 0.,  ..., 0., 0., 0.],\n           [0., 0., 0.,  ..., 0., 0., 0.],\n           ...,\n           [0., 0., 0.,  ..., 0., 0., 0.],\n           [0., 0., 0.,  ..., 0., 0., 0.],\n           [0., 0., 0.,  ..., 0., 0., 0.]],\n \n          [[0., 0., 0.,  ..., 0., 0., 0.],\n           [0., 0., 0.,  ..., 0., 0., 0.],\n           [0., 0., 0.,  ..., 0., 0., 0.],\n           ...,\n           [0., 0., 0.,  ..., 0., 0., 0.],\n           [0., 0., 0.,  ..., 0., 0., 0.],\n           [0., 0., 0.,  ..., 0., 0., 0.]],\n \n          [[0., 0., 0.,  ..., 0., 0., 0.],\n           [0., 0., 0.,  ..., 0., 0., 0.],\n           [0., 0., 0.,  ..., 0., 0., 0.],\n           ...,\n           [0., 0., 0.,  ..., 0., 0., 0.],\n           [0., 0., 0.,  ..., 0., 0., 0.],\n           [0., 0., 0.,  ..., 0., 0., 0.]]],\n \n \n         [[[0., 0., 0.,  ..., 0., 0., 0.],\n           [0., 0., 0.,  ..., 0., 0., 0.],\n           [0., 0., 0.,  ..., 0., 0., 0.],\n           ...,\n           [0., 0., 0.,  ..., 0., 0., 0.],\n           [0., 0., 0.,  ..., 0., 0., 0.],\n           [0., 0., 0.,  ..., 0., 0., 0.]],\n \n          [[0., 0., 0.,  ..., 0., 0., 0.],\n           [0., 0., 0.,  ..., 0., 0., 0.],\n           [0., 0., 0.,  ..., 0., 0., 0.],\n           ...,\n           [0., 0., 0.,  ..., 0., 0., 0.],\n           [0., 0., 0.,  ..., 0., 0., 0.],\n           [0., 0., 0.,  ..., 0., 0., 0.]],\n \n          [[0., 0., 0.,  ..., 0., 0., 0.],\n           [0., 0., 0.,  ..., 0., 0., 0.],\n           [0., 0., 0.,  ..., 0., 0., 0.],\n           ...,\n           [0., 0., 0.,  ..., 0., 0., 0.],\n           [0., 0., 0.,  ..., 0., 0., 0.],\n           [0., 0., 0.,  ..., 0., 0., 0.]],\n \n          ...,\n \n          [[0., 0., 0.,  ..., 0., 0., 0.],\n           [0., 0., 0.,  ..., 0., 0., 0.],\n           [0., 0., 0.,  ..., 0., 0., 0.],\n           ...,\n           [0., 0., 0.,  ..., 0., 0., 0.],\n           [0., 0., 0.,  ..., 0., 0., 0.],\n           [0., 0., 0.,  ..., 0., 0., 0.]],\n \n          [[0., 0., 0.,  ..., 0., 0., 0.],\n           [0., 0., 0.,  ..., 0., 0., 0.],\n           [0., 0., 0.,  ..., 0., 0., 0.],\n           ...,\n           [0., 0., 0.,  ..., 0., 0., 0.],\n           [0., 0., 0.,  ..., 0., 0., 0.],\n           [0., 0., 0.,  ..., 0., 0., 0.]],\n \n          [[0., 0., 0.,  ..., 0., 0., 0.],\n           [0., 0., 0.,  ..., 0., 0., 0.],\n           [0., 0., 0.,  ..., 0., 0., 0.],\n           ...,\n           [0., 0., 0.,  ..., 0., 0., 0.],\n           [0., 0., 0.,  ..., 0., 0., 0.],\n           [0., 0., 0.,  ..., 0., 0., 0.]]],\n \n \n         [[[0., 0., 0.,  ..., 0., 0., 0.],\n           [0., 0., 0.,  ..., 0., 0., 0.],\n           [0., 0., 0.,  ..., 0., 0., 0.],\n           ...,\n           [0., 0., 0.,  ..., 0., 0., 0.],\n           [0., 0., 0.,  ..., 0., 0., 0.],\n           [0., 0., 0.,  ..., 0., 0., 0.]],\n \n          [[0., 0., 0.,  ..., 0., 0., 0.],\n           [0., 0., 0.,  ..., 0., 0., 0.],\n           [0., 0., 0.,  ..., 0., 0., 0.],\n           ...,\n           [0., 0., 0.,  ..., 0., 0., 0.],\n           [0., 0., 0.,  ..., 0., 0., 0.],\n           [0., 0., 0.,  ..., 0., 0., 0.]],\n \n          [[0., 0., 0.,  ..., 0., 0., 0.],\n           [0., 0., 0.,  ..., 0., 0., 0.],\n           [0., 0., 0.,  ..., 0., 0., 0.],\n           ...,\n           [0., 0., 0.,  ..., 0., 0., 0.],\n           [0., 0., 0.,  ..., 0., 0., 0.],\n           [0., 0., 0.,  ..., 0., 0., 0.]],\n \n          ...,\n \n          [[0., 0., 0.,  ..., 0., 0., 0.],\n           [0., 0., 0.,  ..., 0., 0., 0.],\n           [0., 0., 0.,  ..., 0., 0., 0.],\n           ...,\n           [0., 0., 0.,  ..., 0., 0., 0.],\n           [0., 0., 0.,  ..., 0., 0., 0.],\n           [0., 0., 0.,  ..., 0., 0., 0.]],\n \n          [[0., 0., 0.,  ..., 0., 0., 0.],\n           [0., 0., 0.,  ..., 0., 0., 0.],\n           [0., 0., 0.,  ..., 0., 0., 0.],\n           ...,\n           [0., 0., 0.,  ..., 0., 0., 0.],\n           [0., 0., 0.,  ..., 0., 0., 0.],\n           [0., 0., 0.,  ..., 0., 0., 0.]],\n \n          [[0., 0., 0.,  ..., 0., 0., 0.],\n           [0., 0., 0.,  ..., 0., 0., 0.],\n           [0., 0., 0.,  ..., 0., 0., 0.],\n           ...,\n           [0., 0., 0.,  ..., 0., 0., 0.],\n           [0., 0., 0.,  ..., 0., 0., 0.],\n           [0., 0., 0.,  ..., 0., 0., 0.]]],\n \n \n         [[[0., 0., 0.,  ..., 0., 0., 0.],\n           [0., 0., 0.,  ..., 0., 0., 0.],\n           [0., 0., 0.,  ..., 0., 0., 0.],\n           ...,\n           [0., 0., 0.,  ..., 0., 0., 0.],\n           [0., 0., 0.,  ..., 0., 0., 0.],\n           [0., 0., 0.,  ..., 0., 0., 0.]],\n \n          [[0., 0., 0.,  ..., 0., 0., 0.],\n           [0., 0., 0.,  ..., 0., 0., 0.],\n           [0., 0., 0.,  ..., 0., 0., 0.],\n           ...,\n           [0., 0., 0.,  ..., 0., 0., 0.],\n           [0., 0., 0.,  ..., 0., 0., 0.],\n           [0., 0., 0.,  ..., 0., 0., 0.]],\n \n          [[0., 0., 0.,  ..., 0., 0., 0.],\n           [0., 0., 0.,  ..., 0., 0., 0.],\n           [0., 0., 0.,  ..., 0., 0., 0.],\n           ...,\n           [0., 0., 0.,  ..., 0., 0., 0.],\n           [0., 0., 0.,  ..., 0., 0., 0.],\n           [0., 0., 0.,  ..., 0., 0., 0.]],\n \n          ...,\n \n          [[0., 0., 0.,  ..., 0., 0., 0.],\n           [0., 0., 0.,  ..., 0., 0., 0.],\n           [0., 0., 0.,  ..., 0., 0., 0.],\n           ...,\n           [0., 0., 0.,  ..., 0., 0., 0.],\n           [0., 0., 0.,  ..., 0., 0., 0.],\n           [0., 0., 0.,  ..., 0., 0., 0.]],\n \n          [[0., 0., 0.,  ..., 0., 0., 0.],\n           [0., 0., 0.,  ..., 0., 0., 0.],\n           [0., 0., 0.,  ..., 0., 0., 0.],\n           ...,\n           [0., 0., 0.,  ..., 0., 0., 0.],\n           [0., 0., 0.,  ..., 0., 0., 0.],\n           [0., 0., 0.,  ..., 0., 0., 0.]],\n \n          [[0., 0., 0.,  ..., 0., 0., 0.],\n           [0., 0., 0.,  ..., 0., 0., 0.],\n           [0., 0., 0.,  ..., 0., 0., 0.],\n           ...,\n           [0., 0., 0.,  ..., 0., 0., 0.],\n           [0., 0., 0.,  ..., 0., 0., 0.],\n           [0., 0., 0.,  ..., 0., 0., 0.]]]], device='cuda:0',\n        grad_fn=<ViewBackward>)}"
     },
     "execution_count": 20,
     "metadata": {},
     "output_type": "execute_result"
    }
   ],
   "source": [
    "from basic.module.neck import DimCompression\n",
    "neck_module = DimCompression(model_info_dict=model_info_dict, **neck_cfg)\n",
    "output = neck_module(output)\n",
    "model_info_dict['module_list'].append(neck_module)\n",
    "print(\"直接压缩\", output['dense_feat2d'].shape)\n",
    "output"
   ],
   "metadata": {
    "collapsed": false,
    "pycharm": {
     "name": "#%%\n"
    }
   }
  },
  {
   "cell_type": "code",
   "execution_count": 21,
   "outputs": [
    {
     "name": "stdout",
     "output_type": "stream",
     "text": [
      "current model infos:\n",
      "module_list:[VoxelLayer(), MeanVFE(), VoxelBackBone8x(\n",
      "  (conv_input): SparseSequential(\n",
      "    (0): SubMConv3d()\n",
      "    (1): BatchNorm1d(16, eps=0.001, momentum=0.01, affine=True, track_running_stats=True)\n",
      "    (2): ReLU()\n",
      "  )\n",
      "  (conv_layers): ModuleList(\n",
      "    (0): SparseSequential(\n",
      "      (0): SubMConv3d()\n",
      "      (1): BatchNorm1d(16, eps=0.001, momentum=0.01, affine=True, track_running_stats=True)\n",
      "      (2): ReLU()\n",
      "    )\n",
      "    (1): SparseSequential(\n",
      "      (0): SparseConv3d()\n",
      "      (1): BatchNorm1d(32, eps=0.001, momentum=0.01, affine=True, track_running_stats=True)\n",
      "      (2): ReLU()\n",
      "    )\n",
      "    (2): SparseSequential(\n",
      "      (0): SubMConv3d()\n",
      "      (1): BatchNorm1d(32, eps=0.001, momentum=0.01, affine=True, track_running_stats=True)\n",
      "      (2): ReLU()\n",
      "    )\n",
      "    (3): SparseSequential(\n",
      "      (0): SubMConv3d()\n",
      "      (1): BatchNorm1d(32, eps=0.001, momentum=0.01, affine=True, track_running_stats=True)\n",
      "      (2): ReLU()\n",
      "    )\n",
      "    (4): SparseSequential(\n",
      "      (0): SparseConv3d()\n",
      "      (1): BatchNorm1d(64, eps=0.001, momentum=0.01, affine=True, track_running_stats=True)\n",
      "      (2): ReLU()\n",
      "    )\n",
      "    (5): SparseSequential(\n",
      "      (0): SubMConv3d()\n",
      "      (1): BatchNorm1d(64, eps=0.001, momentum=0.01, affine=True, track_running_stats=True)\n",
      "      (2): ReLU()\n",
      "    )\n",
      "    (6): SparseSequential(\n",
      "      (0): SubMConv3d()\n",
      "      (1): BatchNorm1d(64, eps=0.001, momentum=0.01, affine=True, track_running_stats=True)\n",
      "      (2): ReLU()\n",
      "    )\n",
      "    (7): SparseSequential(\n",
      "      (0): SparseConv3d()\n",
      "      (1): BatchNorm1d(64, eps=0.001, momentum=0.01, affine=True, track_running_stats=True)\n",
      "      (2): ReLU()\n",
      "    )\n",
      "    (8): SparseSequential(\n",
      "      (0): SubMConv3d()\n",
      "      (1): BatchNorm1d(64, eps=0.001, momentum=0.01, affine=True, track_running_stats=True)\n",
      "      (2): ReLU()\n",
      "    )\n",
      "    (9): SparseSequential(\n",
      "      (0): SubMConv3d()\n",
      "      (1): BatchNorm1d(64, eps=0.001, momentum=0.01, affine=True, track_running_stats=True)\n",
      "      (2): ReLU()\n",
      "    )\n",
      "  )\n",
      "  (conv_out): SparseSequential(\n",
      "    (0): SparseConv3d()\n",
      "    (1): BatchNorm1d(128, eps=0.001, momentum=0.01, affine=True, track_running_stats=True)\n",
      "    (2): ReLU()\n",
      "  )\n",
      "), DimCompression()]\n",
      "training:True\n",
      "raw_point_feature_dims:4\n",
      "cur_point_feature_dims:4\n",
      "point_cloud_range:[  0.  -40.   -3.   70.4  40.    1. ]\n",
      "voxel_size:[0.05, 0.05, 0.1]\n",
      "grid_size:[1408 1600   40]\n",
      "class_names:['Car']\n"
     ]
    }
   ],
   "source": [
    "print(f\"current model infos:\")\n",
    "for key, value in model_info_dict.items():\n",
    "    print(f\"{key}:{value}\")"
   ],
   "metadata": {
    "collapsed": false,
    "pycharm": {
     "name": "#%%\n"
    }
   }
  },
  {
   "cell_type": "markdown",
   "source": [
    "# Backbone2D\n",
    "与BackBone3D一样，根据输入的张量维度。选择用2D卷积网络提取特征。通常如果使用NECK 模块将3维空间内的特征压缩为2维空间的特征后\n",
    "也会再次使用2D的卷积网络再次提取特征。"
   ],
   "metadata": {
    "collapsed": false
   }
  },
  {
   "cell_type": "code",
   "execution_count": 22,
   "outputs": [
    {
     "name": "stdout",
     "output_type": "stream",
     "text": [
      "{'MULTI_FEAT_LAYER_CONFIG': {'in_channels': 256,\n",
      "                             'layer_nums': [5, 5],\n",
      "                             'layer_strides': [1, 2],\n",
      "                             'out_channels': [128, 256]},\n",
      " 'NAME': 'SECONDFPN',\n",
      " 'in_channels': [128, 256],\n",
      " 'out_channels': [256, 256],\n",
      " 'upsample_strides': [1, 2]}\n"
     ]
    }
   ],
   "source": [
    "backbone2d_cfg = model_cfg.BACKBONE2D\n",
    "pprint(backbone2d_cfg)"
   ],
   "metadata": {
    "collapsed": false,
    "pycharm": {
     "name": "#%%\n"
    }
   }
  },
  {
   "cell_type": "code",
   "execution_count": 23,
   "outputs": [
    {
     "name": "stderr",
     "output_type": "stream",
     "text": [
      "/home/ph/ENV/anaconda3/lib/python3.8/site-packages/setuptools/distutils_patch.py:25: UserWarning: Distutils was imported before Setuptools. This usage is discouraged and may exhibit undesirable behaviors or errors. Please use Setuptools' objects directly or at least import Setuptools first.\n",
      "  warnings.warn(\n"
     ]
    },
    {
     "data": {
      "text/plain": "{'frame_id': array(['006974', '007388', '006697', '007113'], dtype='<U6'),\n 'gt_boxes': tensor([[[ 3.4287e+01, -3.6757e+01, -5.7138e-01,  3.3906e+00,  1.3138e+00,\n            1.4297e+00, -3.6820e-01,  1.0000e+00],\n          [ 2.6158e+01, -2.0168e+01, -7.6718e-01,  4.3470e+00,  1.5746e+00,\n            1.5649e+00, -6.6820e-01,  1.0000e+00],\n          [ 1.1218e+01, -5.0065e+00, -8.7279e-01,  4.2407e+00,  1.6229e+00,\n            1.3910e+00,  2.4450e+00,  1.0000e+00],\n          [ 7.4499e+00, -2.3022e+01, -5.1212e-01,  3.7481e+00,  1.5070e+00,\n            1.4393e+00, -6.8820e-01,  1.0000e+00],\n          [ 2.6972e+01, -2.6909e+01,  9.2320e-02,  4.0379e+00,  1.7968e+00,\n            1.4297e+00, -2.3082e+00,  1.0000e+00],\n          [ 2.5747e+01, -2.3670e+01, -7.6032e-01,  3.6611e+00,  1.5359e+00,\n            1.4490e+00, -6.2820e-01,  1.0000e+00],\n          [ 2.3785e+01, -1.1817e+01, -8.9798e-01,  4.3470e+00,  1.6519e+00,\n            1.4973e+00,  2.4950e+00,  1.0000e+00],\n          [ 3.4093e+01, -1.3558e+01, -5.8491e-01,  4.0572e+00,  1.5263e+00,\n            1.5746e+00,  2.4450e+00,  1.0000e+00],\n          [ 3.2650e+01, -1.0931e+00, -7.7659e-01,  3.9123e+00,  1.4200e+00,\n            1.4780e+00,  2.4550e+00,  1.0000e+00],\n          [ 8.0022e+00, -1.9903e+00, -9.9201e-01,  3.6901e+00,  1.4780e+00,\n            1.6422e+00,  2.4850e+00,  1.0000e+00],\n          [ 3.2505e+01, -2.1368e+01, -8.1101e-01,  3.1008e+00,  1.5649e+00,\n            1.4297e+00,  2.4650e+00,  1.0000e+00],\n          [ 3.0511e+01, -1.4891e+01, -7.8026e-01,  4.3760e+00,  1.6132e+00,\n            1.3717e+00,  2.2750e+00,  1.0000e+00],\n          [ 2.1808e+01, -2.2562e+01, -5.1207e-01,  4.0185e+00,  1.5746e+00,\n            1.4393e+00, -1.4582e+00,  1.0000e+00],\n          [ 2.8808e+01, -2.0104e+01, -4.2861e-01,  3.8930e+00,  1.5359e+00,\n            1.4200e+00, -7.1820e-01,  1.0000e+00],\n          [ 1.2118e+01, -1.4654e+01, -8.8686e-01,  4.2600e+00,  1.6615e+00,\n            1.6036e+00, -6.6820e-01,  1.0000e+00],\n          [ 1.8511e+01, -1.3998e+01, -8.3967e-01,  3.2651e+00,  1.6325e+00,\n            1.3138e+00, -6.9820e-01,  1.0000e+00],\n          [ 2.5700e+01, -9.9318e+00, -7.4554e-01,  3.6998e+00,  1.5553e+00,\n            1.7388e+00,  2.4250e+00,  1.0000e+00]],\n \n         [[ 6.9835e+00, -1.0903e+00, -7.8556e-01,  3.4918e+00,  1.4549e+00,\n            1.6456e+00,  2.3166e+00,  1.0000e+00],\n          [ 2.4316e+00, -6.2401e+00, -9.2757e-01,  4.2945e+00,  1.5854e+00,\n            1.5252e+00, -8.1657e-01,  1.0000e+00],\n          [ 1.2750e+01, -1.1182e+01, -7.6846e-01,  4.0938e+00,  1.6456e+00,\n            1.5452e+00,  2.0766e+00,  1.0000e+00],\n          [ 5.7021e+00, -1.0297e+01, -9.0242e-01,  3.5921e+00,  1.5753e+00,\n            1.4649e+00, -9.5657e-01,  1.0000e+00],\n          [ 8.1742e+00, -1.4443e+01, -7.7883e-01,  3.4416e+00,  1.6757e+00,\n            1.5854e+00, -9.4657e-01,  1.0000e+00],\n          [ 4.1889e+00, -2.7748e+01, -3.6041e-02,  3.6925e+00,  1.9466e+00,\n            1.8462e+00, -6.1657e-01,  1.0000e+00],\n          [ 2.1718e+01, -2.2293e+01, -4.4379e-01,  4.1841e+00,  1.6054e+00,\n            1.5051e+00,  2.1266e+00,  1.0000e+00],\n          [ 2.0097e+01, -3.1623e+01, -6.2601e-01,  3.9433e+00,  1.6857e+00,\n            1.5854e+00, -9.3657e-01,  1.0000e+00],\n          [ 2.8060e+01, -3.1730e+01, -1.7678e-01,  3.9935e+00,  1.5452e+00,\n            1.5854e+00,  2.0866e+00,  1.0000e+00],\n          [ 1.7721e+01, -9.4917e+00, -1.0195e+00,  4.5153e+00,  1.7158e+00,\n            1.5553e+00,  2.4166e+00,  1.0000e+00],\n          [ 1.9670e+01, -1.6981e+01, -8.9632e-01,  3.2108e+00,  1.6656e+00,\n            1.6155e+00, -7.2657e-01,  1.0000e+00],\n          [ 1.2475e+01, -1.7603e+01, -8.6812e-01,  4.2945e+00,  1.5854e+00,\n            1.5252e+00, -9.1657e-01,  1.0000e+00],\n          [ 3.4259e+01, -3.3892e+00, -9.0953e-01,  4.1741e+00,  1.8161e+00,\n            1.4348e+00,  2.4066e+00,  1.0000e+00],\n          [ 3.8076e+01, -1.4359e+01, -5.5079e-01,  2.9600e+00,  1.2944e+00,\n            1.4750e+00,  2.3666e+00,  1.0000e+00],\n          [ 0.0000e+00,  0.0000e+00,  0.0000e+00,  0.0000e+00,  0.0000e+00,\n            0.0000e+00,  0.0000e+00,  0.0000e+00],\n          [ 0.0000e+00,  0.0000e+00,  0.0000e+00,  0.0000e+00,  0.0000e+00,\n            0.0000e+00,  0.0000e+00,  0.0000e+00],\n          [ 0.0000e+00,  0.0000e+00,  0.0000e+00,  0.0000e+00,  0.0000e+00,\n            0.0000e+00,  0.0000e+00,  0.0000e+00]],\n \n         [[ 4.2018e+01, -1.6295e+01, -4.4903e-01,  3.5553e+00,  1.7482e+00,\n            1.3946e+00,  2.5961e+00,  1.0000e+00],\n          [ 3.1294e+01, -1.8732e+01, -3.8901e-01,  4.6259e+00,  1.7089e+00,\n            1.6991e+00,  1.1861e+00,  1.0000e+00],\n          [ 3.4237e+01, -1.5085e+01, -8.1611e-01,  3.5455e+00,  1.6402e+00,\n            1.4928e+00, -4.6711e-01,  1.0000e+00],\n          [ 7.7621e+00, -9.2521e-01, -8.3871e-01,  3.3294e+00,  1.7187e+00,\n            1.6205e+00,  2.7761e+00,  1.0000e+00],\n          [ 2.5234e+01, -3.2611e+01, -1.5873e-01,  3.8794e+00,  1.6696e+00,\n            1.4045e+00,  1.4661e+00,  1.0000e+00],\n          [ 2.2842e+01, -6.9570e+00, -8.2343e-01,  4.2821e+00,  1.6598e+00,\n            1.3848e+00,  2.6961e+00,  1.0000e+00],\n          [ 3.8935e+01, -2.4045e+00, -1.5674e+00,  3.8893e+00,  1.7875e+00,\n            1.3455e+00,  2.6861e+00,  1.0000e+00],\n          [ 1.7549e+01, -9.7123e+00, -6.3615e-01,  3.3785e+00,  1.5616e+00,\n            1.4241e+00, -7.9711e-01,  1.0000e+00],\n          [ 1.4921e+01, -1.0324e+01, -7.4971e-01,  3.8598e+00,  1.6500e+00,\n            1.5518e+00, -4.7711e-01,  1.0000e+00],\n          [ 3.1813e+01, -2.7392e+00, -6.4254e-01,  3.8401e+00,  1.5911e+00,\n            1.4143e+00,  9.6289e-01,  1.0000e+00],\n          [ 1.2212e+01, -1.3850e+00, -3.1699e-01,  3.8696e+00,  1.3750e+00,\n            1.5027e+00,  1.3361e+00,  1.0000e+00],\n          [ 2.3439e+01, -4.3826e+00, -9.0563e-01,  3.5553e+00,  1.4437e+00,\n            1.3553e+00,  2.6661e+00,  1.0000e+00],\n          [ 0.0000e+00,  0.0000e+00,  0.0000e+00,  0.0000e+00,  0.0000e+00,\n            0.0000e+00,  0.0000e+00,  0.0000e+00],\n          [ 0.0000e+00,  0.0000e+00,  0.0000e+00,  0.0000e+00,  0.0000e+00,\n            0.0000e+00,  0.0000e+00,  0.0000e+00],\n          [ 0.0000e+00,  0.0000e+00,  0.0000e+00,  0.0000e+00,  0.0000e+00,\n            0.0000e+00,  0.0000e+00,  0.0000e+00],\n          [ 0.0000e+00,  0.0000e+00,  0.0000e+00,  0.0000e+00,  0.0000e+00,\n            0.0000e+00,  0.0000e+00,  0.0000e+00],\n          [ 0.0000e+00,  0.0000e+00,  0.0000e+00,  0.0000e+00,  0.0000e+00,\n            0.0000e+00,  0.0000e+00,  0.0000e+00]],\n \n         [[ 5.1294e+01,  1.6129e+01, -6.0686e-01,  4.1712e+00,  1.6645e+00,\n            1.4639e+00, -2.7739e+00,  1.0000e+00],\n          [ 2.3472e+01,  1.7378e+00, -8.1744e-01,  3.6398e+00,  1.6244e+00,\n            1.5341e+00, -4.9074e-01,  1.0000e+00],\n          [ 1.2526e+01,  9.5161e+00, -7.0270e-01,  3.8804e+00,  1.5842e+00,\n            1.4539e+00,  1.1593e+00,  1.0000e+00],\n          [ 2.1738e+01,  8.4785e+00, -6.3713e-01,  3.6999e+00,  1.6544e+00,\n            1.5642e+00,  3.6926e-01,  1.0000e+00],\n          [ 6.0097e+01, -7.9676e+00,  5.4441e-01,  4.7427e+00,  1.8149e+00,\n            2.4867e+00,  3.6926e-01,  1.0000e+00],\n          [ 2.8836e+01,  1.1567e+01, -5.1450e-01,  4.3918e+00,  1.6745e+00,\n            1.5241e+00,  3.8926e-01,  1.0000e+00],\n          [ 4.4144e+01,  1.9765e+01, -9.2656e-01,  3.6799e+00,  1.6344e+00,\n            1.5441e+00,  6.4926e-01,  1.0000e+00],\n          [ 1.2884e+01, -2.6352e+00, -1.0484e+00,  3.6197e+00,  1.6143e+00,\n            1.4840e+00, -2.7839e+00,  1.0000e+00],\n          [ 3.2065e+01,  9.0363e+00, -6.1157e-01,  4.3416e+00,  1.6645e+00,\n            1.6043e+00, -2.7339e+00,  1.0000e+00],\n          [ 0.0000e+00,  0.0000e+00,  0.0000e+00,  0.0000e+00,  0.0000e+00,\n            0.0000e+00,  0.0000e+00,  0.0000e+00],\n          [ 0.0000e+00,  0.0000e+00,  0.0000e+00,  0.0000e+00,  0.0000e+00,\n            0.0000e+00,  0.0000e+00,  0.0000e+00],\n          [ 0.0000e+00,  0.0000e+00,  0.0000e+00,  0.0000e+00,  0.0000e+00,\n            0.0000e+00,  0.0000e+00,  0.0000e+00],\n          [ 0.0000e+00,  0.0000e+00,  0.0000e+00,  0.0000e+00,  0.0000e+00,\n            0.0000e+00,  0.0000e+00,  0.0000e+00],\n          [ 0.0000e+00,  0.0000e+00,  0.0000e+00,  0.0000e+00,  0.0000e+00,\n            0.0000e+00,  0.0000e+00,  0.0000e+00],\n          [ 0.0000e+00,  0.0000e+00,  0.0000e+00,  0.0000e+00,  0.0000e+00,\n            0.0000e+00,  0.0000e+00,  0.0000e+00],\n          [ 0.0000e+00,  0.0000e+00,  0.0000e+00,  0.0000e+00,  0.0000e+00,\n            0.0000e+00,  0.0000e+00,  0.0000e+00],\n          [ 0.0000e+00,  0.0000e+00,  0.0000e+00,  0.0000e+00,  0.0000e+00,\n            0.0000e+00,  0.0000e+00,  0.0000e+00]]], device='cuda:0'),\n 'points': tensor([[ 0.0000e+00,  3.3809e+00, -1.6787e+01, -1.5939e+00,  3.1000e-01],\n         [ 0.0000e+00,  2.0875e+01, -3.7063e+00, -1.5070e+00,  1.7000e-01],\n         [ 0.0000e+00,  3.6475e+01, -1.6826e+01, -1.3514e+00,  0.0000e+00],\n         ...,\n         [ 3.0000e+00,  2.2089e+01,  2.8095e+00, -1.1741e+00,  3.2000e-01],\n         [ 3.0000e+00,  4.2173e+01,  3.7508e+00, -1.4278e+00,  0.0000e+00],\n         [ 3.0000e+00,  1.0866e+01,  1.3380e-01, -1.7076e+00,  4.0000e-02]],\n        device='cuda:0'),\n 'use_lead_xyz': tensor([1., 1., 1., 1.], device='cuda:0'),\n 'image_shape': tensor([[ 375, 1242,    3],\n         [ 375, 1242,    3],\n         [ 374, 1238,    3],\n         [ 375, 1242,    3]], device='cuda:0', dtype=torch.int32),\n 'batch_size': 4,\n 'voxels': tensor([[[  3.3809, -16.7871,  -1.5939,   0.3100],\n          [  0.0000,   0.0000,   0.0000,   0.0000],\n          [  0.0000,   0.0000,   0.0000,   0.0000],\n          [  0.0000,   0.0000,   0.0000,   0.0000],\n          [  0.0000,   0.0000,   0.0000,   0.0000]],\n \n         [[ 20.8752,  -3.7063,  -1.5070,   0.1700],\n          [  0.0000,   0.0000,   0.0000,   0.0000],\n          [  0.0000,   0.0000,   0.0000,   0.0000],\n          [  0.0000,   0.0000,   0.0000,   0.0000],\n          [  0.0000,   0.0000,   0.0000,   0.0000]],\n \n         [[ 36.4749, -16.8259,  -1.3514,   0.0000],\n          [  0.0000,   0.0000,   0.0000,   0.0000],\n          [  0.0000,   0.0000,   0.0000,   0.0000],\n          [  0.0000,   0.0000,   0.0000,   0.0000],\n          [  0.0000,   0.0000,   0.0000,   0.0000]],\n \n         ...,\n \n         [[ 14.8142,   3.6570,  -1.5863,   0.6400],\n          [  0.0000,   0.0000,   0.0000,   0.0000],\n          [  0.0000,   0.0000,   0.0000,   0.0000],\n          [  0.0000,   0.0000,   0.0000,   0.0000],\n          [  0.0000,   0.0000,   0.0000,   0.0000]],\n \n         [[ 26.6701,  11.1493,  -1.0819,   0.0000],\n          [  0.0000,   0.0000,   0.0000,   0.0000],\n          [  0.0000,   0.0000,   0.0000,   0.0000],\n          [  0.0000,   0.0000,   0.0000,   0.0000],\n          [  0.0000,   0.0000,   0.0000,   0.0000]],\n \n         [[  9.8069,   6.9795,  -1.7858,   0.3400],\n          [  0.0000,   0.0000,   0.0000,   0.0000],\n          [  0.0000,   0.0000,   0.0000,   0.0000],\n          [  0.0000,   0.0000,   0.0000,   0.0000],\n          [  0.0000,   0.0000,   0.0000,   0.0000]]], device='cuda:0'),\n 'voxel_coords': tensor([[   0.,   14.,  464.,   67.],\n         [   0.,   14.,  725.,  417.],\n         [   0.,   16.,  463.,  729.],\n         ...,\n         [   3.,   14.,  873.,  296.],\n         [   3.,   19., 1022.,  533.],\n         [   3.,   12.,  939.,  196.]], device='cuda:0'),\n 'voxel_num_points': tensor([1., 1., 1.,  ..., 1., 1., 1.], device='cuda:0'),\n 'voxel_features': tensor([[  3.3809, -16.7871,  -1.5939,   0.3100],\n         [ 20.8752,  -3.7063,  -1.5070,   0.1700],\n         [ 36.4749, -16.8259,  -1.3514,   0.0000],\n         ...,\n         [ 14.8142,   3.6570,  -1.5863,   0.6400],\n         [ 26.6701,  11.1493,  -1.0819,   0.0000],\n         [  9.8069,   6.9795,  -1.7858,   0.3400]], device='cuda:0'),\n 'sp_feat3d': <spconv.SparseConvTensor at 0x7f2f67d4f0a0>,\n 'dense_feat2d': tensor([[[[0.3102, 0.1856, 0.2031,  ..., 0.2012, 0.1365, 0.1147],\n           [0.2565, 0.2034, 0.2330,  ..., 0.2532, 0.1923, 0.2152],\n           [0.2534, 0.1141, 0.2221,  ..., 0.2076, 0.2478, 0.2596],\n           ...,\n           [0.2735, 0.1855, 0.1616,  ..., 0.2397, 0.1996, 0.2670],\n           [0.2060, 0.2443, 0.2426,  ..., 0.2426, 0.1971, 0.2027],\n           [0.1106, 0.3127, 0.1663,  ..., 0.2346, 0.1614, 0.2328]],\n \n          [[0.0448, 0.0000, 0.0000,  ..., 0.0064, 0.0000, 0.0000],\n           [0.1863, 0.1750, 0.0911,  ..., 0.0210, 0.0000, 0.0092],\n           [0.0837, 0.0000, 0.0000,  ..., 0.0000, 0.0000, 0.0000],\n           ...,\n           [0.1700, 0.0000, 0.0000,  ..., 0.0000, 0.0000, 0.0000],\n           [0.0283, 0.0000, 0.0000,  ..., 0.0000, 0.0000, 0.0000],\n           [0.0087, 0.0000, 0.0118,  ..., 0.0000, 0.0000, 0.0656]],\n \n          [[0.0000, 0.0000, 0.0000,  ..., 0.0000, 0.1498, 0.0156],\n           [0.0000, 0.0000, 0.0000,  ..., 0.0000, 0.0000, 0.0000],\n           [0.0000, 0.0000, 0.0000,  ..., 0.0000, 0.0000, 0.0000],\n           ...,\n           [0.0000, 0.0000, 0.0000,  ..., 0.0000, 0.0000, 0.0000],\n           [0.0000, 0.0000, 0.0000,  ..., 0.0000, 0.0000, 0.0000],\n           [0.0000, 0.0000, 0.0499,  ..., 0.0000, 0.0919, 0.0302]],\n \n          ...,\n \n          [[0.0000, 0.0000, 0.0000,  ..., 0.0000, 0.0087, 0.0000],\n           [0.0000, 0.1296, 0.0000,  ..., 0.3082, 0.0000, 0.0048],\n           [0.0000, 0.0000, 0.0000,  ..., 0.0000, 0.0000, 0.0000],\n           ...,\n           [0.0000, 0.0705, 0.0000,  ..., 0.1791, 0.0000, 0.1610],\n           [0.2700, 0.0000, 0.0054,  ..., 0.0000, 0.0000, 0.0000],\n           [0.0000, 0.2723, 0.0000,  ..., 0.2532, 0.0000, 0.1231]],\n \n          [[0.0000, 0.0036, 0.0000,  ..., 0.0000, 0.1699, 0.0000],\n           [0.0000, 0.5162, 0.0000,  ..., 0.2563, 0.0000, 0.4669],\n           [0.0000, 0.0391, 0.0000,  ..., 0.1909, 0.2551, 0.0417],\n           ...,\n           [0.0000, 0.3563, 0.0000,  ..., 0.2074, 0.0000, 0.3034],\n           [0.0529, 0.0000, 0.0000,  ..., 0.0000, 0.1371, 0.0799],\n           [0.0000, 0.4829, 0.0000,  ..., 0.3580, 0.0000, 0.5700]],\n \n          [[0.2675, 0.0000, 0.0000,  ..., 0.0000, 0.2201, 0.0000],\n           [0.0000, 0.1174, 0.0000,  ..., 0.0000, 0.0000, 0.1537],\n           [0.2087, 0.0000, 0.0000,  ..., 0.0360, 0.0000, 0.0000],\n           ...,\n           [0.0000, 0.3405, 0.0000,  ..., 0.0133, 0.0000, 0.2715],\n           [0.4430, 0.0000, 0.2964,  ..., 0.0000, 0.2683, 0.0000],\n           [0.0000, 0.3577, 0.0000,  ..., 0.2305, 0.2178, 0.4931]]],\n \n \n         [[[0.3102, 0.1856, 0.2031,  ..., 0.0000, 0.1565, 0.0712],\n           [0.2565, 0.2034, 0.2330,  ..., 0.0348, 0.2291, 0.2801],\n           [0.2534, 0.1141, 0.2221,  ..., 0.0000, 0.0040, 0.1987],\n           ...,\n           [0.2735, 0.1855, 0.1616,  ..., 0.2397, 0.1996, 0.2670],\n           [0.2060, 0.2443, 0.2426,  ..., 0.2426, 0.1971, 0.2027],\n           [0.1106, 0.3127, 0.1663,  ..., 0.2346, 0.1614, 0.2328]],\n \n          [[0.0448, 0.0000, 0.0000,  ..., 0.0000, 0.0000, 0.0000],\n           [0.1863, 0.1750, 0.0911,  ..., 0.0000, 0.0000, 0.0000],\n           [0.0837, 0.0000, 0.0000,  ..., 0.0000, 0.0000, 0.0000],\n           ...,\n           [0.1700, 0.0000, 0.0000,  ..., 0.0000, 0.0000, 0.0000],\n           [0.0283, 0.0000, 0.0000,  ..., 0.0000, 0.0000, 0.0000],\n           [0.0087, 0.0000, 0.0118,  ..., 0.0000, 0.0000, 0.0656]],\n \n          [[0.0000, 0.0000, 0.0000,  ..., 0.0000, 0.2621, 0.0000],\n           [0.0000, 0.0000, 0.0000,  ..., 0.1326, 0.0473, 0.0998],\n           [0.0000, 0.0000, 0.0000,  ..., 0.4051, 0.1218, 0.0000],\n           ...,\n           [0.0000, 0.0000, 0.0000,  ..., 0.0000, 0.0000, 0.0000],\n           [0.0000, 0.0000, 0.0000,  ..., 0.0000, 0.0000, 0.0000],\n           [0.0000, 0.0000, 0.0499,  ..., 0.0000, 0.0919, 0.0302]],\n \n          ...,\n \n          [[0.0000, 0.0000, 0.0000,  ..., 0.0000, 0.0000, 0.0000],\n           [0.0000, 0.1294, 0.0000,  ..., 0.0966, 0.0000, 0.1971],\n           [0.0000, 0.0000, 0.0000,  ..., 0.0000, 0.0330, 0.0461],\n           ...,\n           [0.0000, 0.0705, 0.0000,  ..., 0.1791, 0.0000, 0.1610],\n           [0.2700, 0.0000, 0.0054,  ..., 0.0000, 0.0000, 0.0000],\n           [0.0000, 0.2723, 0.0000,  ..., 0.2532, 0.0000, 0.1231]],\n \n          [[0.0000, 0.0028, 0.0000,  ..., 0.0000, 0.0000, 0.0000],\n           [0.0000, 0.5161, 0.0000,  ..., 0.3684, 0.0000, 0.4645],\n           [0.0000, 0.0385, 0.0000,  ..., 0.0700, 0.0764, 0.0000],\n           ...,\n           [0.0000, 0.3563, 0.0000,  ..., 0.2074, 0.0000, 0.3034],\n           [0.0529, 0.0000, 0.0000,  ..., 0.0000, 0.1371, 0.0799],\n           [0.0000, 0.4829, 0.0000,  ..., 0.3580, 0.0000, 0.5700]],\n \n          [[0.2670, 0.0000, 0.0000,  ..., 0.0000, 0.2240, 0.0000],\n           [0.0000, 0.1178, 0.0000,  ..., 0.0000, 0.0000, 0.0196],\n           [0.2079, 0.0000, 0.0000,  ..., 0.1027, 0.3107, 0.0000],\n           ...,\n           [0.0000, 0.3405, 0.0000,  ..., 0.0133, 0.0000, 0.2715],\n           [0.4430, 0.0000, 0.2964,  ..., 0.0000, 0.2683, 0.0000],\n           [0.0000, 0.3577, 0.0000,  ..., 0.2305, 0.2178, 0.4931]]],\n \n \n         [[[0.3102, 0.1856, 0.2031,  ..., 0.2051, 0.1432, 0.1140],\n           [0.2565, 0.2034, 0.2330,  ..., 0.2608, 0.1879, 0.2174],\n           [0.2534, 0.1141, 0.2221,  ..., 0.2490, 0.2393, 0.2640],\n           ...,\n           [0.2735, 0.1855, 0.1616,  ..., 0.2397, 0.1996, 0.2670],\n           [0.2060, 0.2443, 0.2426,  ..., 0.2426, 0.1971, 0.2027],\n           [0.1106, 0.3127, 0.1663,  ..., 0.2346, 0.1614, 0.2328]],\n \n          [[0.0448, 0.0000, 0.0000,  ..., 0.0117, 0.0000, 0.0000],\n           [0.1863, 0.1750, 0.0911,  ..., 0.0106, 0.0000, 0.0013],\n           [0.0837, 0.0000, 0.0000,  ..., 0.0000, 0.0000, 0.0000],\n           ...,\n           [0.1700, 0.0000, 0.0000,  ..., 0.0000, 0.0000, 0.0000],\n           [0.0283, 0.0000, 0.0000,  ..., 0.0000, 0.0000, 0.0000],\n           [0.0087, 0.0000, 0.0118,  ..., 0.0000, 0.0000, 0.0656]],\n \n          [[0.0000, 0.0000, 0.0000,  ..., 0.0000, 0.1514, 0.0213],\n           [0.0000, 0.0000, 0.0000,  ..., 0.0000, 0.0000, 0.0046],\n           [0.0000, 0.0000, 0.0000,  ..., 0.0000, 0.0000, 0.0000],\n           ...,\n           [0.0000, 0.0000, 0.0000,  ..., 0.0000, 0.0000, 0.0000],\n           [0.0000, 0.0000, 0.0000,  ..., 0.0000, 0.0000, 0.0000],\n           [0.0000, 0.0000, 0.0499,  ..., 0.0000, 0.0919, 0.0302]],\n \n          ...,\n \n          [[0.0000, 0.0000, 0.0000,  ..., 0.0000, 0.0000, 0.0000],\n           [0.0000, 0.1294, 0.0000,  ..., 0.2240, 0.0000, 0.1591],\n           [0.0000, 0.0000, 0.0000,  ..., 0.0000, 0.0000, 0.0000],\n           ...,\n           [0.0000, 0.0705, 0.0000,  ..., 0.1791, 0.0000, 0.1610],\n           [0.2700, 0.0000, 0.0054,  ..., 0.0000, 0.0000, 0.0000],\n           [0.0000, 0.2723, 0.0000,  ..., 0.2532, 0.0000, 0.1231]],\n \n          [[0.0000, 0.0028, 0.0000,  ..., 0.0000, 0.0059, 0.0000],\n           [0.0000, 0.5161, 0.0000,  ..., 0.2799, 0.0000, 0.4547],\n           [0.0000, 0.0385, 0.0000,  ..., 0.0000, 0.2585, 0.0000],\n           ...,\n           [0.0000, 0.3563, 0.0000,  ..., 0.2074, 0.0000, 0.3034],\n           [0.0529, 0.0000, 0.0000,  ..., 0.0000, 0.1371, 0.0799],\n           [0.0000, 0.4829, 0.0000,  ..., 0.3580, 0.0000, 0.5700]],\n \n          [[0.2670, 0.0000, 0.0000,  ..., 0.0000, 0.0815, 0.0000],\n           [0.0000, 0.1178, 0.0000,  ..., 0.0000, 0.0000, 0.2281],\n           [0.2079, 0.0000, 0.0000,  ..., 0.0429, 0.0000, 0.0000],\n           ...,\n           [0.0000, 0.3405, 0.0000,  ..., 0.0133, 0.0000, 0.2715],\n           [0.4430, 0.0000, 0.2964,  ..., 0.0000, 0.2683, 0.0000],\n           [0.0000, 0.3577, 0.0000,  ..., 0.2305, 0.2178, 0.4931]]],\n \n \n         [[[0.3102, 0.1856, 0.2031,  ..., 0.2051, 0.1432, 0.1140],\n           [0.2565, 0.2034, 0.2330,  ..., 0.2608, 0.1879, 0.2174],\n           [0.2534, 0.1141, 0.2221,  ..., 0.2490, 0.2393, 0.2640],\n           ...,\n           [0.2735, 0.1855, 0.1616,  ..., 0.2397, 0.1996, 0.2670],\n           [0.2060, 0.2443, 0.2426,  ..., 0.2426, 0.1971, 0.2027],\n           [0.1106, 0.3127, 0.1663,  ..., 0.2346, 0.1614, 0.2328]],\n \n          [[0.0448, 0.0000, 0.0000,  ..., 0.0117, 0.0000, 0.0000],\n           [0.1863, 0.1750, 0.0911,  ..., 0.0106, 0.0000, 0.0013],\n           [0.0837, 0.0000, 0.0000,  ..., 0.0000, 0.0000, 0.0000],\n           ...,\n           [0.1700, 0.0000, 0.0000,  ..., 0.0000, 0.0000, 0.0000],\n           [0.0283, 0.0000, 0.0000,  ..., 0.0000, 0.0000, 0.0000],\n           [0.0087, 0.0000, 0.0118,  ..., 0.0000, 0.0000, 0.0656]],\n \n          [[0.0000, 0.0000, 0.0000,  ..., 0.0000, 0.1514, 0.0213],\n           [0.0000, 0.0000, 0.0000,  ..., 0.0000, 0.0000, 0.0046],\n           [0.0000, 0.0000, 0.0000,  ..., 0.0000, 0.0000, 0.0000],\n           ...,\n           [0.0000, 0.0000, 0.0000,  ..., 0.0000, 0.0000, 0.0000],\n           [0.0000, 0.0000, 0.0000,  ..., 0.0000, 0.0000, 0.0000],\n           [0.0000, 0.0000, 0.0499,  ..., 0.0000, 0.0919, 0.0302]],\n \n          ...,\n \n          [[0.0000, 0.0000, 0.0000,  ..., 0.0000, 0.0000, 0.0000],\n           [0.0000, 0.1294, 0.0000,  ..., 0.2207, 0.0000, 0.1705],\n           [0.0000, 0.0000, 0.0000,  ..., 0.0000, 0.0000, 0.0000],\n           ...,\n           [0.0000, 0.0705, 0.0000,  ..., 0.2191, 0.0000, 0.1096],\n           [0.2700, 0.0000, 0.0054,  ..., 0.0000, 0.0000, 0.0000],\n           [0.0000, 0.2723, 0.0000,  ..., 0.2309, 0.0000, 0.1090]],\n \n          [[0.0000, 0.0028, 0.0000,  ..., 0.0000, 0.0000, 0.0000],\n           [0.0000, 0.5161, 0.0000,  ..., 0.2603, 0.0000, 0.4460],\n           [0.0000, 0.0385, 0.0000,  ..., 0.0000, 0.2699, 0.0000],\n           ...,\n           [0.0000, 0.3563, 0.0000,  ..., 0.1634, 0.0000, 0.2548],\n           [0.0529, 0.0000, 0.0000,  ..., 0.0000, 0.1086, 0.0759],\n           [0.0000, 0.4829, 0.0000,  ..., 0.3045, 0.0000, 0.5843]],\n \n          [[0.2670, 0.0000, 0.0000,  ..., 0.0000, 0.0769, 0.0000],\n           [0.0000, 0.1178, 0.0000,  ..., 0.0000, 0.0000, 0.2142],\n           [0.2079, 0.0000, 0.0000,  ..., 0.0045, 0.0000, 0.0000],\n           ...,\n           [0.0000, 0.3405, 0.0000,  ..., 0.0091, 0.0000, 0.1554],\n           [0.4430, 0.0000, 0.2964,  ..., 0.0000, 0.2939, 0.0000],\n           [0.0000, 0.3577, 0.0000,  ..., 0.2266, 0.1947, 0.5293]]]],\n        device='cuda:0', grad_fn=<CatBackward>)}"
     },
     "execution_count": 23,
     "metadata": {},
     "output_type": "execute_result"
    }
   ],
   "source": [
    "from basic.module.backbone2d import SECONDFPN\n",
    "backbone2d = SECONDFPN(model_info_dict, **backbone2d_cfg).cuda()\n",
    "output = backbone2d(output)\n",
    "model_info_dict['module_list'].append(backbone2d)\n",
    "output"
   ],
   "metadata": {
    "collapsed": false,
    "pycharm": {
     "name": "#%%\n"
    }
   }
  },
  {
   "cell_type": "code",
   "execution_count": 24,
   "outputs": [
    {
     "data": {
      "text/plain": "torch.Size([4, 512, 200, 176])"
     },
     "execution_count": 24,
     "metadata": {},
     "output_type": "execute_result"
    }
   ],
   "source": [
    "output['dense_feat2d'].shape"
   ],
   "metadata": {
    "collapsed": false,
    "pycharm": {
     "name": "#%%\n"
    }
   }
  },
  {
   "cell_type": "code",
   "execution_count": 25,
   "outputs": [
    {
     "name": "stdout",
     "output_type": "stream",
     "text": [
      "current model infos:\n",
      "module_list:[VoxelLayer(), MeanVFE(), VoxelBackBone8x(\n",
      "  (conv_input): SparseSequential(\n",
      "    (0): SubMConv3d()\n",
      "    (1): BatchNorm1d(16, eps=0.001, momentum=0.01, affine=True, track_running_stats=True)\n",
      "    (2): ReLU()\n",
      "  )\n",
      "  (conv_layers): ModuleList(\n",
      "    (0): SparseSequential(\n",
      "      (0): SubMConv3d()\n",
      "      (1): BatchNorm1d(16, eps=0.001, momentum=0.01, affine=True, track_running_stats=True)\n",
      "      (2): ReLU()\n",
      "    )\n",
      "    (1): SparseSequential(\n",
      "      (0): SparseConv3d()\n",
      "      (1): BatchNorm1d(32, eps=0.001, momentum=0.01, affine=True, track_running_stats=True)\n",
      "      (2): ReLU()\n",
      "    )\n",
      "    (2): SparseSequential(\n",
      "      (0): SubMConv3d()\n",
      "      (1): BatchNorm1d(32, eps=0.001, momentum=0.01, affine=True, track_running_stats=True)\n",
      "      (2): ReLU()\n",
      "    )\n",
      "    (3): SparseSequential(\n",
      "      (0): SubMConv3d()\n",
      "      (1): BatchNorm1d(32, eps=0.001, momentum=0.01, affine=True, track_running_stats=True)\n",
      "      (2): ReLU()\n",
      "    )\n",
      "    (4): SparseSequential(\n",
      "      (0): SparseConv3d()\n",
      "      (1): BatchNorm1d(64, eps=0.001, momentum=0.01, affine=True, track_running_stats=True)\n",
      "      (2): ReLU()\n",
      "    )\n",
      "    (5): SparseSequential(\n",
      "      (0): SubMConv3d()\n",
      "      (1): BatchNorm1d(64, eps=0.001, momentum=0.01, affine=True, track_running_stats=True)\n",
      "      (2): ReLU()\n",
      "    )\n",
      "    (6): SparseSequential(\n",
      "      (0): SubMConv3d()\n",
      "      (1): BatchNorm1d(64, eps=0.001, momentum=0.01, affine=True, track_running_stats=True)\n",
      "      (2): ReLU()\n",
      "    )\n",
      "    (7): SparseSequential(\n",
      "      (0): SparseConv3d()\n",
      "      (1): BatchNorm1d(64, eps=0.001, momentum=0.01, affine=True, track_running_stats=True)\n",
      "      (2): ReLU()\n",
      "    )\n",
      "    (8): SparseSequential(\n",
      "      (0): SubMConv3d()\n",
      "      (1): BatchNorm1d(64, eps=0.001, momentum=0.01, affine=True, track_running_stats=True)\n",
      "      (2): ReLU()\n",
      "    )\n",
      "    (9): SparseSequential(\n",
      "      (0): SubMConv3d()\n",
      "      (1): BatchNorm1d(64, eps=0.001, momentum=0.01, affine=True, track_running_stats=True)\n",
      "      (2): ReLU()\n",
      "    )\n",
      "  )\n",
      "  (conv_out): SparseSequential(\n",
      "    (0): SparseConv3d()\n",
      "    (1): BatchNorm1d(128, eps=0.001, momentum=0.01, affine=True, track_running_stats=True)\n",
      "    (2): ReLU()\n",
      "  )\n",
      "), DimCompression(), SECONDFPN(\n",
      "  (multi_feat_layer): MultiScaleFeature(\n",
      "    (blocks): ModuleList(\n",
      "      (0): Sequential(\n",
      "        (0): Conv2d(256, 128, kernel_size=(3, 3), stride=(1, 1), padding=(1, 1), bias=False)\n",
      "        (1): BatchNorm2d(128, eps=0.001, momentum=0.01, affine=True, track_running_stats=True)\n",
      "        (2): ReLU(inplace=True)\n",
      "        (3): Conv2d(128, 128, kernel_size=(3, 3), stride=(1, 1), padding=(1, 1), bias=False)\n",
      "        (4): BatchNorm2d(128, eps=0.001, momentum=0.01, affine=True, track_running_stats=True)\n",
      "        (5): ReLU(inplace=True)\n",
      "        (6): Conv2d(128, 128, kernel_size=(3, 3), stride=(1, 1), padding=(1, 1), bias=False)\n",
      "        (7): BatchNorm2d(128, eps=0.001, momentum=0.01, affine=True, track_running_stats=True)\n",
      "        (8): ReLU(inplace=True)\n",
      "        (9): Conv2d(128, 128, kernel_size=(3, 3), stride=(1, 1), padding=(1, 1), bias=False)\n",
      "        (10): BatchNorm2d(128, eps=0.001, momentum=0.01, affine=True, track_running_stats=True)\n",
      "        (11): ReLU(inplace=True)\n",
      "        (12): Conv2d(128, 128, kernel_size=(3, 3), stride=(1, 1), padding=(1, 1), bias=False)\n",
      "        (13): BatchNorm2d(128, eps=0.001, momentum=0.01, affine=True, track_running_stats=True)\n",
      "        (14): ReLU(inplace=True)\n",
      "        (15): Conv2d(128, 128, kernel_size=(3, 3), stride=(1, 1), padding=(1, 1), bias=False)\n",
      "        (16): BatchNorm2d(128, eps=0.001, momentum=0.01, affine=True, track_running_stats=True)\n",
      "        (17): ReLU(inplace=True)\n",
      "      )\n",
      "      (1): Sequential(\n",
      "        (0): Conv2d(128, 256, kernel_size=(3, 3), stride=(2, 2), padding=(1, 1), bias=False)\n",
      "        (1): BatchNorm2d(256, eps=0.001, momentum=0.01, affine=True, track_running_stats=True)\n",
      "        (2): ReLU(inplace=True)\n",
      "        (3): Conv2d(256, 256, kernel_size=(3, 3), stride=(1, 1), padding=(1, 1), bias=False)\n",
      "        (4): BatchNorm2d(256, eps=0.001, momentum=0.01, affine=True, track_running_stats=True)\n",
      "        (5): ReLU(inplace=True)\n",
      "        (6): Conv2d(256, 256, kernel_size=(3, 3), stride=(1, 1), padding=(1, 1), bias=False)\n",
      "        (7): BatchNorm2d(256, eps=0.001, momentum=0.01, affine=True, track_running_stats=True)\n",
      "        (8): ReLU(inplace=True)\n",
      "        (9): Conv2d(256, 256, kernel_size=(3, 3), stride=(1, 1), padding=(1, 1), bias=False)\n",
      "        (10): BatchNorm2d(256, eps=0.001, momentum=0.01, affine=True, track_running_stats=True)\n",
      "        (11): ReLU(inplace=True)\n",
      "        (12): Conv2d(256, 256, kernel_size=(3, 3), stride=(1, 1), padding=(1, 1), bias=False)\n",
      "        (13): BatchNorm2d(256, eps=0.001, momentum=0.01, affine=True, track_running_stats=True)\n",
      "        (14): ReLU(inplace=True)\n",
      "        (15): Conv2d(256, 256, kernel_size=(3, 3), stride=(1, 1), padding=(1, 1), bias=False)\n",
      "        (16): BatchNorm2d(256, eps=0.001, momentum=0.01, affine=True, track_running_stats=True)\n",
      "        (17): ReLU(inplace=True)\n",
      "      )\n",
      "    )\n",
      "  )\n",
      "  (deblocks): ModuleList(\n",
      "    (0): Sequential(\n",
      "      (0): ConvTranspose2d(128, 256, kernel_size=(1, 1), stride=(1, 1), bias=False)\n",
      "      (1): BatchNorm2d(256, eps=0.001, momentum=0.01, affine=True, track_running_stats=True)\n",
      "      (2): ReLU(inplace=True)\n",
      "    )\n",
      "    (1): Sequential(\n",
      "      (0): ConvTranspose2d(256, 256, kernel_size=(2, 2), stride=(2, 2), bias=False)\n",
      "      (1): BatchNorm2d(256, eps=0.001, momentum=0.01, affine=True, track_running_stats=True)\n",
      "      (2): ReLU(inplace=True)\n",
      "    )\n",
      "  )\n",
      ")\n",
      "init_cfg=[{'type': 'Kaiming', 'layer': 'ConvTranspose2d'}, {'type': 'Constant', 'layer': 'NaiveSyncBatchNorm2d', 'val': 1.0}]]\n",
      "training:True\n",
      "raw_point_feature_dims:4\n",
      "cur_point_feature_dims:4\n",
      "point_cloud_range:[  0.  -40.   -3.   70.4  40.    1. ]\n",
      "voxel_size:[0.05, 0.05, 0.1]\n",
      "grid_size:[1408 1600   40]\n",
      "class_names:['Car']\n"
     ]
    }
   ],
   "source": [
    "print(f\"current model infos:\")\n",
    "for key, value in model_info_dict.items():\n",
    "    print(f\"{key}:{value}\")"
   ],
   "metadata": {
    "collapsed": false,
    "pycharm": {
     "name": "#%%\n"
    }
   }
  },
  {
   "cell_type": "code",
   "execution_count": 26,
   "outputs": [],
   "source": [
    "# from basic.module.backbone2d.base_bev_backbone import BaseBEVBackbone\n",
    "# backbone2d_cfg = model_cfg.MODEL.BACKBONE2D\n",
    "# backbone2d = BaseBEVBackbone(backbone2d_cfg, model_info_dict).cuda()\n",
    "# output = backbone2d(output)\n",
    "# output['spatial_features_2d'].shape"
   ],
   "metadata": {
    "collapsed": false,
    "pycharm": {
     "name": "#%%\n"
    }
   }
  },
  {
   "cell_type": "markdown",
   "source": [
    "截止目前为止：输入点云的shape变化为\n",
    "- 原始点云->体素：183149, 5, 4\n",
    "- VFE：183149, 4\n",
    "- BackBone3D：12， 128， 2， 200， 176\n",
    "- neck：12，256，200，176\n",
    "- BackBone2D：12，256，200，176，shape未变因为卷积过后，又转置卷积回了原始大小\n",
    "经过上面的各个模块，从原始点云中获取了能代表该点云的二维特征图。接下来是3D目标识别中最重要的部分：Dense Head 与 ROI head。"
   ],
   "metadata": {
    "collapsed": false
   }
  },
  {
   "cell_type": "markdown",
   "source": [
    "# Dense Head\n",
    "BackBone2D的输出为用于Bbox回归的，和Bbox分类的两个likelihood矩阵"
   ],
   "metadata": {
    "collapsed": false
   }
  },
  {
   "cell_type": "markdown",
   "source": [
    "anchor generator（一）\n",
    "- 枚举7种anchor可能用到的特征，即x，y，z，h，w，l，r。然后通过mesh gird产生所有anchors。其中根据anchor中心坐标xyz的取法不同又分为Range和Stride两种方案\n",
    "    - Range：在点云范围内，给定每个轴的取值范围。每个轴按照特征图中对应的维度平均划分这些轴。比如特征图对应X轴的维度大小为176，就在X轴范围内平均划分176个。\n",
    "    - Stride：给定xyz坐标下的原点坐标，分别以x stride，y stride，z stride沿着各个轴的正方向按步长获得anchor中心坐标xyz。\n",
    "    - 代码接口虽然可以自定义Range和Stride。但是为了将特征图上的每个特征点与原图上的每个anchor关联起来，一定要平均划分！！即Range取值为点云的范围，而Stride取值为\n",
    "  点云采样范围 / 特征图大小。即\\[z_stride, x_stride, y_stride\\]=\\[z_len, x_len, y_len\\] / \\[H, W, L\\]。这样看按Range还是Stride的方案取得的结果应该差距不大。。。\n",
    "    - 实际上就是把特征图上的每个特征点，映射回了原始数据上对应区域的中心？假如原始点云下采样了8倍得到特征图，则特征图中\\[0,0,0\\]点对应原点云（点云原点坐标为000）中以\\[8,8,8\\]为中心，边长为8的正方形区域？"
   ],
   "metadata": {
    "collapsed": false
   }
  },
  {
   "cell_type": "code",
   "execution_count": 27,
   "outputs": [
    {
     "name": "stdout",
     "output_type": "stream",
     "text": [
      "{'CLASS_CONFIG': [{'anchor_dims': 3,\n",
      "                   'boxes_size': [[3.9, 1.6, 1.56]],\n",
      "                   'center_aligned': True,\n",
      "                   'class_name': 'Car',\n",
      "                   'mode': 'Range',\n",
      "                   'ratios': [1],\n",
      "                   'road_plane_aligned': True,\n",
      "                   'road_plane_height': -0.035,\n",
      "                   'rotations': [0, 1.57]},\n",
      "                  {'anchor_dims': 3,\n",
      "                   'boxes_size': [[0.8, 0.6, 1.73]],\n",
      "                   'center_aligned': True,\n",
      "                   'class_name': 'Pedestrian',\n",
      "                   'mode': 'Range',\n",
      "                   'ratios': [1],\n",
      "                   'road_plane_aligned': True,\n",
      "                   'road_plane_height': -1.2,\n",
      "                   'rotations': [0, 1.57]},\n",
      "                  {'anchor_bottom_heights': [-0.6],\n",
      "                   'anchor_dims': 3,\n",
      "                   'boxes_size': [[1.76, 0.6, 1.73]],\n",
      "                   'center_aligned': True,\n",
      "                   'class_name': 'Cyclist',\n",
      "                   'mode': 'Range',\n",
      "                   'ratios': [1],\n",
      "                   'road_plane_aligned': True,\n",
      "                   'road_plane_height': -1.2,\n",
      "                   'rotations': [0, 1.57]}],\n",
      " 'DEVICE': 'cuda',\n",
      " 'NAME': 'AnchorGenerator'}\n"
     ]
    }
   ],
   "source": [
    "# anchor generator config\n",
    "anchor_gen_cfg = model_cfg.DENSE_HEAD.ANCHOR_GENERATOR_CONFIG\n",
    "pprint(anchor_gen_cfg)"
   ],
   "metadata": {
    "collapsed": false,
    "pycharm": {
     "name": "#%%\n"
    }
   }
  },
  {
   "cell_type": "code",
   "execution_count": 28,
   "outputs": [
    {
     "name": "stdout",
     "output_type": "stream",
     "text": [
      "Range anchors shape: torch.Size([178, 200, 1, 1, 2, 7])\n",
      "Range stride: tensor([[[[0.3955, 0.4000, 0.0000, 0.0000, 0.0000, 0.0000, 0.0000],\n",
      "          [0.3955, 0.4000, 0.0000, 0.0000, 0.0000, 0.0000, 0.0000]]]],\n",
      "       device='cuda:0')\n",
      "begin: tensor([[[[ 1.9775e-01, -3.9800e+01, -3.5000e-02,  3.9000e+00,  1.6000e+00,\n",
      "            1.5600e+00,  0.0000e+00],\n",
      "          [ 1.9775e-01, -3.9800e+01, -3.5000e-02,  3.9000e+00,  1.6000e+00,\n",
      "            1.5600e+00,  1.5700e+00]]]], device='cuda:0')\n",
      "end: tensor([[[[ 7.0202e+01,  3.9800e+01, -3.5000e-02,  3.9000e+00,  1.6000e+00,\n",
      "            1.5600e+00,  0.0000e+00],\n",
      "          [ 7.0202e+01,  3.9800e+01, -3.5000e-02,  3.9000e+00,  1.6000e+00,\n",
      "            1.5600e+00,  1.5700e+00]]]], device='cuda:0')\n"
     ]
    }
   ],
   "source": [
    "from basic.module.dense_head.anchor_generator.anchor_gen_base import AnchorGenerator\n",
    "anchor_generator = AnchorGenerator(anchor_gen_cfg, model_info_dict, class_type='Car', dtype=torch.float32)\n",
    "anchors = anchor_generator.gen_anchors(flatten_output=False, feature_map_size=np.array([1, 200, 178]))\n",
    "print(\"Range anchors shape:\", anchors.shape)\n",
    "print(\"Range stride:\", anchors[1, 1] - anchors[0, 0])\n",
    "print(\"begin:\", anchors[0, 0])\n",
    "print(\"end:\", anchors[-1, -1])"
   ],
   "metadata": {
    "collapsed": false,
    "pycharm": {
     "name": "#%%\n"
    }
   }
  },
  {
   "cell_type": "markdown",
   "source": [],
   "metadata": {
    "collapsed": false
   }
  },
  {
   "cell_type": "code",
   "execution_count": 29,
   "outputs": [
    {
     "name": "stdout",
     "output_type": "stream",
     "text": [
      "stride: tensor([0.3955, 0.4000, 4.0000])\n",
      "Stride anchors shape: torch.Size([178, 200, 1, 1, 2, 7])\n",
      "begin: tensor([[[[ 1.9775e-01, -3.9800e+01, -3.5000e-02,  3.9000e+00,  1.6000e+00,\n",
      "            1.5600e+00,  0.0000e+00],\n",
      "          [ 1.9775e-01, -3.9800e+01, -3.5000e-02,  3.9000e+00,  1.6000e+00,\n",
      "            1.5600e+00,  1.5700e+00]]]], device='cuda:0')\n",
      "end: tensor([[[[ 7.0202e+01,  3.9800e+01, -3.5000e-02,  3.9000e+00,  1.6000e+00,\n",
      "            1.5600e+00,  0.0000e+00],\n",
      "          [ 7.0202e+01,  3.9800e+01, -3.5000e-02,  3.9000e+00,  1.6000e+00,\n",
      "            1.5600e+00,  1.5700e+00]]]], device='cuda:0')\n",
      "output anchor shape: torch.Size([71200, 7])\n"
     ]
    }
   ],
   "source": [
    "anchor_generator.set_mode('Stride')\n",
    "anchors = anchor_generator.gen_anchors(flatten_output=False, feature_map_size=np.array([1, 200, 178]))\n",
    "print(\"stride:\", anchor_generator.stride)\n",
    "print(\"Stride anchors shape:\", anchors.shape)\n",
    "print(\"begin:\", anchors[0, 0])\n",
    "print(\"end:\", anchors[-1, -1])\n",
    "final_anchors = anchors.view(-1, 7)\n",
    "print(\"output anchor shape:\", final_anchors.shape)"
   ],
   "metadata": {
    "collapsed": false,
    "pycharm": {
     "name": "#%%\n"
    }
   }
  },
  {
   "cell_type": "markdown",
   "source": [
    "1.注意输出anchors的shape为176, 200, 1, 1, 2, 7。最后一个维度代表anchor的特征向量xyzlwhr，\n",
    "其他维度分别与x y z size rot的可枚举数量一致.当然最后输出的shape为(176x200x1x1x2, 7)\n",
    "2.在对齐体素中心的情况下，Range和Stride两种方案的结果都是一样的。假如点云的x轴范围为\\[0, 70.4\\]，\n",
    "而x轴对应的维度在特征图上大小为176.则均分后相邻点的距离为70.4 / 176 = 0.4。Range和Stride\n",
    "枚举X坐标的核心代码如下"
   ],
   "metadata": {
    "collapsed": false
   }
  },
  {
   "cell_type": "code",
   "execution_count": 30,
   "outputs": [],
   "source": [
    "ranges = torch.linspace(0, 70.4, 176)\n",
    "range_align_center = torch.linspace(0 + 0.2, 70.4 - 0.2, 176)\n",
    "stride = torch.arange(0, 176) * 0.4\n",
    "stride_align_center = stride + 0.4 / 2"
   ],
   "metadata": {
    "collapsed": false,
    "pycharm": {
     "name": "#%%\n"
    }
   }
  },
  {
   "cell_type": "code",
   "execution_count": 31,
   "outputs": [],
   "source": [
    "anchor_generator.set_mode('Range')"
   ],
   "metadata": {
    "collapsed": false,
    "pycharm": {
     "name": "#%%\n"
    }
   }
  },
  {
   "cell_type": "markdown",
   "source": [
    "随机绘制100个anchor box看看\n",
    "- 明显anchor 产生的全部BBox能覆盖整个点云cube范围"
   ],
   "metadata": {
    "collapsed": false
   }
  },
  {
   "cell_type": "code",
   "execution_count": 32,
   "outputs": [
    {
     "name": "stdout",
     "output_type": "stream",
     "text": [
      "Using matplotlib backend: Qt5Agg\n"
     ]
    }
   ],
   "source": [
    "%matplotlib auto\n",
    "anchors = anchor_generator.gen_anchors(flatten_output=True, feature_map_size=np.array([1, 200, 178]))\n",
    "w = VisualWindow(mode='3d')\n",
    "points = test_data['points']\n",
    "test_pc = points[points[:, 0] == 0][:, 1:]\n",
    "w.draw_point_cloud(pc=test_pc.cpu().numpy())\n",
    "sample_ids = torch.randperm(anchors.size(0))[:100]\n",
    "w.draw_boxes3d(boxes=anchors[sample_ids].cpu().numpy(), format='corner')"
   ],
   "metadata": {
    "collapsed": false,
    "pycharm": {
     "name": "#%%\n"
    }
   }
  },
  {
   "cell_type": "markdown",
   "source": [
    "anchor generator（二）\n",
    "- 在xyz坐标原点生成基本的anchors，然后通过stride。移动这些anchors"
   ],
   "metadata": {
    "collapsed": false
   }
  },
  {
   "cell_type": "markdown",
   "source": [
    "MultiClass Generator\n",
    "在同一feature map上为每种类别生成对应的anchor。输出\\[class_dim，xdim，ydim，zdim，size_dim,rot_dim,7\\]"
   ],
   "metadata": {
    "collapsed": false
   }
  },
  {
   "cell_type": "markdown",
   "source": [],
   "metadata": {
    "collapsed": false
   }
  },
  {
   "cell_type": "code",
   "execution_count": 33,
   "outputs": [],
   "source": [
    "# from basic.module.dense_head.anchor_generator.anchor_gen_base import MultiClsAnchorGenerator\n",
    "# mul_generator = MultiClsAnchorGenerator(anchor_gen_cfg, model_info_dict,\n",
    "#                                         feature_map_size=np.array([1, 200, 178],\n",
    "#                                         cls_list=['Car', 'Pedestrian', 'Cyclist'])\n",
    "# all_anchors = mul_generator.gen_anchors(flatten_output=False)\n",
    "# print(\"class_dim，xdim，ydim，zdim，size_dim,rot_dim,7:\", all_anchors.shape)\n",
    "# print(\"Car:\", all_anchors[0, 0, 0])\n",
    "# print(\"Pedestrian:\", all_anchors[1, 0, 0])\n",
    "# print(\"Cyclist\", all_anchors[2, 0, 0])"
   ],
   "metadata": {
    "collapsed": false,
    "pycharm": {
     "name": "#%%\n"
    }
   }
  },
  {
   "cell_type": "markdown",
   "source": [],
   "metadata": {
    "collapsed": false
   }
  },
  {
   "cell_type": "markdown",
   "source": [
    "Target assigner\n",
    "目的：1.训练时，为每个anchor指定类别标签和Boxes偏移量标签；\n",
    "输入：1.Anchors\\[K,7\\];2.Ground Truth Boxes\\[B,N,8\\],其中8=xyzhwlr+class_ind"
   ],
   "metadata": {
    "collapsed": false
   }
  },
  {
   "cell_type": "code",
   "execution_count": 34,
   "outputs": [
    {
     "name": "stdout",
     "output_type": "stream",
     "text": [
      "gt_box_temp: tensor([ 34.2874, -36.7568,  -0.5714,   3.3906,   1.3138,   1.4297,  -0.3682,\n",
      "          1.0000], device='cuda:0')\n",
      "{'BOX_ENCODER': {'NAME': 'ResidualCoder',\n",
      "                 'code_size': 7,\n",
      "                 'encode_angle_by_sincos': False},\n",
      " 'CLASS_THRESHOLD': [{'class_name': 'Car',\n",
      "                      'neg_threshold': 0.4,\n",
      "                      'pos_threshold': 0.55},\n",
      "                     {'class_name': 'Pedestrian',\n",
      "                      'neg_threshold': 0.35,\n",
      "                      'pos_threshold': 0.5},\n",
      "                     {'class_name': 'Cyclist',\n",
      "                      'neg_threshold': 0.35,\n",
      "                      'pos_threshold': 0.5}],\n",
      " 'DEVICE': 'cuda',\n",
      " 'FORCE_MATCH': True,\n",
      " 'IOU_CALCULATOR': {'NAME': 'Iou3DCalculator', 'use_bev_iou': True},\n",
      " 'MATCH_HEIGHT': False,\n",
      " 'NAME': 'MaxIouTargetAssigner',\n",
      " 'NORM_BY_NUM_EXAMPLES': False,\n",
      " 'POS_FRACTION': -1.0,\n",
      " 'SAMPLER': {'NAME': 'MaxSizeSubSampler', 'sample_size': 512}}\n"
     ]
    }
   ],
   "source": [
    "print(\"gt_box_temp:\", test_data['gt_boxes'][0, 0])\n",
    "assigner_cfg = model_cfg.DENSE_HEAD.TARGET_ASSIGNER_CONFIG\n",
    "pprint(assigner_cfg)"
   ],
   "metadata": {
    "collapsed": false,
    "pycharm": {
     "name": "#%%\n"
    }
   }
  },
  {
   "cell_type": "code",
   "execution_count": 35,
   "outputs": [
    {
     "name": "stdout",
     "output_type": "stream",
     "text": [
      "training True\n",
      "raw_point_feature_dims 4\n",
      "cur_point_feature_dims 4\n",
      "point_cloud_range [  0.  -40.   -3.   70.4  40.    1. ]\n",
      "voxel_size [0.05, 0.05, 0.1]\n",
      "grid_size [1408 1600   40]\n",
      "class_names ['Car']\n"
     ]
    }
   ],
   "source": [
    "for key, value in model_info_dict.items():\n",
    "    if key != 'module_list':\n",
    "        print(key, value)"
   ],
   "metadata": {
    "collapsed": false,
    "pycharm": {
     "name": "#%%\n"
    }
   }
  },
  {
   "cell_type": "code",
   "execution_count": 36,
   "outputs": [],
   "source": [
    "from basic.module.dense_head.target_assigner import MaxIouTargetAssigner\n",
    "target_assigner = MaxIouTargetAssigner(assigner_cfg, model_info_dict)"
   ],
   "metadata": {
    "collapsed": false,
    "pycharm": {
     "name": "#%%\n"
    }
   }
  },
  {
   "cell_type": "code",
   "execution_count": 37,
   "outputs": [
    {
     "name": "stdout",
     "output_type": "stream",
     "text": [
      "labels: tensor([[1., 1., 1., 1., 1., 1., 1., 1., 1., 1., 1., 1., 1., 1., 1., 1., 1.],\n",
      "        [1., 1., 1., 1., 1., 1., 1., 1., 1., 1., 1., 1., 1., 1., 0., 0., 0.],\n",
      "        [1., 1., 1., 1., 1., 1., 1., 1., 1., 1., 1., 1., 0., 0., 0., 0., 0.],\n",
      "        [1., 1., 1., 1., 1., 1., 1., 1., 1., 0., 0., 0., 0., 0., 0., 0., 0.]],\n",
      "       device='cuda:0')\n"
     ]
    }
   ],
   "source": [
    "import os\n",
    "os.environ['CUDA_LAUNCH_BLOCKING'] = \"1\"\n",
    "print(\"labels:\", test_data['gt_boxes'][:, :, -1])"
   ],
   "metadata": {
    "collapsed": false,
    "pycharm": {
     "name": "#%%\n"
    }
   }
  },
  {
   "cell_type": "code",
   "execution_count": 38,
   "outputs": [],
   "source": [
    "# all_anchors = mul_generator.gen_anchors(flatten_output=True).cuda()\n",
    "all_anchors = anchor_generator.gen_anchors(flatten_output=True, feature_map_size=np.array([1, 200, 178])).to(device)\n",
    "target_assigner.force_match = True\n",
    "# target_dict, batch_bbox_id_dict = target_assigner.assign(gts=test_data['gt_boxes'][..., :-1], bboxes=all_anchors, gt_labels=test_data['gt_boxes'][:, :, -1])\n",
    "assign_ret = target_assigner.assign(gts=test_data['gt_boxes'][..., :-1], bboxes=all_anchors, gt_labels=test_data['gt_boxes'][..., -1])"
   ],
   "metadata": {
    "collapsed": false,
    "pycharm": {
     "name": "#%%\n"
    }
   }
  },
  {
   "cell_type": "code",
   "execution_count": 39,
   "outputs": [
    {
     "data": {
      "text/plain": "tensor([[    0,     3,  6484],\n        [    0,     3,  6884],\n        [    0,     3,  7282],\n        ...,\n        [    3,     4, 60960],\n        [    3,     4, 61358],\n        [    3,     4, 61360]], device='cuda:0')"
     },
     "execution_count": 39,
     "metadata": {},
     "output_type": "execute_result"
    }
   ],
   "source": [
    "pos_tuples = assign_ret.pos_tuples\n",
    "neg_tuples = assign_ret.neg_tuples\n",
    "pos_tuples"
   ],
   "metadata": {
    "collapsed": false,
    "pycharm": {
     "name": "#%%\n"
    }
   }
  },
  {
   "cell_type": "code",
   "execution_count": 40,
   "outputs": [
    {
     "name": "stdout",
     "output_type": "stream",
     "text": [
      "tensor([0, 0, 0, 0, 0, 0, 0, 0, 0, 0, 0, 0, 0, 0, 0, 0, 0, 0, 0, 0, 0, 0, 0, 0,\n",
      "        0, 0, 0, 0, 0, 0, 0, 0, 0, 0, 0, 0, 0, 0, 0, 0, 0, 0, 0, 0, 0, 0, 0, 0,\n",
      "        0, 0, 0, 0, 0, 0, 0, 0, 0, 0, 0, 0, 0, 0, 0, 0, 0, 0, 0, 0, 0, 0, 0, 0,\n",
      "        0, 0, 0, 0, 0, 0, 0, 0, 0, 0, 0, 0, 0, 0, 0, 0, 0, 0, 0, 0, 0, 0, 0, 0,\n",
      "        0, 0, 0, 0, 0, 0, 0, 0, 0, 0, 0, 0, 0, 0, 0, 0, 0, 0, 0, 0, 0, 0, 0, 0,\n",
      "        0, 0, 1, 1, 1, 1, 1, 1, 1, 1, 1, 1, 1, 1, 1, 1, 1, 1, 1, 1, 1, 1, 1, 1,\n",
      "        1, 1, 1, 1, 1, 1, 1, 1, 1, 1, 1, 1, 1, 1, 1, 1, 1, 1, 1, 1, 1, 1, 1, 1,\n",
      "        1, 1, 1, 1, 1, 1, 1, 1, 1, 1, 1, 1, 1, 1, 1, 1, 1, 1, 1, 1, 1, 1, 1, 1,\n",
      "        1, 1, 1, 1, 1, 1, 1, 1, 1, 1, 1, 1, 1, 1, 1, 1, 1, 1, 1, 1, 1, 1, 1, 1,\n",
      "        2, 2, 2, 2, 2, 2, 2, 2, 2, 2, 2, 2, 2, 2, 2, 2, 2, 2, 2, 2, 2, 2, 2, 2,\n",
      "        2, 2, 2, 2, 2, 2, 2, 2, 2, 2, 2, 2, 2, 2, 2, 2, 2, 2, 2, 2, 2, 2, 2, 2,\n",
      "        2, 2, 2, 2, 2, 2, 2, 2, 2, 2, 2, 2, 2, 2, 2, 2, 2, 2, 2, 2, 2, 2, 2, 2,\n",
      "        2, 2, 2, 2, 2, 2, 2, 2, 2, 2, 2, 2, 2, 2, 2, 2, 2, 2, 2, 2, 3, 3, 3, 3,\n",
      "        3, 3, 3, 3, 3, 3, 3, 3, 3, 3, 3, 3, 3, 3, 3, 3, 3, 3, 3, 3, 3, 3, 3, 3,\n",
      "        3, 3, 3, 3, 3, 3, 3, 3, 3, 3, 3, 3, 3, 3, 3, 3, 3, 3, 3, 3, 3, 3, 3, 3,\n",
      "        3, 3, 3, 3, 3, 3, 3, 3, 3, 3, 3, 3], device='cuda:0')\n",
      "tensor([True, True, True, True, True, True, True, True, True, True, True, True,\n",
      "        True, True, True, True, True, True, True, True, True, True, True, True,\n",
      "        True, True, True, True, True, True, True, True, True, True, True, True,\n",
      "        True, True, True, True, True, True, True, True, True, True, True, True,\n",
      "        True, True, True, True, True, True, True, True, True, True, True, True,\n",
      "        True, True, True, True, True, True, True, True, True, True, True, True,\n",
      "        True, True, True, True, True, True, True, True, True, True, True, True,\n",
      "        True, True, True, True, True, True, True, True, True, True, True, True,\n",
      "        True, True, True, True, True, True, True, True, True, True, True, True,\n",
      "        True, True, True, True, True, True, True, True, True, True, True, True,\n",
      "        True, True, True, True, True, True, True, True, True, True, True, True,\n",
      "        True, True, True, True, True, True, True, True, True, True, True, True,\n",
      "        True, True, True, True, True, True, True, True, True, True, True, True,\n",
      "        True, True, True, True, True, True, True, True, True, True, True, True,\n",
      "        True, True, True, True, True, True, True, True, True, True, True, True,\n",
      "        True, True, True, True, True, True, True, True, True, True, True, True,\n",
      "        True, True, True, True, True, True, True, True, True, True, True, True,\n",
      "        True, True, True, True, True, True, True, True, True, True, True, True,\n",
      "        True, True, True, True, True, True, True, True, True, True, True, True,\n",
      "        True, True, True, True, True, True, True, True, True, True, True, True,\n",
      "        True, True, True, True, True, True, True, True, True, True, True, True,\n",
      "        True, True, True, True, True, True, True, True, True, True, True, True,\n",
      "        True, True, True, True, True, True, True, True, True, True, True, True,\n",
      "        True, True, True, True, True, True, True, True, True, True, True, True,\n",
      "        True, True, True, True, True, True, True, True, True, True, True, True,\n",
      "        True, True, True, True, True, True, True, True, True, True, True, True,\n",
      "        True, True, True, True, True, True, True, True, True, True, True, True,\n",
      "        True, True, True, True, True, True, True, True, True, True, True, True,\n",
      "        True, True, True, True, True, True, True, True, True, True, True, True,\n",
      "        True, True, True, True, True, True, True, True, True, True, True, True,\n",
      "        True, True, True, True, True, True, True, True, True, True, True, True],\n",
      "       device='cuda:0')\n",
      "tensor([ 6484,  6884,  7282,  7284,  7390,  7684,  7788,  7790,  8084,  8188,\n",
      "         8190,  8588,  8590, 10174, 10574, 10974, 11326, 11372, 11374, 11376,\n",
      "        11726, 11774, 12124, 12126, 12174, 12524, 12526, 12926, 18128, 18130,\n",
      "        18528, 18530, 18928, 18930, 19328, 19330, 21685, 21687, 21689, 22083,\n",
      "        22085, 22087, 22089, 22091, 22940, 23340, 23738, 23740, 24138, 24140,\n",
      "        24540, 24940, 25280, 25298, 25350, 25680, 25682, 25698, 25748, 25750,\n",
      "        26080, 26082, 26098, 26100, 26148, 26150, 26480, 26498, 26500, 26550,\n",
      "        26863, 26865, 26867, 26898, 27261, 27263, 27265, 27267, 27269, 27298,\n",
      "        28098, 28498, 28898, 28900, 29298, 29300, 29698, 30523, 30525, 30527,\n",
      "        30921, 30923, 30925, 30927, 30929, 32092, 32194, 32492, 32592, 32594,\n",
      "        32892, 32992, 32994, 33292, 33392, 33394, 33692, 33732, 33794, 34014,\n",
      "        34016, 34130, 34132, 34414, 34416, 34530, 34532, 34814, 34816, 34930,\n",
      "        34932, 35216,  2167,  2169,  2171,  2565,  2567,  2569,  2571,  2573,\n",
      "         3660,  3662,  4058,  4060,  4062,  4460,  4462,  4860,  5349,  5745,\n",
      "         5747,  5749,  5751,  5753,  6991,  6993,  6995,  6997,  6999,  7393,\n",
      "         7395,  8123,  8125,  8127,  8129,  8131,  8527,  8529, 12507, 12509,\n",
      "        12511, 12513, 12515, 12517, 12543, 12545, 12911, 12913, 12941, 12943,\n",
      "        12945, 12947, 16952, 17350, 17352, 17750, 17752, 18150, 18152, 18552,\n",
      "        18914, 19314, 19714, 20039, 20041, 20043, 20045, 20114, 20439, 20441,\n",
      "        20443, 20514, 21685, 21687, 21689, 21691, 22087, 22089, 22091, 28039,\n",
      "        28041, 28043, 28045, 28439, 28441, 28443, 33782, 34182, 34580, 34582,\n",
      "        34584, 34982, 35382, 38128, 38528, 38928,  6994,  7394,  7794,  7796,\n",
      "         8194,  8196,  8594, 12189, 12191, 12193, 12195, 12197, 12591, 12593,\n",
      "        12595, 14148, 14546, 14548, 14946, 14948, 15346, 15348, 15748, 17351,\n",
      "        17353, 17747, 17749, 17751, 17753, 17755, 22164, 22564, 22964, 22966,\n",
      "        22978, 23364, 23366, 23376, 23378, 23764, 23776, 23778, 24164, 24176,\n",
      "        24178, 25233, 25235, 25237, 25239, 25241, 25635, 25637, 25639, 31303,\n",
      "        31305, 31307, 31309, 31703, 31705, 31707, 31709, 31785, 31787, 32181,\n",
      "        32183, 32185, 32187, 32189, 32191, 32587, 33724, 34122, 34124, 34522,\n",
      "        34524, 34922, 34924, 35324, 38586, 38986, 38988, 39386, 39388, 39786,\n",
      "        39788, 41718, 42116, 42118, 42516, 42518, 42918, 43318, 12186, 12586,\n",
      "        12643, 12645, 12647, 12649, 12651, 12984, 12986, 13047, 13049, 13386,\n",
      "        13786, 21442, 21840, 21842, 22240, 22242, 22642, 23008, 23406, 23408,\n",
      "        23806, 23808, 24208, 24608, 28656, 28658, 29056, 29058, 29456, 29458,\n",
      "        29856, 29858, 31444, 31844, 32244, 32246, 32644, 32646, 33044, 33444,\n",
      "        43898, 44298, 44696, 44698, 44700, 45098, 45498, 51080, 51480, 51878,\n",
      "        51880, 52278, 52280, 52680, 60158, 60160, 60558, 60560, 60958, 60960,\n",
      "        61358, 61360], device='cuda:0')\n",
      "tensor([True, True, True, True, True, True, True, True, True, True, True, True,\n",
      "        True, True, True, True, True, True, True, True, True, True, True, True,\n",
      "        True, True, True, True, True, True, True, True, True, True, True, True,\n",
      "        True, True, True, True, True, True, True, True, True, True, True, True,\n",
      "        True, True, True, True, True, True, True, True, True, True, True, True,\n",
      "        True, True, True, True, True, True, True, True, True, True, True, True,\n",
      "        True, True, True, True, True, True, True, True, True, True, True, True,\n",
      "        True, True, True, True, True, True, True, True, True, True, True, True,\n",
      "        True, True, True, True, True, True, True, True, True, True, True, True,\n",
      "        True, True, True, True, True, True, True, True, True, True, True, True,\n",
      "        True, True, True, True, True, True, True, True, True, True, True, True,\n",
      "        True, True, True, True, True, True, True, True, True, True, True, True,\n",
      "        True, True, True, True, True, True, True, True, True, True, True, True,\n",
      "        True, True, True, True, True, True, True, True, True, True, True, True,\n",
      "        True, True, True, True, True, True, True, True, True, True, True, True,\n",
      "        True, True, True, True, True, True, True, True, True, True, True, True,\n",
      "        True, True, True, True, True, True, True, True, True, True, True, True,\n",
      "        True, True, True, True, True, True, True, True, True, True, True, True,\n",
      "        True, True, True, True, True, True, True, True, True, True, True, True,\n",
      "        True, True, True, True, True, True, True, True, True, True, True, True,\n",
      "        True, True, True, True, True, True, True, True, True, True, True, True,\n",
      "        True, True, True, True, True, True, True, True, True, True, True, True,\n",
      "        True, True, True, True, True, True, True, True, True, True, True, True,\n",
      "        True, True, True, True, True, True, True, True, True, True, True, True,\n",
      "        True, True, True, True, True, True, True, True, True, True, True, True,\n",
      "        True, True, True, True, True, True, True, True, True, True, True, True,\n",
      "        True, True, True, True, True, True, True, True, True, True, True, True,\n",
      "        True, True, True, True, True, True, True, True, True, True, True, True,\n",
      "        True, True, True, True, True, True, True, True, True, True, True, True,\n",
      "        True, True, True, True, True, True, True, True, True, True, True, True,\n",
      "        True, True, True, True, True, True, True, True, True, True, True, True],\n",
      "       device='cuda:0')\n"
     ]
    }
   ],
   "source": [
    "t1, t2 = torch.where(assign_ret.pos_tuples_dense >= 0)\n",
    "print(t1)\n",
    "print(t1 == pos_tuples[:, 0])\n",
    "print(t2)\n",
    "print(t2 == pos_tuples[:, 2])"
   ],
   "metadata": {
    "collapsed": false,
    "pycharm": {
     "name": "#%%\n"
    }
   }
  },
  {
   "cell_type": "code",
   "execution_count": 41,
   "outputs": [
    {
     "name": "stdout",
     "output_type": "stream",
     "text": [
      "tensor([[    0,  6484],\n",
      "        [    0,  6884],\n",
      "        [    0,  7282],\n",
      "        [    0,  7284],\n",
      "        [    0,  7390],\n",
      "        [    0,  7684],\n",
      "        [    0,  7788],\n",
      "        [    0,  7790],\n",
      "        [    0,  8084],\n",
      "        [    0,  8188],\n",
      "        [    0,  8190],\n",
      "        [    0,  8588],\n",
      "        [    0,  8590],\n",
      "        [    0, 10174],\n",
      "        [    0, 10574],\n",
      "        [    0, 10974],\n",
      "        [    0, 11326],\n",
      "        [    0, 11372],\n",
      "        [    0, 11374],\n",
      "        [    0, 11376],\n",
      "        [    0, 11726],\n",
      "        [    0, 11774],\n",
      "        [    0, 12124],\n",
      "        [    0, 12126],\n",
      "        [    0, 12174],\n",
      "        [    0, 12524],\n",
      "        [    0, 12526],\n",
      "        [    0, 12926],\n",
      "        [    0, 18128],\n",
      "        [    0, 18130],\n",
      "        [    0, 18528],\n",
      "        [    0, 18530],\n",
      "        [    0, 18928],\n",
      "        [    0, 18930],\n",
      "        [    0, 19328],\n",
      "        [    0, 19330],\n",
      "        [    0, 21685],\n",
      "        [    0, 21687],\n",
      "        [    0, 21689],\n",
      "        [    0, 22083],\n",
      "        [    0, 22085],\n",
      "        [    0, 22087],\n",
      "        [    0, 22089],\n",
      "        [    0, 22091],\n",
      "        [    0, 22940],\n",
      "        [    0, 23340],\n",
      "        [    0, 23738],\n",
      "        [    0, 23740],\n",
      "        [    0, 24138],\n",
      "        [    0, 24140],\n",
      "        [    0, 24540],\n",
      "        [    0, 24940],\n",
      "        [    0, 25280],\n",
      "        [    0, 25298],\n",
      "        [    0, 25350],\n",
      "        [    0, 25680],\n",
      "        [    0, 25682],\n",
      "        [    0, 25698],\n",
      "        [    0, 25748],\n",
      "        [    0, 25750],\n",
      "        [    0, 26080],\n",
      "        [    0, 26082],\n",
      "        [    0, 26098],\n",
      "        [    0, 26100],\n",
      "        [    0, 26148],\n",
      "        [    0, 26150],\n",
      "        [    0, 26480],\n",
      "        [    0, 26498],\n",
      "        [    0, 26500],\n",
      "        [    0, 26550],\n",
      "        [    0, 26863],\n",
      "        [    0, 26865],\n",
      "        [    0, 26867],\n",
      "        [    0, 26898],\n",
      "        [    0, 27261],\n",
      "        [    0, 27263],\n",
      "        [    0, 27265],\n",
      "        [    0, 27267],\n",
      "        [    0, 27269],\n",
      "        [    0, 27298],\n",
      "        [    0, 28098],\n",
      "        [    0, 28498],\n",
      "        [    0, 28898],\n",
      "        [    0, 28900],\n",
      "        [    0, 29298],\n",
      "        [    0, 29300],\n",
      "        [    0, 29698],\n",
      "        [    0, 30523],\n",
      "        [    0, 30525],\n",
      "        [    0, 30527],\n",
      "        [    0, 30921],\n",
      "        [    0, 30923],\n",
      "        [    0, 30925],\n",
      "        [    0, 30927],\n",
      "        [    0, 30929],\n",
      "        [    0, 32092],\n",
      "        [    0, 32194],\n",
      "        [    0, 32492],\n",
      "        [    0, 32592],\n",
      "        [    0, 32594],\n",
      "        [    0, 32892],\n",
      "        [    0, 32992],\n",
      "        [    0, 32994],\n",
      "        [    0, 33292],\n",
      "        [    0, 33392],\n",
      "        [    0, 33394],\n",
      "        [    0, 33692],\n",
      "        [    0, 33732],\n",
      "        [    0, 33794],\n",
      "        [    0, 34014],\n",
      "        [    0, 34016],\n",
      "        [    0, 34130],\n",
      "        [    0, 34132],\n",
      "        [    0, 34414],\n",
      "        [    0, 34416],\n",
      "        [    0, 34530],\n",
      "        [    0, 34532],\n",
      "        [    0, 34814],\n",
      "        [    0, 34816],\n",
      "        [    0, 34930],\n",
      "        [    0, 34932],\n",
      "        [    0, 35216],\n",
      "        [    1,  2167],\n",
      "        [    1,  2169],\n",
      "        [    1,  2171],\n",
      "        [    1,  2565],\n",
      "        [    1,  2567],\n",
      "        [    1,  2569],\n",
      "        [    1,  2571],\n",
      "        [    1,  2573],\n",
      "        [    1,  3660],\n",
      "        [    1,  3662],\n",
      "        [    1,  4058],\n",
      "        [    1,  4060],\n",
      "        [    1,  4062],\n",
      "        [    1,  4460],\n",
      "        [    1,  4462],\n",
      "        [    1,  4860],\n",
      "        [    1,  5349],\n",
      "        [    1,  5745],\n",
      "        [    1,  5747],\n",
      "        [    1,  5749],\n",
      "        [    1,  5751],\n",
      "        [    1,  5753],\n",
      "        [    1,  6991],\n",
      "        [    1,  6993],\n",
      "        [    1,  6995],\n",
      "        [    1,  6997],\n",
      "        [    1,  6999],\n",
      "        [    1,  7393],\n",
      "        [    1,  7395],\n",
      "        [    1,  8123],\n",
      "        [    1,  8125],\n",
      "        [    1,  8127],\n",
      "        [    1,  8129],\n",
      "        [    1,  8131],\n",
      "        [    1,  8527],\n",
      "        [    1,  8529],\n",
      "        [    1, 12507],\n",
      "        [    1, 12509],\n",
      "        [    1, 12511],\n",
      "        [    1, 12513],\n",
      "        [    1, 12515],\n",
      "        [    1, 12517],\n",
      "        [    1, 12543],\n",
      "        [    1, 12545],\n",
      "        [    1, 12911],\n",
      "        [    1, 12913],\n",
      "        [    1, 12941],\n",
      "        [    1, 12943],\n",
      "        [    1, 12945],\n",
      "        [    1, 12947],\n",
      "        [    1, 16952],\n",
      "        [    1, 17350],\n",
      "        [    1, 17352],\n",
      "        [    1, 17750],\n",
      "        [    1, 17752],\n",
      "        [    1, 18150],\n",
      "        [    1, 18152],\n",
      "        [    1, 18552],\n",
      "        [    1, 18914],\n",
      "        [    1, 19314],\n",
      "        [    1, 19714],\n",
      "        [    1, 20039],\n",
      "        [    1, 20041],\n",
      "        [    1, 20043],\n",
      "        [    1, 20045],\n",
      "        [    1, 20114],\n",
      "        [    1, 20439],\n",
      "        [    1, 20441],\n",
      "        [    1, 20443],\n",
      "        [    1, 20514],\n",
      "        [    1, 21685],\n",
      "        [    1, 21687],\n",
      "        [    1, 21689],\n",
      "        [    1, 21691],\n",
      "        [    1, 22087],\n",
      "        [    1, 22089],\n",
      "        [    1, 22091],\n",
      "        [    1, 28039],\n",
      "        [    1, 28041],\n",
      "        [    1, 28043],\n",
      "        [    1, 28045],\n",
      "        [    1, 28439],\n",
      "        [    1, 28441],\n",
      "        [    1, 28443],\n",
      "        [    1, 33782],\n",
      "        [    1, 34182],\n",
      "        [    1, 34580],\n",
      "        [    1, 34582],\n",
      "        [    1, 34584],\n",
      "        [    1, 34982],\n",
      "        [    1, 35382],\n",
      "        [    1, 38128],\n",
      "        [    1, 38528],\n",
      "        [    1, 38928],\n",
      "        [    2,  6994],\n",
      "        [    2,  7394],\n",
      "        [    2,  7794],\n",
      "        [    2,  7796],\n",
      "        [    2,  8194],\n",
      "        [    2,  8196],\n",
      "        [    2,  8594],\n",
      "        [    2, 12189],\n",
      "        [    2, 12191],\n",
      "        [    2, 12193],\n",
      "        [    2, 12195],\n",
      "        [    2, 12197],\n",
      "        [    2, 12591],\n",
      "        [    2, 12593],\n",
      "        [    2, 12595],\n",
      "        [    2, 14148],\n",
      "        [    2, 14546],\n",
      "        [    2, 14548],\n",
      "        [    2, 14946],\n",
      "        [    2, 14948],\n",
      "        [    2, 15346],\n",
      "        [    2, 15348],\n",
      "        [    2, 15748],\n",
      "        [    2, 17351],\n",
      "        [    2, 17353],\n",
      "        [    2, 17747],\n",
      "        [    2, 17749],\n",
      "        [    2, 17751],\n",
      "        [    2, 17753],\n",
      "        [    2, 17755],\n",
      "        [    2, 22164],\n",
      "        [    2, 22564],\n",
      "        [    2, 22964],\n",
      "        [    2, 22966],\n",
      "        [    2, 22978],\n",
      "        [    2, 23364],\n",
      "        [    2, 23366],\n",
      "        [    2, 23376],\n",
      "        [    2, 23378],\n",
      "        [    2, 23764],\n",
      "        [    2, 23776],\n",
      "        [    2, 23778],\n",
      "        [    2, 24164],\n",
      "        [    2, 24176],\n",
      "        [    2, 24178],\n",
      "        [    2, 25233],\n",
      "        [    2, 25235],\n",
      "        [    2, 25237],\n",
      "        [    2, 25239],\n",
      "        [    2, 25241],\n",
      "        [    2, 25635],\n",
      "        [    2, 25637],\n",
      "        [    2, 25639],\n",
      "        [    2, 31303],\n",
      "        [    2, 31305],\n",
      "        [    2, 31307],\n",
      "        [    2, 31309],\n",
      "        [    2, 31703],\n",
      "        [    2, 31705],\n",
      "        [    2, 31707],\n",
      "        [    2, 31709],\n",
      "        [    2, 31785],\n",
      "        [    2, 31787],\n",
      "        [    2, 32181],\n",
      "        [    2, 32183],\n",
      "        [    2, 32185],\n",
      "        [    2, 32187],\n",
      "        [    2, 32189],\n",
      "        [    2, 32191],\n",
      "        [    2, 32587],\n",
      "        [    2, 33724],\n",
      "        [    2, 34122],\n",
      "        [    2, 34124],\n",
      "        [    2, 34522],\n",
      "        [    2, 34524],\n",
      "        [    2, 34922],\n",
      "        [    2, 34924],\n",
      "        [    2, 35324],\n",
      "        [    2, 38586],\n",
      "        [    2, 38986],\n",
      "        [    2, 38988],\n",
      "        [    2, 39386],\n",
      "        [    2, 39388],\n",
      "        [    2, 39786],\n",
      "        [    2, 39788],\n",
      "        [    2, 41718],\n",
      "        [    2, 42116],\n",
      "        [    2, 42118],\n",
      "        [    2, 42516],\n",
      "        [    2, 42518],\n",
      "        [    2, 42918],\n",
      "        [    2, 43318],\n",
      "        [    3, 12186],\n",
      "        [    3, 12586],\n",
      "        [    3, 12643],\n",
      "        [    3, 12645],\n",
      "        [    3, 12647],\n",
      "        [    3, 12649],\n",
      "        [    3, 12651],\n",
      "        [    3, 12984],\n",
      "        [    3, 12986],\n",
      "        [    3, 13047],\n",
      "        [    3, 13049],\n",
      "        [    3, 13386],\n",
      "        [    3, 13786],\n",
      "        [    3, 21442],\n",
      "        [    3, 21840],\n",
      "        [    3, 21842],\n",
      "        [    3, 22240],\n",
      "        [    3, 22242],\n",
      "        [    3, 22642],\n",
      "        [    3, 23008],\n",
      "        [    3, 23406],\n",
      "        [    3, 23408],\n",
      "        [    3, 23806],\n",
      "        [    3, 23808],\n",
      "        [    3, 24208],\n",
      "        [    3, 24608],\n",
      "        [    3, 28656],\n",
      "        [    3, 28658],\n",
      "        [    3, 29056],\n",
      "        [    3, 29058],\n",
      "        [    3, 29456],\n",
      "        [    3, 29458],\n",
      "        [    3, 29856],\n",
      "        [    3, 29858],\n",
      "        [    3, 31444],\n",
      "        [    3, 31844],\n",
      "        [    3, 32244],\n",
      "        [    3, 32246],\n",
      "        [    3, 32644],\n",
      "        [    3, 32646],\n",
      "        [    3, 33044],\n",
      "        [    3, 33444],\n",
      "        [    3, 43898],\n",
      "        [    3, 44298],\n",
      "        [    3, 44696],\n",
      "        [    3, 44698],\n",
      "        [    3, 44700],\n",
      "        [    3, 45098],\n",
      "        [    3, 45498],\n",
      "        [    3, 51080],\n",
      "        [    3, 51480],\n",
      "        [    3, 51878],\n",
      "        [    3, 51880],\n",
      "        [    3, 52278],\n",
      "        [    3, 52280],\n",
      "        [    3, 52680],\n",
      "        [    3, 60158],\n",
      "        [    3, 60160],\n",
      "        [    3, 60558],\n",
      "        [    3, 60560],\n",
      "        [    3, 60958],\n",
      "        [    3, 60960],\n",
      "        [    3, 61358],\n",
      "        [    3, 61360]], device='cuda:0')\n",
      "tensor([True, True, True, True, True, True, True, True, True, True, True, True,\n",
      "        True, True, True, True, True, True, True, True, True, True, True, True,\n",
      "        True, True, True, True, True, True, True, True, True, True, True, True,\n",
      "        True, True, True, True, True, True, True, True, True, True, True, True,\n",
      "        True, True, True, True, True, True, True, True, True, True, True, True,\n",
      "        True, True, True, True, True, True, True, True, True, True, True, True,\n",
      "        True, True, True, True, True, True, True, True, True, True, True, True,\n",
      "        True, True, True, True, True, True, True, True, True, True, True, True,\n",
      "        True, True, True, True, True, True, True, True, True, True, True, True,\n",
      "        True, True, True, True, True, True, True, True, True, True, True, True,\n",
      "        True, True, True, True, True, True, True, True, True, True, True, True,\n",
      "        True, True, True, True, True, True, True, True, True, True, True, True,\n",
      "        True, True, True, True, True, True, True, True, True, True, True, True,\n",
      "        True, True, True, True, True, True, True, True, True, True, True, True,\n",
      "        True, True, True, True, True, True, True, True, True, True, True, True,\n",
      "        True, True, True, True, True, True, True, True, True, True, True, True,\n",
      "        True, True, True, True, True, True, True, True, True, True, True, True,\n",
      "        True, True, True, True, True, True, True, True, True, True, True, True,\n",
      "        True, True, True, True, True, True, True, True, True, True, True, True,\n",
      "        True, True, True, True, True, True, True, True, True, True, True, True,\n",
      "        True, True, True, True, True, True, True, True, True, True, True, True,\n",
      "        True, True, True, True, True, True, True, True, True, True, True, True,\n",
      "        True, True, True, True, True, True, True, True, True, True, True, True,\n",
      "        True, True, True, True, True, True, True, True, True, True, True, True,\n",
      "        True, True, True, True, True, True, True, True, True, True, True, True,\n",
      "        True, True, True, True, True, True, True, True, True, True, True, True,\n",
      "        True, True, True, True, True, True, True, True, True, True, True, True,\n",
      "        True, True, True, True, True, True, True, True, True, True, True, True,\n",
      "        True, True, True, True, True, True, True, True, True, True, True, True,\n",
      "        True, True, True, True, True, True, True, True, True, True, True, True,\n",
      "        True, True, True, True, True, True, True, True, True, True, True, True],\n",
      "       device='cuda:0')\n",
      "tensor([True, True, True, True, True, True, True, True, True, True, True, True,\n",
      "        True, True, True, True, True, True, True, True, True, True, True, True,\n",
      "        True, True, True, True, True, True, True, True, True, True, True, True,\n",
      "        True, True, True, True, True, True, True, True, True, True, True, True,\n",
      "        True, True, True, True, True, True, True, True, True, True, True, True,\n",
      "        True, True, True, True, True, True, True, True, True, True, True, True,\n",
      "        True, True, True, True, True, True, True, True, True, True, True, True,\n",
      "        True, True, True, True, True, True, True, True, True, True, True, True,\n",
      "        True, True, True, True, True, True, True, True, True, True, True, True,\n",
      "        True, True, True, True, True, True, True, True, True, True, True, True,\n",
      "        True, True, True, True, True, True, True, True, True, True, True, True,\n",
      "        True, True, True, True, True, True, True, True, True, True, True, True,\n",
      "        True, True, True, True, True, True, True, True, True, True, True, True,\n",
      "        True, True, True, True, True, True, True, True, True, True, True, True,\n",
      "        True, True, True, True, True, True, True, True, True, True, True, True,\n",
      "        True, True, True, True, True, True, True, True, True, True, True, True,\n",
      "        True, True, True, True, True, True, True, True, True, True, True, True,\n",
      "        True, True, True, True, True, True, True, True, True, True, True, True,\n",
      "        True, True, True, True, True, True, True, True, True, True, True, True,\n",
      "        True, True, True, True, True, True, True, True, True, True, True, True,\n",
      "        True, True, True, True, True, True, True, True, True, True, True, True,\n",
      "        True, True, True, True, True, True, True, True, True, True, True, True,\n",
      "        True, True, True, True, True, True, True, True, True, True, True, True,\n",
      "        True, True, True, True, True, True, True, True, True, True, True, True,\n",
      "        True, True, True, True, True, True, True, True, True, True, True, True,\n",
      "        True, True, True, True, True, True, True, True, True, True, True, True,\n",
      "        True, True, True, True, True, True, True, True, True, True, True, True,\n",
      "        True, True, True, True, True, True, True, True, True, True, True, True,\n",
      "        True, True, True, True, True, True, True, True, True, True, True, True,\n",
      "        True, True, True, True, True, True, True, True, True, True, True, True,\n",
      "        True, True, True, True, True, True, True, True, True, True, True, True],\n",
      "       device='cuda:0')\n"
     ]
    }
   ],
   "source": [
    "t = assign_ret.bbox_targets.nonzero()[:, :2].unique(dim=0)\n",
    "print(t)\n",
    "print(t[:,0] == pos_tuples[:, 0])\n",
    "print(t[:,1] == pos_tuples[:, 2])"
   ],
   "metadata": {
    "collapsed": false,
    "pycharm": {
     "name": "#%%\n"
    }
   }
  },
  {
   "cell_type": "code",
   "execution_count": 42,
   "outputs": [
    {
     "name": "stdout",
     "output_type": "stream",
     "text": [
      "tensor([ 6484,  6884,  7282,  7284,  7390,  7684,  7788,  7790,  8084,  8188,\n",
      "         8190,  8588,  8590, 10174, 10574, 10974, 11326, 11372, 11374, 11376,\n",
      "        11726, 11774, 12124, 12126, 12174, 12524, 12526, 12926, 18128, 18130,\n",
      "        18528, 18530, 18928, 18930, 19328, 19330, 21685, 21687, 21689, 22083,\n",
      "        22085, 22087, 22089, 22091, 22940, 23340, 23738, 23740, 24138, 24140,\n",
      "        24540, 24940, 25280, 25298, 25350, 25680, 25682, 25698, 25748, 25750,\n",
      "        26080, 26082, 26098, 26100, 26148, 26150, 26480, 26498, 26500, 26550,\n",
      "        26863, 26865, 26867, 26898, 27261, 27263, 27265, 27267, 27269, 27298,\n",
      "        28098, 28498, 28898, 28900, 29298, 29300, 29698, 30523, 30525, 30527,\n",
      "        30921, 30923, 30925, 30927, 30929, 32092, 32194, 32492, 32592, 32594,\n",
      "        32892, 32992, 32994, 33292, 33392, 33394, 33692, 33732, 33794, 34014,\n",
      "        34016, 34130, 34132, 34414, 34416, 34530, 34532, 34814, 34816, 34930,\n",
      "        34932, 35216,  2167,  2169,  2171,  2565,  2567,  2569,  2571,  2573,\n",
      "         3660,  3662,  4058,  4060,  4062,  4460,  4462,  4860,  5349,  5745,\n",
      "         5747,  5749,  5751,  5753,  6991,  6993,  6995,  6997,  6999,  7393,\n",
      "         7395,  8123,  8125,  8127,  8129,  8131,  8527,  8529, 12507, 12509,\n",
      "        12511, 12513, 12515, 12517, 12543, 12545, 12911, 12913, 12941, 12943,\n",
      "        12945, 12947, 16952, 17350, 17352, 17750, 17752, 18150, 18152, 18552,\n",
      "        18914, 19314, 19714, 20039, 20041, 20043, 20045, 20114, 20439, 20441,\n",
      "        20443, 20514, 21685, 21687, 21689, 21691, 22087, 22089, 22091, 28039,\n",
      "        28041, 28043, 28045, 28439, 28441, 28443, 33782, 34182, 34580, 34582,\n",
      "        34584, 34982, 35382, 38128, 38528, 38928,  6994,  7394,  7794,  7796,\n",
      "         8194,  8196,  8594, 12189, 12191, 12193, 12195, 12197, 12591, 12593,\n",
      "        12595, 14148, 14546, 14548, 14946, 14948, 15346, 15348, 15748, 17351,\n",
      "        17353, 17747, 17749, 17751, 17753, 17755, 22164, 22564, 22964, 22966,\n",
      "        22978, 23364, 23366, 23376, 23378, 23764, 23776, 23778, 24164, 24176,\n",
      "        24178, 25233, 25235, 25237, 25239, 25241, 25635, 25637, 25639, 31303,\n",
      "        31305, 31307, 31309, 31703, 31705, 31707, 31709, 31785, 31787, 32181,\n",
      "        32183, 32185, 32187, 32189, 32191, 32587, 33724, 34122, 34124, 34522,\n",
      "        34524, 34922, 34924, 35324, 38586, 38986, 38988, 39386, 39388, 39786,\n",
      "        39788, 41718, 42116, 42118, 42516, 42518, 42918, 43318, 12186, 12586,\n",
      "        12643, 12645, 12647, 12649, 12651, 12984, 12986, 13047, 13049, 13386,\n",
      "        13786, 21442, 21840, 21842, 22240, 22242, 22642, 23008, 23406, 23408,\n",
      "        23806, 23808, 24208, 24608, 28656, 28658, 29056, 29058, 29456, 29458,\n",
      "        29856, 29858, 31444, 31844, 32244, 32246, 32644, 32646, 33044, 33444,\n",
      "        43898, 44298, 44696, 44698, 44700, 45098, 45498, 51080, 51480, 51878,\n",
      "        51880, 52278, 52280, 52680, 60158, 60160, 60558, 60560, 60958, 60960,\n",
      "        61358, 61360], device='cuda:0')\n",
      "tensor([True, True, True, True, True, True, True, True, True, True, True, True,\n",
      "        True, True, True, True, True, True, True, True, True, True, True, True,\n",
      "        True, True, True, True, True, True, True, True, True, True, True, True,\n",
      "        True, True, True, True, True, True, True, True, True, True, True, True,\n",
      "        True, True, True, True, True, True, True, True, True, True, True, True,\n",
      "        True, True, True, True, True, True, True, True, True, True, True, True,\n",
      "        True, True, True, True, True, True, True, True, True, True, True, True,\n",
      "        True, True, True, True, True, True, True, True, True, True, True, True,\n",
      "        True, True, True, True, True, True, True, True, True, True, True, True,\n",
      "        True, True, True, True, True, True, True, True, True, True, True, True,\n",
      "        True, True, True, True, True, True, True, True, True, True, True, True,\n",
      "        True, True, True, True, True, True, True, True, True, True, True, True,\n",
      "        True, True, True, True, True, True, True, True, True, True, True, True,\n",
      "        True, True, True, True, True, True, True, True, True, True, True, True,\n",
      "        True, True, True, True, True, True, True, True, True, True, True, True,\n",
      "        True, True, True, True, True, True, True, True, True, True, True, True,\n",
      "        True, True, True, True, True, True, True, True, True, True, True, True,\n",
      "        True, True, True, True, True, True, True, True, True, True, True, True,\n",
      "        True, True, True, True, True, True, True, True, True, True, True, True,\n",
      "        True, True, True, True, True, True, True, True, True, True, True, True,\n",
      "        True, True, True, True, True, True, True, True, True, True, True, True,\n",
      "        True, True, True, True, True, True, True, True, True, True, True, True,\n",
      "        True, True, True, True, True, True, True, True, True, True, True, True,\n",
      "        True, True, True, True, True, True, True, True, True, True, True, True,\n",
      "        True, True, True, True, True, True, True, True, True, True, True, True,\n",
      "        True, True, True, True, True, True, True, True, True, True, True, True,\n",
      "        True, True, True, True, True, True, True, True, True, True, True, True,\n",
      "        True, True, True, True, True, True, True, True, True, True, True, True,\n",
      "        True, True, True, True, True, True, True, True, True, True, True, True,\n",
      "        True, True, True, True, True, True, True, True, True, True, True, True,\n",
      "        True, True, True, True, True, True, True, True, True, True, True, True],\n",
      "       device='cuda:0')\n"
     ]
    }
   ],
   "source": [
    "t = torch.where(assign_ret.bbox_weights == 1)[1]\n",
    "print(t)\n",
    "print(t == pos_tuples[:, -1])"
   ],
   "metadata": {
    "collapsed": false,
    "pycharm": {
     "name": "#%%\n"
    }
   }
  },
  {
   "cell_type": "code",
   "execution_count": 43,
   "outputs": [
    {
     "name": "stdout",
     "output_type": "stream",
     "text": [
      "tensor([   24,    77,   177,  ..., 71151, 71158, 71163], device='cuda:0')\n"
     ]
    },
    {
     "data": {
      "text/plain": "tensor([   24,    77,   177,  ..., 71151, 71158, 71163], device='cuda:0')"
     },
     "execution_count": 43,
     "metadata": {},
     "output_type": "execute_result"
    }
   ],
   "source": [
    "t = torch.where(assign_ret.cls_weights == 1)\n",
    "print(t[1].sort()[0])\n",
    "torch.cat([ pos_tuples[:, -1], neg_tuples[: ,-1]]).sort()[0]"
   ],
   "metadata": {
    "collapsed": false,
    "pycharm": {
     "name": "#%%\n"
    }
   }
  },
  {
   "cell_type": "markdown",
   "source": [
    "可视化每个场景中，通过target assign匹配的anchor bbox"
   ],
   "metadata": {
    "collapsed": false,
    "pycharm": {
     "name": "#%% md\n"
    }
   }
  },
  {
   "cell_type": "code",
   "execution_count": 44,
   "outputs": [
    {
     "name": "stdout",
     "output_type": "stream",
     "text": [
      "Using matplotlib backend: Qt5Agg\n",
      "tensor([ 6484,  6884,  7282,  7284,  7390,  7684,  7788,  7790,  8084,  8188,\n",
      "         8190,  8588,  8590, 10174, 10574, 10974, 11326, 11372, 11374, 11376,\n",
      "        11726, 11774, 12124, 12126, 12174, 12524, 12526, 12926, 18128, 18130,\n",
      "        18528, 18530, 18928, 18930, 19328, 19330, 21685, 21687, 21689, 22083,\n",
      "        22085, 22087, 22089, 22091, 22940, 23340, 23738, 23740, 24138, 24140,\n",
      "        24540, 24940, 25280, 25298, 25350, 25680, 25682, 25698, 25748, 25750,\n",
      "        26080, 26082, 26098, 26100, 26148, 26150, 26480, 26498, 26500, 26550,\n",
      "        26863, 26865, 26867, 26898, 27261, 27263, 27265, 27267, 27269, 27298,\n",
      "        28098, 28498, 28898, 28900, 29298, 29300, 29698, 30523, 30525, 30527,\n",
      "        30921, 30923, 30925, 30927, 30929, 32092, 32194, 32492, 32592, 32594,\n",
      "        32892, 32992, 32994, 33292, 33392, 33394, 33692, 33732, 33794, 34014,\n",
      "        34016, 34130, 34132, 34414, 34416, 34530, 34532, 34814, 34816, 34930,\n",
      "        34932, 35216], device='cuda:0')\n",
      "tensor([ 2167,  2169,  2171,  2565,  2567,  2569,  2571,  2573,  3660,  3662,\n",
      "         4058,  4060,  4062,  4460,  4462,  4860,  5349,  5745,  5747,  5749,\n",
      "         5751,  5753,  6991,  6993,  6995,  6997,  6999,  7393,  7395,  8123,\n",
      "         8125,  8127,  8129,  8131,  8527,  8529, 12507, 12509, 12511, 12513,\n",
      "        12515, 12517, 12543, 12545, 12911, 12913, 12941, 12943, 12945, 12947,\n",
      "        16952, 17350, 17352, 17750, 17752, 18150, 18152, 18552, 18914, 19314,\n",
      "        19714, 20039, 20041, 20043, 20045, 20114, 20439, 20441, 20443, 20514,\n",
      "        21685, 21687, 21689, 21691, 22087, 22089, 22091, 28039, 28041, 28043,\n",
      "        28045, 28439, 28441, 28443, 33782, 34182, 34580, 34582, 34584, 34982,\n",
      "        35382, 38128, 38528, 38928], device='cuda:0')\n",
      "tensor([ 6994,  7394,  7794,  7796,  8194,  8196,  8594, 12189, 12191, 12193,\n",
      "        12195, 12197, 12591, 12593, 12595, 14148, 14546, 14548, 14946, 14948,\n",
      "        15346, 15348, 15748, 17351, 17353, 17747, 17749, 17751, 17753, 17755,\n",
      "        22164, 22564, 22964, 22966, 22978, 23364, 23366, 23376, 23378, 23764,\n",
      "        23776, 23778, 24164, 24176, 24178, 25233, 25235, 25237, 25239, 25241,\n",
      "        25635, 25637, 25639, 31303, 31305, 31307, 31309, 31703, 31705, 31707,\n",
      "        31709, 31785, 31787, 32181, 32183, 32185, 32187, 32189, 32191, 32587,\n",
      "        33724, 34122, 34124, 34522, 34524, 34922, 34924, 35324, 38586, 38986,\n",
      "        38988, 39386, 39388, 39786, 39788, 41718, 42116, 42118, 42516, 42518,\n",
      "        42918, 43318], device='cuda:0')\n",
      "tensor([12186, 12586, 12643, 12645, 12647, 12649, 12651, 12984, 12986, 13047,\n",
      "        13049, 13386, 13786, 21442, 21840, 21842, 22240, 22242, 22642, 23008,\n",
      "        23406, 23408, 23806, 23808, 24208, 24608, 28656, 28658, 29056, 29058,\n",
      "        29456, 29458, 29856, 29858, 31444, 31844, 32244, 32246, 32644, 32646,\n",
      "        33044, 33444, 43898, 44298, 44696, 44698, 44700, 45098, 45498, 51080,\n",
      "        51480, 51878, 51880, 52278, 52280, 52680, 60158, 60160, 60558, 60560,\n",
      "        60958, 60960, 61358, 61360], device='cuda:0')\n"
     ]
    }
   ],
   "source": [
    "%matplotlib auto\n",
    "batch_bbox = assign_ret.pos_tuples\n",
    "batch_ids = batch_bbox[:, 0]\n",
    "bbox_ids = batch_bbox[:, 2]\n",
    "points = test_data['points']\n",
    "for i in range(batch_size):\n",
    "    mask = batch_ids == i\n",
    "    frame_bbox_ids = bbox_ids[mask]\n",
    "    if frame_bbox_ids.size(0) > 0:\n",
    "        print(frame_bbox_ids)\n",
    "        frame_pc = points[points[:, 0] == i][:, 1:]\n",
    "        frame_bbox = all_anchors[frame_bbox_ids]\n",
    "        frame_gt = test_data['gt_boxes'][i]\n",
    "        w = VisualWindow(mode='3d')\n",
    "        w.draw_point_cloud(frame_pc.cpu().numpy())\n",
    "        w.draw_boxes3d(frame_gt[:,:7].cpu().numpy())\n",
    "        w.draw_boxes3d(frame_bbox.cpu().numpy(), 'corner', c='r')\n",
    "        # break"
   ],
   "metadata": {
    "collapsed": false,
    "pycharm": {
     "name": "#%%\n"
    }
   }
  },
  {
   "cell_type": "markdown",
   "source": [
    "上面所有子模块组成基于anchor的Dense head：anchor head"
   ],
   "metadata": {
    "collapsed": false
   }
  },
  {
   "cell_type": "code",
   "execution_count": 45,
   "outputs": [
    {
     "name": "stdout",
     "output_type": "stream",
     "text": [
      "{'ANCHOR_GENERATOR_CONFIG': {'CLASS_CONFIG': [{'anchor_dims': 3,\n",
      "                                               'boxes_size': [[3.9, 1.6, 1.56]],\n",
      "                                               'center_aligned': True,\n",
      "                                               'class_name': 'Car',\n",
      "                                               'mode': 'Range',\n",
      "                                               'ratios': [1],\n",
      "                                               'road_plane_aligned': True,\n",
      "                                               'road_plane_height': -0.035,\n",
      "                                               'rotations': [0, 1.57]},\n",
      "                                              {'anchor_dims': 3,\n",
      "                                               'boxes_size': [[0.8, 0.6, 1.73]],\n",
      "                                               'center_aligned': True,\n",
      "                                               'class_name': 'Pedestrian',\n",
      "                                               'mode': 'Range',\n",
      "                                               'ratios': [1],\n",
      "                                               'road_plane_aligned': True,\n",
      "                                               'road_plane_height': -1.2,\n",
      "                                               'rotations': [0, 1.57]},\n",
      "                                              {'anchor_bottom_heights': [-0.6],\n",
      "                                               'anchor_dims': 3,\n",
      "                                               'boxes_size': [[1.76,\n",
      "                                                               0.6,\n",
      "                                                               1.73]],\n",
      "                                               'center_aligned': True,\n",
      "                                               'class_name': 'Cyclist',\n",
      "                                               'mode': 'Range',\n",
      "                                               'ratios': [1],\n",
      "                                               'road_plane_aligned': True,\n",
      "                                               'road_plane_height': -1.2,\n",
      "                                               'rotations': [0, 1.57]}],\n",
      "                             'DEVICE': 'cuda',\n",
      "                             'NAME': 'AnchorGenerator'},\n",
      " 'LOSS_CONFIG': {'CLS_LOSS': {'NAME': 'FocalLoss',\n",
      "                              'alpha': 0.75,\n",
      "                              'gamma': 2,\n",
      "                              'use_sigmoid': False},\n",
      "                 'LOSS_WEIGHTS': {'cls_weight': 1.0,\n",
      "                                  'code_weights': [1.0,\n",
      "                                                   1.0,\n",
      "                                                   1.0,\n",
      "                                                   1.0,\n",
      "                                                   1.0,\n",
      "                                                   1.0,\n",
      "                                                   1.0],\n",
      "                                  'dir_weight': 0.2,\n",
      "                                  'reg_weight': 2.0},\n",
      "                 'REG_LOSS': {'NAME': 'SmoothL1Loss', 'beta': 0.2}},\n",
      " 'NAME': 'Anchor3DHead',\n",
      " 'TARGET_ASSIGNER_CONFIG': {'BOX_ENCODER': {'NAME': 'ResidualCoder',\n",
      "                                            'code_size': 7,\n",
      "                                            'encode_angle_by_sincos': False},\n",
      "                            'CLASS_THRESHOLD': [{'class_name': 'Car',\n",
      "                                                 'neg_threshold': 0.4,\n",
      "                                                 'pos_threshold': 0.55},\n",
      "                                                {'class_name': 'Pedestrian',\n",
      "                                                 'neg_threshold': 0.35,\n",
      "                                                 'pos_threshold': 0.5},\n",
      "                                                {'class_name': 'Cyclist',\n",
      "                                                 'neg_threshold': 0.35,\n",
      "                                                 'pos_threshold': 0.5}],\n",
      "                            'DEVICE': 'cuda',\n",
      "                            'FORCE_MATCH': True,\n",
      "                            'IOU_CALCULATOR': {'NAME': 'Iou3DCalculator',\n",
      "                                               'use_bev_iou': True},\n",
      "                            'MATCH_HEIGHT': False,\n",
      "                            'NAME': 'MaxIouTargetAssigner',\n",
      "                            'NORM_BY_NUM_EXAMPLES': False,\n",
      "                            'POS_FRACTION': -1.0,\n",
      "                            'SAMPLER': {'NAME': 'MaxSizeSubSampler',\n",
      "                                        'sample_size': 512}},\n",
      " 'in_channels': 512,\n",
      " 'use_direction_classifier': True}\n"
     ]
    }
   ],
   "source": [
    "dense_head_cfg = model_cfg.DENSE_HEAD\n",
    "pprint(dense_head_cfg)"
   ],
   "metadata": {
    "collapsed": false,
    "pycharm": {
     "name": "#%%\n"
    }
   }
  },
  {
   "cell_type": "code",
   "execution_count": 46,
   "outputs": [
    {
     "data": {
      "text/plain": "{'cls_pred': tensor([[[ 0.0472,  0.1896],\n          [ 0.0864, -0.1015],\n          [ 0.0270,  0.1919],\n          ...,\n          [-0.0729,  0.2113],\n          [ 0.0480,  0.1261],\n          [-0.0521,  0.0649]],\n \n         [[ 0.0470,  0.1896],\n          [ 0.0864, -0.1015],\n          [ 0.0268,  0.1918],\n          ...,\n          [-0.0729,  0.2113],\n          [ 0.0480,  0.1261],\n          [-0.0521,  0.0649]],\n \n         [[ 0.0470,  0.1896],\n          [ 0.0864, -0.1015],\n          [ 0.0268,  0.1918],\n          ...,\n          [-0.0729,  0.2113],\n          [ 0.0480,  0.1261],\n          [-0.0521,  0.0649]],\n \n         [[ 0.0470,  0.1896],\n          [ 0.0864, -0.1015],\n          [ 0.0268,  0.1918],\n          ...,\n          [-0.0779,  0.2164],\n          [ 0.0498,  0.1297],\n          [-0.0545,  0.0742]]], device='cuda:0', grad_fn=<UnsafeViewBackward>),\n 'reg_pred': tensor([[[-0.1089, -0.0311,  0.0013,  ...,  0.1299,  0.0174, -0.0485],\n          [ 0.1816, -0.0382, -0.0508,  ..., -0.1204, -0.1244,  0.0154],\n          [-0.1948, -0.0370,  0.1045,  ...,  0.1580, -0.0048,  0.0195],\n          ...,\n          [ 0.1680, -0.0292, -0.0557,  ..., -0.0919, -0.0571, -0.0124],\n          [ 0.0333, -0.1408,  0.2050,  ...,  0.0874,  0.0595, -0.1117],\n          [ 0.2185, -0.0270, -0.0817,  ..., -0.1433,  0.0191,  0.0230]],\n \n         [[-0.1091, -0.0313,  0.0012,  ...,  0.1301,  0.0175, -0.0486],\n          [ 0.1816, -0.0381, -0.0507,  ..., -0.1206, -0.1244,  0.0154],\n          [-0.1944, -0.0371,  0.1042,  ...,  0.1579, -0.0050,  0.0196],\n          ...,\n          [ 0.1680, -0.0292, -0.0557,  ..., -0.0919, -0.0571, -0.0124],\n          [ 0.0333, -0.1408,  0.2050,  ...,  0.0874,  0.0595, -0.1117],\n          [ 0.2185, -0.0270, -0.0817,  ..., -0.1433,  0.0191,  0.0230]],\n \n         [[-0.1091, -0.0313,  0.0012,  ...,  0.1301,  0.0175, -0.0486],\n          [ 0.1816, -0.0381, -0.0507,  ..., -0.1206, -0.1244,  0.0154],\n          [-0.1944, -0.0371,  0.1042,  ...,  0.1579, -0.0050,  0.0196],\n          ...,\n          [ 0.1680, -0.0292, -0.0557,  ..., -0.0919, -0.0571, -0.0124],\n          [ 0.0333, -0.1408,  0.2050,  ...,  0.0874,  0.0595, -0.1117],\n          [ 0.2185, -0.0270, -0.0817,  ..., -0.1433,  0.0191,  0.0230]],\n \n         [[-0.1091, -0.0313,  0.0012,  ...,  0.1301,  0.0175, -0.0486],\n          [ 0.1816, -0.0381, -0.0507,  ..., -0.1206, -0.1244,  0.0154],\n          [-0.1944, -0.0371,  0.1042,  ...,  0.1579, -0.0050,  0.0196],\n          ...,\n          [ 0.1618, -0.0321, -0.0545,  ..., -0.0976, -0.0628, -0.0118],\n          [ 0.0429, -0.1421,  0.2049,  ...,  0.0948,  0.0632, -0.1100],\n          [ 0.2199, -0.0248, -0.0809,  ..., -0.1442,  0.0201,  0.0271]]],\n        device='cuda:0', grad_fn=<UnsafeViewBackward>),\n 'assign_result': <basic.datatype.assign_result.AssignResult at 0x7f2da4fb94f0>}"
     },
     "execution_count": 46,
     "metadata": {},
     "output_type": "execute_result"
    }
   ],
   "source": [
    "from basic.module.dense_head.anchor_head.anchor3d_head import Anchor3DHead\n",
    "anchor_head = Anchor3DHead(top_cfg, model_info_dict).to(device)\n",
    "output_dict = anchor_head(output)\n",
    "output_dict"
   ],
   "metadata": {
    "collapsed": false,
    "pycharm": {
     "name": "#%%\n"
    }
   }
  },
  {
   "cell_type": "markdown",
   "source": [
    "最后直接用模型配置文档生成SECOND模型"
   ],
   "metadata": {
    "collapsed": false
   }
  },
  {
   "cell_type": "code",
   "execution_count": 47,
   "outputs": [],
   "source": [
    "from basic.model.second import SECOND\n",
    "data_infos = dataloader.dataset.get_data_infos()\n",
    "model = SECOND(top_cfg, data_infos).cuda()"
   ],
   "metadata": {
    "collapsed": false,
    "pycharm": {
     "name": "#%%\n"
    }
   }
  },
  {
   "cell_type": "code",
   "execution_count": 48,
   "outputs": [
    {
     "data": {
      "text/plain": "tensor(11.0971, device='cuda:0', grad_fn=<AddBackward0>)"
     },
     "execution_count": 48,
     "metadata": {},
     "output_type": "execute_result"
    }
   ],
   "source": [
    "loss = model(test_data)\n",
    "loss['tol_loss']"
   ],
   "metadata": {
    "collapsed": false,
    "pycharm": {
     "name": "#%%\n"
    }
   }
  },
  {
   "cell_type": "markdown",
   "source": [
    "IOU"
   ],
   "metadata": {
    "collapsed": false
   }
  },
  {
   "cell_type": "code",
   "execution_count": 49,
   "outputs": [],
   "source": [
    "s = torch.randn(10, 1000, 4)\n",
    "max_s,arg_s = s.max(dim=-1)\n",
    "_,topk = max_s.topk(5, dim=1)"
   ],
   "metadata": {
    "collapsed": false,
    "pycharm": {
     "name": "#%%\n"
    }
   }
  },
  {
   "cell_type": "code",
   "execution_count": 50,
   "outputs": [
    {
     "data": {
      "text/plain": "tensor([[837, 470, 991,  24, 242],\n        [916,  73, 536, 467, 827],\n        [623, 915, 187, 905, 831],\n        [826, 705, 793, 430, 374],\n        [317, 165,  94, 425, 261],\n        [435, 220, 640, 574, 226],\n        [902, 884,  87, 125, 903],\n        [207, 333, 718, 926, 448],\n        [ 58, 518, 638, 139, 631],\n        [795, 522, 660,   5, 312]])"
     },
     "execution_count": 50,
     "metadata": {},
     "output_type": "execute_result"
    }
   ],
   "source": [
    "topk"
   ],
   "metadata": {
    "collapsed": false,
    "pycharm": {
     "name": "#%%\n"
    }
   }
  },
  {
   "cell_type": "code",
   "execution_count": 51,
   "outputs": [
    {
     "data": {
      "text/plain": "(tensor([0, 0, 0,  ..., 9, 9, 9]),\n tensor([  1,   2,   3,  ..., 995, 997, 998]))"
     },
     "execution_count": 51,
     "metadata": {},
     "output_type": "execute_result"
    }
   ],
   "source": [
    "torch.where(arg_s > 0)"
   ],
   "metadata": {
    "collapsed": false,
    "pycharm": {
     "name": "#%%\n"
    }
   }
  },
  {
   "cell_type": "code",
   "execution_count": 52,
   "outputs": [
    {
     "data": {
      "text/plain": "True"
     },
     "execution_count": 52,
     "metadata": {},
     "output_type": "execute_result"
    }
   ],
   "source": [
    "data = torch.arange(12).view(3,4)\n",
    "torch.tensor([0,1,2,3]) in data"
   ],
   "metadata": {
    "collapsed": false,
    "pycharm": {
     "name": "#%%\n"
    }
   }
  },
  {
   "cell_type": "code",
   "execution_count": 53,
   "outputs": [
    {
     "data": {
      "text/plain": "tensor([[ True,  True,  True,  True],\n        [False, False, False, False],\n        [False, False, False, False]])"
     },
     "execution_count": 53,
     "metadata": {},
     "output_type": "execute_result"
    }
   ],
   "source": [
    "data == torch.tensor([0,1,2,3])"
   ],
   "metadata": {
    "collapsed": false,
    "pycharm": {
     "name": "#%%\n"
    }
   }
  },
  {
   "cell_type": "code",
   "execution_count": 54,
   "outputs": [
    {
     "name": "stdout",
     "output_type": "stream",
     "text": [
      "tensor([0, 1, 2, 3])\n",
      "tensor([4, 5, 6, 7])\n",
      "tensor([ 8,  9, 10, 11])\n"
     ]
    }
   ],
   "source": [
    "for i in data:\n",
    "    print(i)"
   ],
   "metadata": {
    "collapsed": false,
    "pycharm": {
     "name": "#%%\n"
    }
   }
  },
  {
   "cell_type": "code",
   "execution_count": 55,
   "outputs": [],
   "source": [
    "data = torch.randint(0, 1000, (178, 200))"
   ],
   "metadata": {
    "collapsed": false,
    "pycharm": {
     "name": "#%%\n"
    }
   }
  },
  {
   "cell_type": "code",
   "execution_count": 56,
   "outputs": [
    {
     "data": {
      "text/plain": "tensor([554])"
     },
     "execution_count": 56,
     "metadata": {},
     "output_type": "execute_result"
    }
   ],
   "source": [
    "data.view(-1,1)[1234]"
   ],
   "metadata": {
    "collapsed": false,
    "pycharm": {
     "name": "#%%\n"
    }
   }
  },
  {
   "cell_type": "code",
   "execution_count": 57,
   "outputs": [
    {
     "data": {
      "text/plain": "tensor([112])"
     },
     "execution_count": 57,
     "metadata": {},
     "output_type": "execute_result"
    }
   ],
   "source": [
    "data.permute(1,0).reshape(-1,1)[1234]"
   ],
   "metadata": {
    "collapsed": false,
    "pycharm": {
     "name": "#%%\n"
    }
   }
  },
  {
   "cell_type": "code",
   "execution_count": 58,
   "outputs": [
    {
     "data": {
      "text/plain": "<function _VariableFunctionsClass.permute>"
     },
     "execution_count": 58,
     "metadata": {},
     "output_type": "execute_result"
    }
   ],
   "source": [
    "torch.permute"
   ],
   "metadata": {
    "collapsed": false,
    "pycharm": {
     "name": "#%%\n"
    }
   }
  }
 ],
 "metadata": {
  "kernelspec": {
   "display_name": "Python 3",
   "language": "python",
   "name": "python3"
  },
  "language_info": {
   "codemirror_mode": {
    "name": "ipython",
    "version": 2
   },
   "file_extension": ".py",
   "mimetype": "text/x-python",
   "name": "python",
   "nbconvert_exporter": "python",
   "pygments_lexer": "ipython2",
   "version": "2.7.6"
  }
 },
 "nbformat": 4,
 "nbformat_minor": 0
}